{
 "cells": [
  {
   "cell_type": "markdown",
   "metadata": {},
   "source": [
    "#  Introduction to Python\n",
    "## Exercise 2: First steps\n",
    "\n",
    "Annika Bork-Unkelbach, contact: annika.bork-unkelbach@kit.edu, Jutta Vüllers, contact: jutta.vuellers@kit.edu, Julia Fuchs, contact: julia.fuchs@kit.edu"
   ]
  },
  {
   "cell_type": "markdown",
   "metadata": {},
   "source": [
    "### Learning objectives: \n",
    "\n",
    "    1. Information or \"How to work with Jupyter Notebook\"\n",
    "    2. Print function\n",
    "    3. Input function\n",
    "    4. Get and change data types\n",
    "    5. Your turn! First exercises in Python\n",
    "    6. Data type \"string\"\n",
    "    7. Your turn!\n",
    "    8. Data type \"list\"\n",
    "    9. Your turn!\n",
    "    10. Data type \"tuple\"\n",
    " \n",
    "\n",
    "### Excercise submitted until:"
   ]
  },
  {
   "cell_type": "markdown",
   "metadata": {},
   "source": [
    "---\n",
    "---\n",
    "## 1. Information:\n",
    "- With `help(Command)` you can get information about the command. \n",
    "- cells starting with \"`In [ ]:`\" or \"`[ ]:`\" are Python-Code cells (at least in jupyter notebook/jupyter lab. This might vary for other IDEs)\n",
    "- Cells can be executed with **STRG+Enter**. When pressing  **SHIFT+Enter** the code will be executed and the next cell is selected.\n",
    "- `print()` is used to produce output to the terminal\n",
    "\n",
    "#### some more useful shortcuts\n",
    "- **Enter** will take you in edit mode, **Esc** will take you into command mode\n",
    "- **a** to insert a new cell above the current cell, **b** to insert a new cell below. \n",
    "- **m** to change the current cell to Markdown (Text/Comment), **y** to change it back to code.\n",
    "- **DD** to delete a cell\n",
    "    \n",
    "    \n",
    "**Please try the following code by executing the individual cells. You can also try to add a new empty cell, switch between markdown and code cells, etc**"
   ]
  },
  {
   "cell_type": "code",
   "execution_count": null,
   "metadata": {
    "scrolled": true
   },
   "outputs": [],
   "source": [
    "help(print)"
   ]
  },
  {
   "cell_type": "code",
   "execution_count": null,
   "metadata": {},
   "outputs": [],
   "source": [
    "print(\"Hello World\")"
   ]
  },
  {
   "cell_type": "markdown",
   "metadata": {},
   "source": [
    "It is possible to put multiple rows in one cell: "
   ]
  },
  {
   "cell_type": "code",
   "execution_count": null,
   "metadata": {
    "scrolled": true
   },
   "outputs": [],
   "source": [
    "a = 5\n",
    "b = 13\n",
    "print(a + b)"
   ]
  },
  {
   "cell_type": "markdown",
   "metadata": {},
   "source": [
    "- If the **last row** in a cell contains a value, it will be displayed below the cell as output. You don't need `print` for this "
   ]
  },
  {
   "cell_type": "code",
   "execution_count": null,
   "metadata": {
    "scrolled": true
   },
   "outputs": [],
   "source": [
    "print(b)  # will be displayed because we used print\n",
    "a         # will not be displayed\n",
    "a + b     # will be displayed because it is the last row of the cell"
   ]
  },
  {
   "cell_type": "markdown",
   "metadata": {},
   "source": [
    "---\n",
    "\n",
    "## 2. Build in function ```print```\n",
    "\n",
    "### (a) Calling multiple arguments\n",
    "When using print, you can output multiple variables by separating them with a comma. Try to execute the next cell.  "
   ]
  },
  {
   "cell_type": "code",
   "execution_count": null,
   "metadata": {},
   "outputs": [],
   "source": [
    "print(\"I am \", 26, \"years old.\")\n"
   ]
  },
  {
   "cell_type": "markdown",
   "metadata": {},
   "source": [
    "You can print whatever data type you like. Print always converts it to a string to print. Try the following or use your own examples:"
   ]
  },
  {
   "cell_type": "code",
   "execution_count": null,
   "metadata": {},
   "outputs": [],
   "source": [
    "print(3.24)       # floats\n",
    "print([2,4,5,7])  # lists\n",
    "print('Hello ', [3,'top',2.3])"
   ]
  },
  {
   "cell_type": "markdown",
   "metadata": {},
   "source": [
    "### (b) keyword arguments `sep` and `end`\n",
    "Keyword arguments serve as additional input to a function. \n",
    "Execute the following cell. What does `sep` and `end` do?"
   ]
  },
  {
   "cell_type": "code",
   "execution_count": null,
   "metadata": {},
   "outputs": [],
   "source": [
    "print('home', 'user', 'documents', sep='/')"
   ]
  },
  {
   "cell_type": "code",
   "execution_count": null,
   "metadata": {},
   "outputs": [],
   "source": [
    "print(\"Nice to\")\n",
    "print(\"meet you\",end='!')"
   ]
  },
  {
   "cell_type": "code",
   "execution_count": null,
   "metadata": {},
   "outputs": [],
   "source": [
    "print('I want', 'to have', 'ice cream!', sep=\"-\", end=\"Stop\")"
   ]
  },
  {
   "cell_type": "markdown",
   "metadata": {},
   "source": [
    "---\n",
    "\n",
    "## 3. Build in function `input`\n",
    "\n",
    "The build in function `input` allows to read in strings from the keyboard. When calling `input` you can include a command prompt as paramter. E.g. `input(\"please enter a number: \")`"
   ]
  },
  {
   "cell_type": "code",
   "execution_count": null,
   "metadata": {},
   "outputs": [],
   "source": [
    "x = input(\"Please enter a number: \")\n",
    "print(x)"
   ]
  },
  {
   "cell_type": "markdown",
   "metadata": {},
   "source": [
    "---\n",
    "\n",
    "## 4. Get and change data types\n",
    "\n",
    "### (a) The function `type()`\n",
    "Every variable has a certain data type, which you can get using the function `type()`. \n",
    "`type(1)` gives you `<class 'int'>`\n",
    "\n",
    "Given is following list `lst = [1.0, 1+3, 1+3.0j, \"1\", True, [1,2,3], {1:100,2:200}, {1,2,3}, print]`.  \n",
    "Please ouput the data type of each list element, using `print()` and `type()`. "
   ]
  },
  {
   "cell_type": "markdown",
   "metadata": {},
   "source": [
    "### (b) Change data type\n",
    "With the functions `int()`, `float()`, `str()` we can change the data type of a variable\n",
    "\n",
    "Given are following expressions: `1+3`, `\"1\"+\"3\"`, `1+\"3\"`. Add the necessary data type functions to get `4.0` or `13` as an output\n"
   ]
  },
  {
   "cell_type": "markdown",
   "metadata": {},
   "source": [
    "---\n",
    "\n",
    "## 5. Your turn!\n"
   ]
  },
  {
   "cell_type": "markdown",
   "metadata": {},
   "source": [
    "## 5.1 Calculate the area of a room\n",
    "Write a program that reads the length and width of a room from the user, calculates the area and prints it back to the user. Don't forget to comment your code!"
   ]
  },
  {
   "cell_type": "markdown",
   "metadata": {},
   "source": [
    "## 5.2 Calculating tip\n",
    "Write a program that asks the user for the cost of a meal and the local tip rate in %. Calculate the tip and return everything (including the total cost) back to the user. Don't forget the comments!"
   ]
  },
  {
   "cell_type": "markdown",
   "metadata": {},
   "source": [
    "## 5.3 Celsius to Fahrenheit and Kelvin\n",
    "Write a program that asks the user for the temperature in Celsius and calculates the according Fahrenheit and Kelvin values. Return everything back to the user. Don't forget the comments in your code!"
   ]
  },
  {
   "cell_type": "markdown",
   "metadata": {},
   "source": [
    "---\n",
    "## 6. Data type `str` \n",
    "\n",
    "### (a) Concatenation of strings\n",
    "What happens to the individual strings `'Hello '` `'world'` if we use the `+` operator? `'Hello ' + 'world.'`"
   ]
  },
  {
   "cell_type": "code",
   "execution_count": null,
   "metadata": {},
   "outputs": [],
   "source": [
    "s='Hello ' + 'world.'\n",
    "print(s)"
   ]
  },
  {
   "cell_type": "markdown",
   "metadata": {},
   "source": [
    "### (b) String methods\n",
    "Try and checkout following methods with the previously definded string `s`: `s.lower()`, `s.upper()`,`s.replace()`,`s.count()`\n",
    "You can find out more about the methods using `help(' '.upper)`\n",
    "You can think of a method as a piece of action (code) that Python can perform on a given piece of data. The data is specified before the '.' In the example above the data is stored in the string 's'."
   ]
  },
  {
   "cell_type": "code",
   "execution_count": null,
   "metadata": {},
   "outputs": [],
   "source": []
  },
  {
   "cell_type": "markdown",
   "metadata": {},
   "source": [
    "with `join` we can concatenate several strings, e.g. from a list, by using a connection string `cs`. Syntax: `'cs'.join(list)`\n",
    "Use this method to create the following strings `Hello world` and `Hello/world!` from the given list. \n"
   ]
  },
  {
   "cell_type": "code",
   "execution_count": null,
   "metadata": {},
   "outputs": [],
   "source": [
    "string_list = [\"Hello\", \"world!\"]\n"
   ]
  },
  {
   "cell_type": "markdown",
   "metadata": {},
   "source": [
    "with `split` we are able to split strings using a defined delimiter string. Syntax: `my_string.split(sep=' ' )`\\\n",
    "Try to split the given string by using the delimiters `','` and `' '`. What is the difference? "
   ]
  },
  {
   "cell_type": "code",
   "execution_count": null,
   "metadata": {},
   "outputs": [],
   "source": [
    "my_string = 'Anna, Tom, Julia, Dave'\n"
   ]
  },
  {
   "cell_type": "markdown",
   "metadata": {},
   "source": [
    "### (c) Accessing and slicing \n",
    "Subset of strings can be accessed using the slice operator \\\n",
    "    `[index]` for individual elements \\\n",
    "    `[start:stop]` for a range. start index inclusive, stop index exclusive\\\n",
    "    `[start:stop:step]` for a range with step size other than 1\\\n",
    "Indices start with 0 and end with -1 for the end of the string/list. Negative indexing possible. \n",
    "Nice to know: All three parameters are optional and have default paramters (start=0, end=-1,step=1). \n",
    "\n",
    "Create a string 'Hello world!' and try to print:\n",
    " - the first character of the string, \n",
    " - the second word `world`\n",
    " - only the last element of the string `!`\n",
    " - every second character\n",
    " "
   ]
  },
  {
   "cell_type": "code",
   "execution_count": null,
   "metadata": {},
   "outputs": [],
   "source": []
  },
  {
   "cell_type": "markdown",
   "metadata": {},
   "source": [
    "---\n",
    "\n",
    "## 7. Your turn!\n"
   ]
  },
  {
   "cell_type": "markdown",
   "metadata": {},
   "source": [
    "## 7.1 Sum of the digits in an integer\n",
    "Write a program that reads a 4 digit integer from the user and calculates the sum of its digits. Return the result to the user. Don't forget to make comments!"
   ]
  },
  {
   "cell_type": "markdown",
   "metadata": {},
   "source": [
    "---\n",
    "## 8. Data type `list`\n",
    "\n",
    "Just like strings, `list` indices start at 0 and can be accessed by the same slice operations. \n"
   ]
  },
  {
   "cell_type": "markdown",
   "metadata": {},
   "source": [
    "### (a) Accessing and slicing \n",
    "Try to guess the output of the following commands before you execute the cell:"
   ]
  },
  {
   "cell_type": "code",
   "execution_count": null,
   "metadata": {},
   "outputs": [],
   "source": [
    "lst2 = [1, 2, 3, 4, 5,6,7,8,9];\n",
    "print(lst2[::3])\n",
    "print(lst2[:5:2])\n",
    "print(lst2[2::2])\n"
   ]
  },
  {
   "cell_type": "markdown",
   "metadata": {},
   "source": [
    "If a `list` element is iterable you can apply the slice operator on that element to get a specific character/number. Try the following code:"
   ]
  },
  {
   "cell_type": "code",
   "execution_count": null,
   "metadata": {},
   "outputs": [],
   "source": [
    "lst1 = ['apple', 'bananas', [1,2,3] ];\n",
    "print( lst1[2][1])\n",
    "print( lst1[1][:3])\n",
    "\n"
   ]
  },
  {
   "cell_type": "markdown",
   "metadata": {},
   "source": [
    "### (b) Updating lists\n",
    "You can update single or multiple elements of lists by giving the slice on the left-hand side of the assignment operator. e.g. `list1[0]=5`\n",
    "\n",
    "Update the element `[1,2,3]` to `'cherries'` in lst1 and print lst1 to see if it was successful\n",
    "    "
   ]
  },
  {
   "cell_type": "code",
   "execution_count": null,
   "metadata": {},
   "outputs": [],
   "source": []
  },
  {
   "cell_type": "markdown",
   "metadata": {},
   "source": [
    "### (c) deleting elements\n",
    "\n",
    "If you know the index of an element you want to delete you can use `del list[index]`. You can also delete multiple elements at once. Try to delete the second and third element from lst1"
   ]
  },
  {
   "cell_type": "code",
   "execution_count": null,
   "metadata": {},
   "outputs": [],
   "source": []
  },
  {
   "cell_type": "markdown",
   "metadata": {},
   "source": [
    "### (d) list methods\n",
    "Some important methods for lists are: `append`, `insert`,`extend`,`pop`,`remove`,`sort`,`index`,`count`,`reverse` \n",
    "Using the help option e.g. `help(list.index)`, please familiarise yourself with these methods and try them in the following cell\n"
   ]
  },
  {
   "cell_type": "code",
   "execution_count": null,
   "metadata": {},
   "outputs": [],
   "source": []
  },
  {
   "cell_type": "markdown",
   "metadata": {},
   "source": [
    "---\n",
    "## 9. Your turn!"
   ]
  },
  {
   "cell_type": "markdown",
   "metadata": {},
   "source": [
    "## 9.1 Sorted list of integers\n",
    "Write a program that lets a user give 5 arbitrary integers, store everything in a list and display a sorted version of that list (from smallest to largest) to the user. Don't forget the comments!"
   ]
  },
  {
   "cell_type": "markdown",
   "metadata": {},
   "source": [
    "## 9.2 Odd and even numbers\n",
    "Write a program that print a list with all integers from 1 to 20 to the user. Then, use slicing to create a list off all the odd and even numbers (each). Print both new lists to the user. Don't forget to comment everything!"
   ]
  },
  {
   "cell_type": "markdown",
   "metadata": {},
   "source": [
    "---\n",
    "## 10. Data type `tuple`\n",
    "\n",
    "Tuples are unchangeable but there are ways to get around this limitation. \n",
    "- Try to add 'cherry' to tpl1 by converting tpl1 to a list, append the element and convert it back to a tuple. \n",
    "\n"
   ]
  },
  {
   "cell_type": "code",
   "execution_count": null,
   "metadata": {},
   "outputs": [],
   "source": [
    "tpl1=('banana','orange','apple')\n",
    "\n"
   ]
  },
  {
   "cell_type": "markdown",
   "metadata": {},
   "source": [
    "you can also add another tuple with the desired items to the first tuple:"
   ]
  },
  {
   "cell_type": "code",
   "execution_count": null,
   "metadata": {},
   "outputs": [],
   "source": [
    "tpl1=('banana','orange','apple')\n",
    "tpl2=('cherry',)   # don't forget the comma, otherwise it will not be recognised as a tuple\n",
    "tpl1 += tpl2\n",
    "print(tpl1)"
   ]
  }
 ],
 "metadata": {
  "kernelspec": {
   "display_name": "Python 3 (ipykernel)",
   "language": "python",
   "name": "python3"
  },
  "language_info": {
   "codemirror_mode": {
    "name": "ipython",
    "version": 3
   },
   "file_extension": ".py",
   "mimetype": "text/x-python",
   "name": "python",
   "nbconvert_exporter": "python",
   "pygments_lexer": "ipython3",
   "version": "3.11.5"
  }
 },
 "nbformat": 4,
 "nbformat_minor": 4
}
