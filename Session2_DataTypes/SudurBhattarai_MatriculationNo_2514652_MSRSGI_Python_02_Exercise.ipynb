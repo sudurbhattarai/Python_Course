{
 "cells": [
  {
   "cell_type": "markdown",
   "metadata": {},
   "source": [
    "#  Introduction to Python\n",
    "## Exercise 2: First steps\n",
    "\n",
    "Annika Bork-Unkelbach, contact: annika.bork-unkelbach@kit.edu, Jutta Vüllers, contact: jutta.vuellers@kit.edu, Julia Fuchs, contact: julia.fuchs@kit.edu"
   ]
  },
  {
   "cell_type": "markdown",
   "metadata": {},
   "source": [
    "### Learning objectives: \n",
    "\n",
    "    1. Information or \"How to work with Jupyter Notebook\"\n",
    "    2. Print function\n",
    "    3. Input function\n",
    "    4. Get and change data types\n",
    "    5. Your turn! First exercises in Python\n",
    "    6. Data type \"string\"\n",
    "    7. Your turn!\n",
    "    8. Data type \"list\"\n",
    "    9. Your turn!\n",
    "    10. Data type \"tuple\"\n",
    " \n",
    "\n",
    "### Excercise submitted until: "
   ]
  },
  {
   "cell_type": "markdown",
   "metadata": {},
   "source": [
    "## Submitted By:\n",
    "Name: Sudur Bhattarai;\n",
    "Matriculation Number: 2514652;\n",
    "Faculty: Msc. in Remote Sensing and Geoinformatics;\n",
    "Contact: uhkmj@student.kit.edu"
   ]
  },
  {
   "cell_type": "markdown",
   "metadata": {},
   "source": [
    "---\n",
    "---\n",
    "## 1. Information:\n",
    "- With `help(Command)` you can get information about the command. \n",
    "- cells starting with \"`In [ ]:`\" or \"`[ ]:`\" are Python-Code cells (at least in jupyter notebook/jupyter lab. This might vary for other IDEs)\n",
    "- Cells can be executed with **STRG+Enter**. When pressing  **SHIFT+Enter** the code will be executed and the next cell is selected.\n",
    "- `print()` is used to produce output to the terminal\n",
    "\n",
    "#### some more useful shortcuts\n",
    "- **Enter** will take you in edit mode, **Esc** will take you into command mode\n",
    "- **a** to insert a new cell above the current cell, **b** to insert a new cell below. \n",
    "- **m** to change the current cell to Markdown (Text/Comment), **y** to change it back to code.\n",
    "- **DD** to delete a cell\n",
    "    \n",
    "    \n",
    "**Please try the following code by executing the individual cells. You can also try to add a new empty cell, switch between markdown and code cells, etc**"
   ]
  },
  {
   "cell_type": "code",
   "execution_count": 17,
   "metadata": {
    "scrolled": true
   },
   "outputs": [
    {
     "name": "stdout",
     "output_type": "stream",
     "text": [
      "Help on built-in function print in module builtins:\n",
      "\n",
      "print(*args, sep=' ', end='\\n', file=None, flush=False)\n",
      "    Prints the values to a stream, or to sys.stdout by default.\n",
      "\n",
      "    sep\n",
      "      string inserted between values, default a space.\n",
      "    end\n",
      "      string appended after the last value, default a newline.\n",
      "    file\n",
      "      a file-like object (stream); defaults to the current sys.stdout.\n",
      "    flush\n",
      "      whether to forcibly flush the stream.\n",
      "\n"
     ]
    }
   ],
   "source": [
    "help(print)"
   ]
  },
  {
   "cell_type": "code",
   "execution_count": 18,
   "metadata": {},
   "outputs": [
    {
     "name": "stdout",
     "output_type": "stream",
     "text": [
      "Hello World\n"
     ]
    }
   ],
   "source": [
    "print(\"Hello World\")"
   ]
  },
  {
   "cell_type": "markdown",
   "metadata": {},
   "source": [
    "It is possible to put multiple rows in one cell: "
   ]
  },
  {
   "cell_type": "code",
   "execution_count": 19,
   "metadata": {
    "scrolled": true
   },
   "outputs": [
    {
     "name": "stdout",
     "output_type": "stream",
     "text": [
      "18\n"
     ]
    }
   ],
   "source": [
    "a = 5\n",
    "b = 13\n",
    "print(a + b)"
   ]
  },
  {
   "cell_type": "markdown",
   "metadata": {},
   "source": [
    "- If the **last row** in a cell contains a value, it will be displayed below the cell as output. You don't need `print` for this "
   ]
  },
  {
   "cell_type": "code",
   "execution_count": 20,
   "metadata": {
    "scrolled": true
   },
   "outputs": [
    {
     "name": "stdout",
     "output_type": "stream",
     "text": [
      "13\n"
     ]
    },
    {
     "data": {
      "text/plain": [
       "18"
      ]
     },
     "execution_count": 20,
     "metadata": {},
     "output_type": "execute_result"
    }
   ],
   "source": [
    "print(b)  # will be displayed because we used print\n",
    "a         # will not be displayed\n",
    "a + b     # will be displayed because it is the last row of the cell"
   ]
  },
  {
   "cell_type": "markdown",
   "metadata": {},
   "source": [
    "---\n",
    "\n",
    "## 2. Build in function ```print```\n",
    "\n",
    "### (a) Calling multiple arguments\n",
    "When using print, you can output multiple variables by separating them with a comma. Try to execute the next cell.  "
   ]
  },
  {
   "cell_type": "code",
   "execution_count": 21,
   "metadata": {},
   "outputs": [
    {
     "name": "stdout",
     "output_type": "stream",
     "text": [
      "I am  26 years old.\n"
     ]
    }
   ],
   "source": [
    "print(\"I am \", 26, \"years old.\")\n"
   ]
  },
  {
   "cell_type": "markdown",
   "metadata": {},
   "source": [
    "You can print whatever data type you like. Print always converts it to a string to print. Try the following or use your own examples:"
   ]
  },
  {
   "cell_type": "code",
   "execution_count": 22,
   "metadata": {},
   "outputs": [
    {
     "name": "stdout",
     "output_type": "stream",
     "text": [
      "3.24\n",
      "[2, 4, 5, 7]\n",
      "Hello  [3, 'top', 2.3]\n"
     ]
    }
   ],
   "source": [
    "print(3.24)       # floats\n",
    "print([2,4,5,7])  # lists\n",
    "print('Hello ', [3,'top',2.3])"
   ]
  },
  {
   "cell_type": "markdown",
   "metadata": {},
   "source": [
    "### (b) keyword arguments `sep` and `end`\n",
    "Keyword arguments serve as additional input to a function. \n",
    "Execute the following cell. What does `sep` and `end` do?"
   ]
  },
  {
   "cell_type": "code",
   "execution_count": 23,
   "metadata": {},
   "outputs": [
    {
     "name": "stdout",
     "output_type": "stream",
     "text": [
      "home/user/documents\n"
     ]
    }
   ],
   "source": [
    "print('home', 'user', 'documents', sep='/')"
   ]
  },
  {
   "cell_type": "code",
   "execution_count": 24,
   "metadata": {},
   "outputs": [
    {
     "name": "stdout",
     "output_type": "stream",
     "text": [
      "Nice to\n",
      "meet you!"
     ]
    }
   ],
   "source": [
    "print(\"Nice to\")\n",
    "print(\"meet you\",end='!')"
   ]
  },
  {
   "cell_type": "code",
   "execution_count": 25,
   "metadata": {},
   "outputs": [
    {
     "name": "stdout",
     "output_type": "stream",
     "text": [
      "I want-to have-ice cream!Stop"
     ]
    }
   ],
   "source": [
    "print('I want', 'to have', 'ice cream!', sep=\"-\", end=\"Stop\")"
   ]
  },
  {
   "cell_type": "markdown",
   "metadata": {},
   "source": [
    "---\n",
    "\n",
    "## 3. Build in function `input`\n",
    "\n",
    "The build in function `input` allows to read in strings from the keyboard. When calling `input` you can include a command prompt as paramter. E.g. `input(\"please enter a number: \")`"
   ]
  },
  {
   "cell_type": "code",
   "execution_count": 28,
   "metadata": {},
   "outputs": [
    {
     "name": "stdin",
     "output_type": "stream",
     "text": [
      "Please enter a number:  9.999\n"
     ]
    },
    {
     "name": "stdout",
     "output_type": "stream",
     "text": [
      "9.999\n"
     ]
    }
   ],
   "source": [
    "x = input(\"Please enter a number: \")\n",
    "print(x)"
   ]
  },
  {
   "cell_type": "markdown",
   "metadata": {},
   "source": [
    "---\n",
    "\n",
    "## 4. Get and change data types\n",
    "\n",
    "### (a) The function `type()`\n",
    "Every variable has a certain data type, which you can get using the function `type()`. \n",
    "`type(1)` gives you `<class 'int'>`\n",
    "\n",
    "Given is following list `lst = [1.0, 1+3, 1+3.0j, \"1\", True, [1,2,3], {1:100,2:200}, {1,2,3}, print]`.  \n",
    "Please ouput the data type of each list element, using `print()` and `type()`. "
   ]
  },
  {
   "cell_type": "code",
   "execution_count": 152,
   "metadata": {},
   "outputs": [
    {
     "name": "stdout",
     "output_type": "stream",
     "text": [
      "<class 'list'>\n"
     ]
    }
   ],
   "source": [
    "lst = [1.0, 1+3, 1+3.0j, \"1\", True, [1,2,3], {1:100,2:200}, {1,2,3}, print]\n",
    "print(type(lst))"
   ]
  },
  {
   "cell_type": "code",
   "execution_count": 159,
   "metadata": {},
   "outputs": [
    {
     "name": "stdout",
     "output_type": "stream",
     "text": [
      "<class 'float'>\n"
     ]
    }
   ],
   "source": [
    "print(type(1.0))"
   ]
  },
  {
   "cell_type": "code",
   "execution_count": 160,
   "metadata": {},
   "outputs": [
    {
     "name": "stdout",
     "output_type": "stream",
     "text": [
      "<class 'int'>\n"
     ]
    }
   ],
   "source": [
    "print(type(1+3))"
   ]
  },
  {
   "cell_type": "code",
   "execution_count": 161,
   "metadata": {},
   "outputs": [
    {
     "name": "stdout",
     "output_type": "stream",
     "text": [
      "<class 'complex'>\n"
     ]
    }
   ],
   "source": [
    "print(type(1+3.0j))"
   ]
  },
  {
   "cell_type": "code",
   "execution_count": 162,
   "metadata": {},
   "outputs": [
    {
     "name": "stdout",
     "output_type": "stream",
     "text": [
      "<class 'str'>\n"
     ]
    }
   ],
   "source": [
    "print(type(\"1\"))"
   ]
  },
  {
   "cell_type": "code",
   "execution_count": 163,
   "metadata": {},
   "outputs": [
    {
     "name": "stdout",
     "output_type": "stream",
     "text": [
      "<class 'bool'>\n"
     ]
    }
   ],
   "source": [
    "print(type(True))"
   ]
  },
  {
   "cell_type": "code",
   "execution_count": 164,
   "metadata": {},
   "outputs": [
    {
     "name": "stdout",
     "output_type": "stream",
     "text": [
      "<class 'list'>\n"
     ]
    }
   ],
   "source": [
    "print(type([1,2,3]))"
   ]
  },
  {
   "cell_type": "code",
   "execution_count": 165,
   "metadata": {},
   "outputs": [
    {
     "name": "stdout",
     "output_type": "stream",
     "text": [
      "<class 'dict'>\n"
     ]
    }
   ],
   "source": [
    "print(type({1:100,2:200}))"
   ]
  },
  {
   "cell_type": "code",
   "execution_count": 166,
   "metadata": {},
   "outputs": [
    {
     "name": "stdout",
     "output_type": "stream",
     "text": [
      "<class 'set'>\n"
     ]
    }
   ],
   "source": [
    "print(type({1,2,3}))"
   ]
  },
  {
   "cell_type": "code",
   "execution_count": 167,
   "metadata": {},
   "outputs": [
    {
     "name": "stdout",
     "output_type": "stream",
     "text": [
      "<class 'builtin_function_or_method'>\n"
     ]
    }
   ],
   "source": [
    "print(type(print))"
   ]
  },
  {
   "cell_type": "markdown",
   "metadata": {},
   "source": [
    "### (b) Change data type\n",
    "With the functions `int()`, `float()`, `str()` we can change the data type of a variable\n",
    "\n",
    "Given are following expressions: `1+3`, `\"1\"+\"3\"`, `1+\"3\"`. Add the necessary data type functions to get `4.0` or `13` as an output\n"
   ]
  },
  {
   "cell_type": "code",
   "execution_count": 1,
   "metadata": {
    "tags": []
   },
   "outputs": [
    {
     "ename": "TypeError",
     "evalue": "unsupported operand type(s) for +: 'int' and 'str'",
     "output_type": "error",
     "traceback": [
      "\u001b[1;31m---------------------------------------------------------------------------\u001b[0m",
      "\u001b[1;31mTypeError\u001b[0m                                 Traceback (most recent call last)",
      "Cell \u001b[1;32mIn[1], line 3\u001b[0m\n\u001b[0;32m      1\u001b[0m a \u001b[38;5;241m=\u001b[39m \u001b[38;5;241m1\u001b[39m\u001b[38;5;241m+\u001b[39m\u001b[38;5;241m3\u001b[39m\n\u001b[0;32m      2\u001b[0m b \u001b[38;5;241m=\u001b[39m \u001b[38;5;124m\"\u001b[39m\u001b[38;5;124m1\u001b[39m\u001b[38;5;124m\"\u001b[39m\u001b[38;5;241m+\u001b[39m\u001b[38;5;124m\"\u001b[39m\u001b[38;5;124m3\u001b[39m\u001b[38;5;124m\"\u001b[39m\n\u001b[1;32m----> 3\u001b[0m c \u001b[38;5;241m=\u001b[39m \u001b[38;5;241;43m1\u001b[39;49m\u001b[38;5;241;43m+\u001b[39;49m\u001b[38;5;124;43m\"\u001b[39;49m\u001b[38;5;124;43m3\u001b[39;49m\u001b[38;5;124;43m\"\u001b[39;49m\n",
      "\u001b[1;31mTypeError\u001b[0m: unsupported operand type(s) for +: 'int' and 'str'"
     ]
    }
   ],
   "source": [
    "a = 1+3\n",
    "b = \"1\"+\"3\"\n",
    "c = 1+\"3\""
   ]
  },
  {
   "cell_type": "code",
   "execution_count": 156,
   "metadata": {},
   "outputs": [
    {
     "name": "stdout",
     "output_type": "stream",
     "text": [
      "4\n",
      "<class 'int'>\n",
      "4.0\n"
     ]
    }
   ],
   "source": [
    "print(a);\n",
    "print(type(a));\n",
    "print(float(a));"
   ]
  },
  {
   "cell_type": "code",
   "execution_count": 158,
   "metadata": {},
   "outputs": [
    {
     "name": "stdout",
     "output_type": "stream",
     "text": [
      "13\n",
      "<class 'str'>\n"
     ]
    }
   ],
   "source": [
    "print(b);\n",
    "print(type(b));"
   ]
  },
  {
   "cell_type": "code",
   "execution_count": 2,
   "metadata": {
    "tags": []
   },
   "outputs": [
    {
     "data": {
      "text/plain": [
       "'13'"
      ]
     },
     "execution_count": 2,
     "metadata": {},
     "output_type": "execute_result"
    }
   ],
   "source": [
    "c = str(1)+\"3\"\n",
    "c"
   ]
  },
  {
   "cell_type": "markdown",
   "metadata": {},
   "source": [
    "---\n",
    "\n",
    "## 5. Your turn!\n"
   ]
  },
  {
   "cell_type": "markdown",
   "metadata": {},
   "source": [
    "## 5.1 Calculate the area of a room"
   ]
  },
  {
   "cell_type": "code",
   "execution_count": 39,
   "metadata": {},
   "outputs": [
    {
     "name": "stdin",
     "output_type": "stream",
     "text": [
      "Enter the length of the room:  3.6\n",
      "Enter the width of the room:  5.7\n"
     ]
    },
    {
     "name": "stdout",
     "output_type": "stream",
     "text": [
      "The area of the room is  20.52\n"
     ]
    }
   ],
   "source": [
    "#Take the input for the length and width of the room from the user\n",
    "l = float(input(\"Enter the length of the room: \"))\n",
    "b = float(input(\"Enter the width of the room: \"))\n",
    "#Calculation of the area of the room\n",
    "a = l*b\n",
    "#display the area of the room back to the user\n",
    "print(\"The area of the room is \",a)"
   ]
  },
  {
   "cell_type": "markdown",
   "metadata": {},
   "source": [
    "## 5.2 Calculating tip\n",
    "Write a program that asks the user for the cost of a meal and the local tip rate in %. Calculate the tip and return everything (including the total cost) back to the user. Don't forget the comments!"
   ]
  },
  {
   "cell_type": "code",
   "execution_count": 41,
   "metadata": {},
   "outputs": [
    {
     "name": "stdin",
     "output_type": "stream",
     "text": [
      "Enter the cost of the meal: € 4\n",
      "Enter the tip rate in percentage (%):  5\n"
     ]
    },
    {
     "name": "stdout",
     "output_type": "stream",
     "text": [
      "Tip amount: €0.20\n",
      "Total cost: €4.20\n"
     ]
    }
   ],
   "source": [
    "# Taking the input from the user for the cost of the meal\n",
    "meal_cost = float(input(\"Enter the cost of the meal: €\"))\n",
    "\n",
    "# Taking the input from the user for the local tip rate in percentage\n",
    "tip_rate = float(input(\"Enter the tip rate in percentage (%): \"))\n",
    "\n",
    "# Calculate the tip amount\n",
    "tip_amount = meal_cost * (tip_rate / 100)\n",
    "\n",
    "# Calculate the total cost\n",
    "total_cost = meal_cost + tip_amount\n",
    "\n",
    "# Display the tip amount and total cost to the user\n",
    "print(f\"Tip amount: €{tip_amount:.2f}\") #formatted string\n",
    "print(f\"Total cost: €{total_cost:.2f}\")"
   ]
  },
  {
   "cell_type": "markdown",
   "metadata": {},
   "source": [
    "## 5.3 Celsius to Fahrenheit and Kelvin\n",
    "Write a program that asks the user for the temperature in Celsius and calculates the according Fahrenheit and Kelvin values. Return everything back to the user. Don't forget the comments in your code!"
   ]
  },
  {
   "cell_type": "code",
   "execution_count": 48,
   "metadata": {},
   "outputs": [
    {
     "name": "stdin",
     "output_type": "stream",
     "text": [
      "Enter the temperature in Celcius:  456\n"
     ]
    },
    {
     "name": "stdout",
     "output_type": "stream",
     "text": [
      "456.0°C is equal to 852.80°F and 729.00K\n"
     ]
    }
   ],
   "source": [
    "#Ask the user for the temperature in Celcius\n",
    "celsius = float(input(\"Enter the temperature in Celcius: \"))\n",
    "\n",
    "#conversion of the Celsius into Fahrenheit and Kelvin\n",
    "Fahrenheit = (celsius * 9/5) + 32\n",
    "Kelvin = celsius + 273\n",
    "\n",
    "# Display the given Celsius reading to Fahrenheit and Kelvin values\n",
    "print(f\"{celsius}°C is equal to {Fahrenheit:.2f}°F and {Kelvin:.2f}K\")"
   ]
  },
  {
   "cell_type": "markdown",
   "metadata": {},
   "source": [
    "---\n",
    "## 6. Data type `str` \n",
    "\n",
    "### (a) Concatenation of strings\n",
    "What happens to the individual strings `'Hello '` `'world'` if we use the `+` operator? `'Hello ' + 'world.'`"
   ]
  },
  {
   "cell_type": "code",
   "execution_count": 49,
   "metadata": {},
   "outputs": [
    {
     "name": "stdout",
     "output_type": "stream",
     "text": [
      "Hello world.\n"
     ]
    }
   ],
   "source": [
    "s='Hello ' + 'world.'\n",
    "print(s) #concatenates the string 'Hello' and 'world'"
   ]
  },
  {
   "cell_type": "markdown",
   "metadata": {},
   "source": [
    "### (b) String methods\n",
    "Try and checkout following methods with the previously definded string `s`: `s.lower()`, `s.upper()`,`s.replace()`,`s.count()`\n",
    "You can find out more about the methods using `help(' '.upper)`\n",
    "You can think of a method as a piece of action (code) that Python can perform on a given piece of data. The data is specified before the '.' In the example above the data is stored in the string 's'."
   ]
  },
  {
   "cell_type": "markdown",
   "metadata": {},
   "source": [
    "## (i) s.lower()"
   ]
  },
  {
   "cell_type": "code",
   "execution_count": 58,
   "metadata": {},
   "outputs": [
    {
     "data": {
      "text/plain": [
       "'hello world.'"
      ]
     },
     "execution_count": 58,
     "metadata": {},
     "output_type": "execute_result"
    }
   ],
   "source": [
    "s.lower() #lower() method on a string converts all of the characters to lowercase"
   ]
  },
  {
   "cell_type": "markdown",
   "metadata": {},
   "source": [
    "## (ii) s.upper()"
   ]
  },
  {
   "cell_type": "code",
   "execution_count": 59,
   "metadata": {},
   "outputs": [
    {
     "data": {
      "text/plain": [
       "'HELLO WORLD.'"
      ]
     },
     "execution_count": 59,
     "metadata": {},
     "output_type": "execute_result"
    }
   ],
   "source": [
    "s.upper() #upper() method on a string converts all of the characters to uppercase"
   ]
  },
  {
   "cell_type": "markdown",
   "metadata": {},
   "source": [
    "## (iii) s.replace()"
   ]
  },
  {
   "cell_type": "code",
   "execution_count": 62,
   "metadata": {},
   "outputs": [
    {
     "data": {
      "text/plain": [
       "'Hello Python.'"
      ]
     },
     "execution_count": 62,
     "metadata": {},
     "output_type": "execute_result"
    }
   ],
   "source": [
    "s='Hello ' + 'world.'\n",
    "string = s.replace(\"world\",\"Python\") #.replace() method replaces the 'world' from the original string by 'Python'\n",
    "string"
   ]
  },
  {
   "cell_type": "markdown",
   "metadata": {},
   "source": [
    "## (iv) s.count()"
   ]
  },
  {
   "cell_type": "code",
   "execution_count": 72,
   "metadata": {},
   "outputs": [
    {
     "name": "stdout",
     "output_type": "stream",
     "text": [
      "Help on built-in function count:\n",
      "\n",
      "count(...) method of builtins.str instance\n",
      "    S.count(sub[, start[, end]]) -> int\n",
      "\n",
      "    Return the number of non-overlapping occurrences of substring sub in\n",
      "    string S[start:end].  Optional arguments start and end are\n",
      "    interpreted as in slice notation.\n",
      "\n"
     ]
    }
   ],
   "source": [
    "help(' '.count)"
   ]
  },
  {
   "cell_type": "code",
   "execution_count": 64,
   "metadata": {},
   "outputs": [
    {
     "data": {
      "text/plain": [
       "1"
      ]
     },
     "execution_count": 64,
     "metadata": {},
     "output_type": "execute_result"
    }
   ],
   "source": [
    "string.count(\"Python\") #.count() method adds up the number of times a character or sequence of characters appears in a string"
   ]
  },
  {
   "cell_type": "code",
   "execution_count": 67,
   "metadata": {},
   "outputs": [
    {
     "data": {
      "text/plain": [
       "'Hello world.'"
      ]
     },
     "execution_count": 67,
     "metadata": {},
     "output_type": "execute_result"
    }
   ],
   "source": [
    "s"
   ]
  },
  {
   "cell_type": "code",
   "execution_count": 65,
   "metadata": {},
   "outputs": [
    {
     "data": {
      "text/plain": [
       "2"
      ]
     },
     "execution_count": 65,
     "metadata": {},
     "output_type": "execute_result"
    }
   ],
   "source": [
    "string.count(\"o\")"
   ]
  },
  {
   "cell_type": "code",
   "execution_count": 71,
   "metadata": {},
   "outputs": [
    {
     "data": {
      "text/plain": [
       "3"
      ]
     },
     "execution_count": 71,
     "metadata": {},
     "output_type": "execute_result"
    }
   ],
   "source": [
    "s.count(\"l\") #.count() method adds up the number of times a character or sequence of characters appears in a string"
   ]
  },
  {
   "cell_type": "markdown",
   "metadata": {},
   "source": [
    "## Python Split Method"
   ]
  },
  {
   "cell_type": "code",
   "execution_count": null,
   "metadata": {},
   "outputs": [],
   "source": [
    "string_list = [\"Hello\", \"world!\"]\n"
   ]
  },
  {
   "cell_type": "markdown",
   "metadata": {},
   "source": [
    "with `split` we are able to split strings using a defined delimiter string. Syntax: `my_string.split(sep=' ' )`\\\n",
    "Try to split the given string by using the delimiters `','` and `' '`. What is the difference? "
   ]
  },
  {
   "cell_type": "code",
   "execution_count": 74,
   "metadata": {},
   "outputs": [
    {
     "data": {
      "text/plain": [
       "['Anna', ' Tom', ' Julia', ' Dave']"
      ]
     },
     "execution_count": 74,
     "metadata": {},
     "output_type": "execute_result"
    }
   ],
   "source": [
    "my_string = 'Anna, Tom, Julia, Dave'\n",
    "my_string.split(sep=',' )"
   ]
  },
  {
   "cell_type": "markdown",
   "metadata": {},
   "source": [
    "The split(',') method splits the string at each comma (',') and creates a list of substrings. In this case, the result is ['Anna', ' Tom', ' Julia', ' Dave']. Notice that there is a leading space in each element because the split operation doesn't remove the spaces after the commas."
   ]
  },
  {
   "cell_type": "code",
   "execution_count": 75,
   "metadata": {},
   "outputs": [
    {
     "data": {
      "text/plain": [
       "['Anna,', 'Tom,', 'Julia,', 'Dave']"
      ]
     },
     "execution_count": 75,
     "metadata": {},
     "output_type": "execute_result"
    }
   ],
   "source": [
    "my_string.split(sep=' ' )"
   ]
  },
  {
   "cell_type": "markdown",
   "metadata": {},
   "source": [
    "The split(' ') method splits the string at each space character (' ') and creates a list of substrings. In this case, the result will be ['Anna,', 'Tom,', 'Julia,', 'Dave']. Notice that the commas are included in each element because we used space as the delimiter, and the spaces before the names are not removed."
   ]
  },
  {
   "cell_type": "markdown",
   "metadata": {},
   "source": [
    "### (c) Accessing and slicing \n",
    "Subset of strings can be accessed using the slice operator \\\n",
    "    `[index]` for individual elements \\\n",
    "    `[start:stop]` for a range. start index inclusive, stop index exclusive\\\n",
    "    `[start:stop:step]` for a range with step size other than 1\\\n",
    "Indices start with 0 and end with -1 for the end of the string/list. Negative indexing possible. \n",
    "Nice to know: All three parameters are optional and have default paramters (start=0, end=-1,step=1). \n",
    "\n",
    "Create a string 'Hello world!' and try to print:\n",
    " - the first character of the string, \n",
    " - the second word `world`\n",
    " - only the last element of the string `!`\n",
    " - every second character\n",
    " "
   ]
  },
  {
   "cell_type": "code",
   "execution_count": 81,
   "metadata": {},
   "outputs": [
    {
     "data": {
      "text/plain": [
       "'Hello World!'"
      ]
     },
     "execution_count": 81,
     "metadata": {},
     "output_type": "execute_result"
    }
   ],
   "source": [
    "input_string = \"Hello World!\"\n",
    "input_string"
   ]
  },
  {
   "cell_type": "markdown",
   "metadata": {},
   "source": [
    "## (i) Program to print the first character of the string"
   ]
  },
  {
   "cell_type": "code",
   "execution_count": 88,
   "metadata": {},
   "outputs": [
    {
     "data": {
      "text/plain": [
       "'H'"
      ]
     },
     "execution_count": 88,
     "metadata": {},
     "output_type": "execute_result"
    }
   ],
   "source": [
    "input_string[0] #the first character has index 0 in positive indexing"
   ]
  },
  {
   "cell_type": "code",
   "execution_count": 89,
   "metadata": {},
   "outputs": [
    {
     "data": {
      "text/plain": [
       "'H'"
      ]
     },
     "execution_count": 89,
     "metadata": {},
     "output_type": "execute_result"
    }
   ],
   "source": [
    "input_string[-12] #the first character has index -12 in negative indexing"
   ]
  },
  {
   "cell_type": "markdown",
   "metadata": {},
   "source": [
    "## (ii) Program to print the second-word \"world\" from the given input_string"
   ]
  },
  {
   "cell_type": "code",
   "execution_count": 90,
   "metadata": {},
   "outputs": [
    {
     "data": {
      "text/plain": [
       "'World'"
      ]
     },
     "execution_count": 90,
     "metadata": {},
     "output_type": "execute_result"
    }
   ],
   "source": [
    "input_string[6:11] #Specify the start index and the end index, separated by a colon, to return a part of the string--without!"
   ]
  },
  {
   "cell_type": "markdown",
   "metadata": {},
   "source": [
    "## (iii) Program to print the last element of the string '!'"
   ]
  },
  {
   "cell_type": "code",
   "execution_count": 92,
   "metadata": {},
   "outputs": [
    {
     "data": {
      "text/plain": [
       "'!'"
      ]
     },
     "execution_count": 92,
     "metadata": {},
     "output_type": "execute_result"
    }
   ],
   "source": [
    "input_string[11] #the last character has index 11 in positive indexing"
   ]
  },
  {
   "cell_type": "code",
   "execution_count": 93,
   "metadata": {},
   "outputs": [
    {
     "data": {
      "text/plain": [
       "'!'"
      ]
     },
     "execution_count": 93,
     "metadata": {},
     "output_type": "execute_result"
    }
   ],
   "source": [
    "input_string[-1] #the last character has index -1 in negative indexing"
   ]
  },
  {
   "cell_type": "markdown",
   "metadata": {},
   "source": [
    "## (iv) Program to print every second character of the string"
   ]
  },
  {
   "cell_type": "code",
   "execution_count": 99,
   "metadata": {},
   "outputs": [
    {
     "data": {
      "text/plain": [
       "'el ol!'"
      ]
     },
     "execution_count": 99,
     "metadata": {},
     "output_type": "execute_result"
    }
   ],
   "source": [
    "input_string[1::2] #1 is the starting index, which specifies that we start from the second character (Python uses 0-based indexing) though :)\n",
    "                   #::2 is a slicing step of 2, which means we skip every second character"
   ]
  },
  {
   "cell_type": "markdown",
   "metadata": {},
   "source": [
    "---\n",
    "\n",
    "## 7. Your turn!\n"
   ]
  },
  {
   "cell_type": "markdown",
   "metadata": {},
   "source": [
    "## 7.1 Sum of the digits in an integer\n",
    "Write a program that reads a 4 digit integer from the user and calculates the sum of its digits. Return the result to the user. Don't forget to make comments"
   ]
  },
  {
   "cell_type": "code",
   "execution_count": 128,
   "metadata": {},
   "outputs": [
    {
     "name": "stdin",
     "output_type": "stream",
     "text": [
      "Enter a 4-digit integer:  9876\n"
     ]
    },
    {
     "name": "stdout",
     "output_type": "stream",
     "text": [
      "The sum of the digits is: 30\n"
     ]
    }
   ],
   "source": [
    "# Ask the user to enter a 4-digit integer\n",
    "user_input = input(\"Enter a 4-digit integer: \")\n",
    "\n",
    "# Check if the input is a 4-digit integer\n",
    "if user_input.isdigit() and len(user_input) == 4:\n",
    "    \n",
    "    # Calculate the sum of its digits\n",
    "    str1 = user_input[0]  # extracts 0 index string from user_input\n",
    "    thousands_digit = int(str1)      #converts the string to the integer in thousands place\n",
    "    str2 = user_input[1]       # extracts 1 index string from user_input\n",
    "    hundreds_digit = int(str2)      #converts the string to the integer in hundreds place\n",
    "    str3 = user_input[2]  # extracts 2 index string from user_input\n",
    "    tens_digit = int(str3)      #converts the string to the integer in tens place\n",
    "    str4 = user_input[3]  # extracts 3 index string from user_input\n",
    "    ones_digit = int(str4)      #converts the string to the integer in ones place\n",
    "    digit_sum = thousands_digit + hundreds_digit + tens_digit + ones_digit\n",
    "\n",
    "    # Return the result to the user\n",
    "    print(f\"The sum of the digits is: {digit_sum}\")\n",
    "else:\n",
    "    print(\"Invalid input. Please enter a 4-digit integer.\")"
   ]
  },
  {
   "cell_type": "markdown",
   "metadata": {},
   "source": [
    "---\n",
    "## 8. Data type `list`\n",
    "\n",
    "Just like strings, `list` indices start at 0 and can be accessed by the same slice operations. \n"
   ]
  },
  {
   "cell_type": "markdown",
   "metadata": {},
   "source": [
    "### (a) Accessing and slicing \n",
    "Try to guess the output of the following commands before you execute the cell:"
   ]
  },
  {
   "cell_type": "code",
   "execution_count": 2,
   "metadata": {},
   "outputs": [
    {
     "name": "stdout",
     "output_type": "stream",
     "text": [
      "[1, 4, 7]\n",
      "[1, 3, 5]\n",
      "[3, 5, 7, 9]\n"
     ]
    }
   ],
   "source": [
    "lst2 = [1, 2, 3, 4, 5,6,7,8,9];\n",
    "print(lst2[::3])\n",
    "# Guess = [1, 4, 7]\n",
    "\n",
    "print(lst2[:5:2])\n",
    "# Guess = [1, 3, 5]\n",
    "\n",
    "print(lst2[2::2])\n",
    "#Guess = [3, 5, 7, 9]"
   ]
  },
  {
   "cell_type": "code",
   "execution_count": 3,
   "metadata": {},
   "outputs": [],
   "source": [
    "lst2 = [1, 2, 3, 4, 5,6,7,8,9];"
   ]
  },
  {
   "cell_type": "code",
   "execution_count": 4,
   "metadata": {},
   "outputs": [
    {
     "name": "stdout",
     "output_type": "stream",
     "text": [
      "[1, 4, 7]\n"
     ]
    }
   ],
   "source": [
    "print(lst2[::3])"
   ]
  },
  {
   "cell_type": "code",
   "execution_count": 5,
   "metadata": {},
   "outputs": [
    {
     "name": "stdout",
     "output_type": "stream",
     "text": [
      "[1, 3, 5]\n"
     ]
    }
   ],
   "source": [
    "print(lst2[:5:2])"
   ]
  },
  {
   "cell_type": "code",
   "execution_count": 6,
   "metadata": {},
   "outputs": [
    {
     "name": "stdout",
     "output_type": "stream",
     "text": [
      "[3, 5, 7, 9]\n"
     ]
    }
   ],
   "source": [
    "print(lst2[2::2])"
   ]
  },
  {
   "cell_type": "markdown",
   "metadata": {},
   "source": [
    "If a `list` element is iterable you can apply the slice operator on that element to get a specific character/number. Try the following code:"
   ]
  },
  {
   "cell_type": "code",
   "execution_count": 7,
   "metadata": {},
   "outputs": [
    {
     "name": "stdout",
     "output_type": "stream",
     "text": [
      "2\n",
      "ban\n"
     ]
    }
   ],
   "source": [
    "lst1 = ['apple', 'bananas', [1,2,3] ];\n",
    "print( lst1[2][1]) #[1,2,3] is the nested list at the string index position 2; 1 index position within the listed list is 2\n",
    "print( lst1[1][:3]) #'bananas' is at the string index position 1; now we have to slice bananas by [:3]"
   ]
  },
  {
   "cell_type": "markdown",
   "metadata": {},
   "source": [
    "### (b) Updating lists\n",
    "You can update single or multiple elements of lists by giving the slice on the left-hand side of the assignment operator. e.g. `list1[0]=5`\n",
    "\n",
    "Update the element `[1,2,3]` to `'cherries'` in lst1 and print lst1 to see if it was successful\n",
    "    "
   ]
  },
  {
   "cell_type": "code",
   "execution_count": 8,
   "metadata": {},
   "outputs": [
    {
     "name": "stdout",
     "output_type": "stream",
     "text": [
      "['apple', 'bananas', [1, 2, 3]]\n"
     ]
    }
   ],
   "source": [
    "print(lst1)"
   ]
  },
  {
   "cell_type": "code",
   "execution_count": 9,
   "metadata": {},
   "outputs": [
    {
     "name": "stdout",
     "output_type": "stream",
     "text": [
      "[5, 'bananas', 'cherries']\n"
     ]
    }
   ],
   "source": [
    "lst1[0]=5\n",
    "lst1[2]= 'cherries'\n",
    "print(lst1)"
   ]
  },
  {
   "cell_type": "markdown",
   "metadata": {},
   "source": [
    "### (c) deleting elements\n",
    "\n",
    "If you know the index of an element you want to delete you can use `del list[index]`. You can also delete multiple elements at once. Try to delete the second and third element from lst1"
   ]
  },
  {
   "cell_type": "code",
   "execution_count": 10,
   "metadata": {},
   "outputs": [
    {
     "data": {
      "text/plain": [
       "[5, 'bananas', 'cherries']"
      ]
     },
     "execution_count": 10,
     "metadata": {},
     "output_type": "execute_result"
    }
   ],
   "source": [
    "lst1"
   ]
  },
  {
   "cell_type": "code",
   "execution_count": 15,
   "metadata": {},
   "outputs": [
    {
     "name": "stdout",
     "output_type": "stream",
     "text": [
      "['bananas', 'cherries']\n"
     ]
    }
   ],
   "source": [
    "lst1 = [5, 'bananas', 'cherries']\n",
    "del lst1[0] #deletes the 0 index element from lst1\n",
    "print(lst1) #print the remaining list elements after deleting o index element from lst1"
   ]
  },
  {
   "cell_type": "markdown",
   "metadata": {},
   "source": [
    "### (d) list methods\n",
    "Some important methods for lists are: `append`, `insert`,`extend`,`pop`,`remove`,`sort`,`index`,`count`,`reverse` \n",
    "Using the help option e.g. `help(list.index)`, please familiarise yourself with these methods and try them in the following cell\n"
   ]
  },
  {
   "cell_type": "markdown",
   "metadata": {},
   "source": [
    "## i. Append"
   ]
  },
  {
   "cell_type": "code",
   "execution_count": 17,
   "metadata": {},
   "outputs": [
    {
     "name": "stdout",
     "output_type": "stream",
     "text": [
      "Help on method_descriptor:\n",
      "\n",
      "append(self, object, /)\n",
      "    Append object to the end of the list.\n",
      "\n"
     ]
    }
   ],
   "source": [
    "help(list.append)"
   ]
  },
  {
   "cell_type": "code",
   "execution_count": 18,
   "metadata": {},
   "outputs": [
    {
     "name": "stdout",
     "output_type": "stream",
     "text": [
      "['apple', 'banana', 'cherry']\n"
     ]
    }
   ],
   "source": [
    "fruits = ['apple', 'banana', 'cherry']\n",
    "print(fruits)"
   ]
  },
  {
   "cell_type": "code",
   "execution_count": 19,
   "metadata": {},
   "outputs": [
    {
     "data": {
      "text/plain": [
       "['apple', 'banana', 'cherry', 'orange']"
      ]
     },
     "execution_count": 19,
     "metadata": {},
     "output_type": "execute_result"
    }
   ],
   "source": [
    "fruits. append(\"orange\") #.append(\"orange\") appends an orange to the end of the original list\n",
    "fruits"
   ]
  },
  {
   "cell_type": "markdown",
   "metadata": {},
   "source": [
    "## ii. Insert"
   ]
  },
  {
   "cell_type": "code",
   "execution_count": 20,
   "metadata": {},
   "outputs": [
    {
     "name": "stdout",
     "output_type": "stream",
     "text": [
      "Help on method_descriptor:\n",
      "\n",
      "insert(self, index, object, /)\n",
      "    Insert object before index.\n",
      "\n"
     ]
    }
   ],
   "source": [
    "help(list.insert)"
   ]
  },
  {
   "cell_type": "code",
   "execution_count": 36,
   "metadata": {},
   "outputs": [
    {
     "data": {
      "text/plain": [
       "['apple', 'banana', 'cherry']"
      ]
     },
     "execution_count": 36,
     "metadata": {},
     "output_type": "execute_result"
    }
   ],
   "source": [
    "fruits = ['apple', 'banana', 'cherry']\n",
    "fruits"
   ]
  },
  {
   "cell_type": "code",
   "execution_count": 37,
   "metadata": {},
   "outputs": [
    {
     "data": {
      "text/plain": [
       "['apple', 'grapes', 'banana', 'cherry']"
      ]
     },
     "execution_count": 37,
     "metadata": {},
     "output_type": "execute_result"
    }
   ],
   "source": [
    "fruits.insert(1,\"grapes\") #.insert(1,\"grapes\") method inserts the \"grapes\" element at position 1\n",
    "fruits"
   ]
  },
  {
   "cell_type": "markdown",
   "metadata": {},
   "source": [
    "## iii. Extend"
   ]
  },
  {
   "cell_type": "code",
   "execution_count": 33,
   "metadata": {},
   "outputs": [
    {
     "name": "stdout",
     "output_type": "stream",
     "text": [
      "Help on method_descriptor:\n",
      "\n",
      "extend(self, iterable, /)\n",
      "    Extend list by appending elements from the iterable.\n",
      "\n"
     ]
    }
   ],
   "source": [
    "help(list.extend)"
   ]
  },
  {
   "cell_type": "code",
   "execution_count": 38,
   "metadata": {},
   "outputs": [
    {
     "data": {
      "text/plain": [
       "['apple', 'banana', 'cherry']"
      ]
     },
     "execution_count": 38,
     "metadata": {},
     "output_type": "execute_result"
    }
   ],
   "source": [
    "fruits = ['apple', 'banana', 'cherry']\n",
    "fruits                                                      "
   ]
  },
  {
   "cell_type": "code",
   "execution_count": 39,
   "metadata": {},
   "outputs": [
    {
     "data": {
      "text/plain": [
       "['apple', 'banana', 'cherry', 'Sudur', 'John', 'Peter']"
      ]
     },
     "execution_count": 39,
     "metadata": {},
     "output_type": "execute_result"
    }
   ],
   "source": [
    "students = ['Sudur', 'John', 'Peter']\n",
    "fruits.extend(students) #.extend(students) method adds the elements of the list-students to the end of the current list, i.e., fruits\n",
    "fruits"
   ]
  },
  {
   "cell_type": "markdown",
   "metadata": {},
   "source": [
    "## iv. Pop"
   ]
  },
  {
   "cell_type": "code",
   "execution_count": 26,
   "metadata": {},
   "outputs": [
    {
     "name": "stdout",
     "output_type": "stream",
     "text": [
      "Help on method_descriptor:\n",
      "\n",
      "pop(self, index=-1, /)\n",
      "    Remove and return item at index (default last).\n",
      "\n",
      "    Raises IndexError if list is empty or index is out of range.\n",
      "\n"
     ]
    }
   ],
   "source": [
    "help(list.pop)"
   ]
  },
  {
   "cell_type": "code",
   "execution_count": 45,
   "metadata": {},
   "outputs": [
    {
     "data": {
      "text/plain": [
       "['apple', 'banana', 'cherry']"
      ]
     },
     "execution_count": 45,
     "metadata": {},
     "output_type": "execute_result"
    }
   ],
   "source": [
    "fruits = ['apple', 'banana', 'cherry']\n",
    "fruits"
   ]
  },
  {
   "cell_type": "code",
   "execution_count": 46,
   "metadata": {},
   "outputs": [
    {
     "data": {
      "text/plain": [
       "'banana'"
      ]
     },
     "execution_count": 46,
     "metadata": {},
     "output_type": "execute_result"
    }
   ],
   "source": [
    "# fruits.pop(1) #.pop(1) method removes the pana at its 1 position and return the removed value\n",
    "x = fruits.pop(1) #.pop(1) method removes the pana at its 1 position and return the removed value\n",
    "x"
   ]
  },
  {
   "cell_type": "markdown",
   "metadata": {},
   "source": [
    "## v. Remove"
   ]
  },
  {
   "cell_type": "code",
   "execution_count": 47,
   "metadata": {},
   "outputs": [
    {
     "name": "stdout",
     "output_type": "stream",
     "text": [
      "Help on method_descriptor:\n",
      "\n",
      "remove(self, value, /)\n",
      "    Remove first occurrence of value.\n",
      "\n",
      "    Raises ValueError if the value is not present.\n",
      "\n"
     ]
    }
   ],
   "source": [
    "help(list.remove)"
   ]
  },
  {
   "cell_type": "code",
   "execution_count": 56,
   "metadata": {},
   "outputs": [
    {
     "data": {
      "text/plain": [
       "['apple', 'banana', 'cherry']"
      ]
     },
     "execution_count": 56,
     "metadata": {},
     "output_type": "execute_result"
    }
   ],
   "source": [
    "fruits = ['apple', 'banana', 'cherry']\n",
    "fruits"
   ]
  },
  {
   "cell_type": "code",
   "execution_count": 57,
   "metadata": {},
   "outputs": [
    {
     "data": {
      "text/plain": [
       "['apple', 'cherry']"
      ]
     },
     "execution_count": 57,
     "metadata": {},
     "output_type": "execute_result"
    }
   ],
   "source": [
    "fruits.remove(\"banana\")  #.remove(\"banana\" erase the occurence of the banana within the fruits list and return  the list after removing the banana from the original list\n",
    "fruits"
   ]
  },
  {
   "cell_type": "markdown",
   "metadata": {},
   "source": [
    "## vi. Sort"
   ]
  },
  {
   "cell_type": "code",
   "execution_count": 58,
   "metadata": {},
   "outputs": [
    {
     "name": "stdout",
     "output_type": "stream",
     "text": [
      "Help on method_descriptor:\n",
      "\n",
      "sort(self, /, *, key=None, reverse=False)\n",
      "    Sort the list in ascending order and return None.\n",
      "\n",
      "    The sort is in-place (i.e. the list itself is modified) and stable (i.e. the\n",
      "    order of two equal elements is maintained).\n",
      "\n",
      "    If a key function is given, apply it once to each list item and sort them,\n",
      "    ascending or descending, according to their function values.\n",
      "\n",
      "    The reverse flag can be set to sort in descending order.\n",
      "\n"
     ]
    }
   ],
   "source": [
    "help(list.sort)"
   ]
  },
  {
   "cell_type": "code",
   "execution_count": 59,
   "metadata": {},
   "outputs": [
    {
     "name": "stdout",
     "output_type": "stream",
     "text": [
      "['BMW', 'Ford', 'Volvo']\n"
     ]
    }
   ],
   "source": [
    "cars = ['Ford', 'BMW', 'Volvo']\n",
    "cars.sort() #The sort() method sorts the list ascending by default.\n",
    "print(cars)"
   ]
  },
  {
   "cell_type": "markdown",
   "metadata": {},
   "source": [
    "## vii. Index"
   ]
  },
  {
   "cell_type": "code",
   "execution_count": 65,
   "metadata": {},
   "outputs": [
    {
     "name": "stdout",
     "output_type": "stream",
     "text": [
      "Help on method_descriptor:\n",
      "\n",
      "index(self, value, start=0, stop=9223372036854775807, /)\n",
      "    Return first index of value.\n",
      "\n",
      "    Raises ValueError if the value is not present.\n",
      "\n"
     ]
    }
   ],
   "source": [
    "help(list.index)"
   ]
  },
  {
   "cell_type": "code",
   "execution_count": 68,
   "metadata": {},
   "outputs": [
    {
     "name": "stdout",
     "output_type": "stream",
     "text": [
      "0\n",
      "2\n"
     ]
    }
   ],
   "source": [
    "fruits = ['apple', 'banana', 'cherry']\n",
    "print(fruits.index('apple'))\n",
    "print(fruits.index('cherry'))"
   ]
  },
  {
   "cell_type": "code",
   "execution_count": 63,
   "metadata": {},
   "outputs": [
    {
     "ename": "ValueError",
     "evalue": "'grapes' is not in list",
     "output_type": "error",
     "traceback": [
      "\u001b[1;31m---------------------------------------------------------------------------\u001b[0m",
      "\u001b[1;31mValueError\u001b[0m                                Traceback (most recent call last)",
      "Cell \u001b[1;32mIn[63], line 1\u001b[0m\n\u001b[1;32m----> 1\u001b[0m \u001b[43mfruits\u001b[49m\u001b[38;5;241;43m.\u001b[39;49m\u001b[43mindex\u001b[49m\u001b[43m(\u001b[49m\u001b[38;5;124;43m'\u001b[39;49m\u001b[38;5;124;43mgrapes\u001b[39;49m\u001b[38;5;124;43m'\u001b[39;49m\u001b[43m)\u001b[49m\n",
      "\u001b[1;31mValueError\u001b[0m: 'grapes' is not in list"
     ]
    }
   ],
   "source": [
    "fruits.index('grapes') # Raises ValueError if the value is not present."
   ]
  },
  {
   "cell_type": "markdown",
   "metadata": {},
   "source": [
    "## vii. Count"
   ]
  },
  {
   "cell_type": "code",
   "execution_count": 69,
   "metadata": {},
   "outputs": [
    {
     "name": "stdout",
     "output_type": "stream",
     "text": [
      "Help on method_descriptor:\n",
      "\n",
      "count(self, value, /)\n",
      "    Return number of occurrences of value.\n",
      "\n"
     ]
    }
   ],
   "source": [
    "help(list.count)"
   ]
  },
  {
   "cell_type": "code",
   "execution_count": 72,
   "metadata": {},
   "outputs": [],
   "source": [
    "A = [1,2,3,3]"
   ]
  },
  {
   "cell_type": "code",
   "execution_count": 73,
   "metadata": {},
   "outputs": [
    {
     "data": {
      "text/plain": [
       "2"
      ]
     },
     "execution_count": 73,
     "metadata": {},
     "output_type": "execute_result"
    }
   ],
   "source": [
    "A.count(3) #return number of occurrences of 3 from the list A"
   ]
  },
  {
   "cell_type": "code",
   "execution_count": 74,
   "metadata": {},
   "outputs": [
    {
     "data": {
      "text/plain": [
       "1"
      ]
     },
     "execution_count": 74,
     "metadata": {},
     "output_type": "execute_result"
    }
   ],
   "source": [
    "A.count(1) #Return the number of occurrences of 1 from the list A"
   ]
  },
  {
   "cell_type": "markdown",
   "metadata": {},
   "source": [
    "## viii. Reverse"
   ]
  },
  {
   "cell_type": "code",
   "execution_count": 75,
   "metadata": {},
   "outputs": [
    {
     "name": "stdout",
     "output_type": "stream",
     "text": [
      "Help on method_descriptor:\n",
      "\n",
      "reverse(self, /)\n",
      "    Reverse *IN PLACE*.\n",
      "\n"
     ]
    }
   ],
   "source": [
    "help(list.reverse)"
   ]
  },
  {
   "cell_type": "code",
   "execution_count": 77,
   "metadata": {},
   "outputs": [
    {
     "data": {
      "text/plain": [
       "['apple', 'banana', 'cherry']"
      ]
     },
     "execution_count": 77,
     "metadata": {},
     "output_type": "execute_result"
    }
   ],
   "source": [
    "fruits = ['apple', 'banana', 'cherry']\n",
    "fruits"
   ]
  },
  {
   "cell_type": "code",
   "execution_count": 80,
   "metadata": {},
   "outputs": [
    {
     "name": "stdout",
     "output_type": "stream",
     "text": [
      "['cherry', 'banana', 'apple']\n"
     ]
    }
   ],
   "source": [
    "fruits.reverse() .reverse() method reverses the sorting order of the elements of the list fruits\n",
    "print(fruits)"
   ]
  },
  {
   "cell_type": "markdown",
   "metadata": {},
   "source": [
    "## 9.1 Sorted list of integers\n",
    "Write a program that lets a user give 5 arbitrary integers, store everything in a list and display a sorted version of that list (from smallest to largest) to the user. Don't forget the comments!"
   ]
  },
  {
   "cell_type": "code",
   "execution_count": 96,
   "metadata": {},
   "outputs": [
    {
     "name": "stdin",
     "output_type": "stream",
     "text": [
      "Enter an arbitrary integer:  5\n",
      "Enter an arbitrary integer:  4\n",
      "Enter an arbitrary integer:  6\n",
      "Enter an arbitrary integer:  0\n",
      "Enter an arbitrary integer:  4\n"
     ]
    },
    {
     "name": "stdout",
     "output_type": "stream",
     "text": [
      "Integer list before sorting:  [5, 4, 6, 0, 4]\n",
      "Integer list after sorting:  [0, 4, 4, 5, 6]\n"
     ]
    }
   ],
   "source": [
    "#initialize the empty list\n",
    "integer_list = []\n",
    "\n",
    "#looping the 5 times to let the user  give 5 arbitrary integers\n",
    "for i in range(5):\n",
    "    input_integer = int(input(\"Enter an arbitrary integer: \"))\n",
    "    integer_list.append(input_integer) #appending the user given number in the current list: integer_list\n",
    "print(\"Integer list before sorting: \",integer_list) #displaying the integer list before sorting\n",
    "    \n",
    "#sort the list in ascending order\n",
    "sorted_list = sorted(integer_list)\n",
    "\n",
    "#Display the sorted list to the user\n",
    "print(\"Integer list after sorting: \",sorted_list)"
   ]
  },
  {
   "cell_type": "markdown",
   "metadata": {},
   "source": [
    "## 9.2 Odd and even numbers\n",
    "Write a program that print a list with all integers from 1 to 20 to the user. Then, use slicing to create a list off all the odd and even numbers (each). Print both new lists to the user. Don't forget to comment everything!"
   ]
  },
  {
   "cell_type": "code",
   "execution_count": 127,
   "metadata": {},
   "outputs": [
    {
     "name": "stdout",
     "output_type": "stream",
     "text": [
      "All the integers from 1  to 20:  [1, 2, 3, 4, 5, 6, 7, 8, 9, 10, 11, 12, 13, 14, 15, 16, 17, 18, 19, 20]\n",
      "List of the odd numbers:  [1, 3, 5, 7, 9, 11, 13, 15, 17, 19]\n",
      "List of the even numbers:  [2, 4, 6, 8, 10, 12, 14, 16, 18, 20]\n"
     ]
    }
   ],
   "source": [
    "#initialize the empty list\n",
    "integer_list = []\n",
    "\n",
    "#looping to get all the integers from 1 to 20 printed\n",
    "for i in range(1, 21):\n",
    "    integer_list.append(i)\n",
    "print(\"All the integers from 1  to 20: \",integer_list) #list all the numbers from 1 to 20\n",
    "\n",
    "print(\"List of the odd numbers: \", integer_list[::2]) #list alll the odd elements from 1 to 20\n",
    "print(\"List of the even numbers: \", integer_list[1::2]) #list all the even elemnts from 1 to 20"
   ]
  },
  {
   "cell_type": "markdown",
   "metadata": {},
   "source": [
    "---\n",
    "## 10. Data type `tuple`\n",
    "\n",
    "Tuples are unchangeable but there are ways to get around this limitation. \n",
    "- Try to add 'cherry' to tpl1 by converting tpl1 to a list, append the element and convert it back to a tuple. "
   ]
  },
  {
   "cell_type": "code",
   "execution_count": 140,
   "metadata": {},
   "outputs": [
    {
     "data": {
      "text/plain": [
       "['banana', 'orange', 'apple']"
      ]
     },
     "execution_count": 140,
     "metadata": {},
     "output_type": "execute_result"
    }
   ],
   "source": [
    "tpl1=('banana','orange','apple')\n",
    "\n",
    "tpl1_t0_list = list(tpl1) #converts the tuple to the list\n",
    "tpl1_t0_list"
   ]
  },
  {
   "cell_type": "code",
   "execution_count": 141,
   "metadata": {},
   "outputs": [
    {
     "data": {
      "text/plain": [
       "['banana', 'orange', 'apple', 'cherry']"
      ]
     },
     "execution_count": 141,
     "metadata": {},
     "output_type": "execute_result"
    }
   ],
   "source": [
    "tpl1_t0_list.append('cherry') #append  the element cherry at the end of the list tpl1_t0_list \n",
    "tpl1_t0_list"
   ]
  },
  {
   "cell_type": "code",
   "execution_count": 143,
   "metadata": {},
   "outputs": [
    {
     "data": {
      "text/plain": [
       "('banana', 'orange', 'apple', 'cherry')"
      ]
     },
     "execution_count": 143,
     "metadata": {},
     "output_type": "execute_result"
    }
   ],
   "source": [
    "list_to_tpl1 = tuple(tpl1_t0_list) #converts list to the tuple\n",
    "list_to_tpl1 #displaying the tuple to the user"
   ]
  },
  {
   "cell_type": "code",
   "execution_count": null,
   "metadata": {},
   "outputs": [],
   "source": [
    "Another Way:you can also add another tuple with the desired items to the first tuple"
   ]
  },
  {
   "cell_type": "code",
   "execution_count": 149,
   "metadata": {},
   "outputs": [
    {
     "data": {
      "text/plain": [
       "('banana', 'orange', 'apple', 'Sudur', 'Peter', 'John')"
      ]
     },
     "execution_count": 149,
     "metadata": {},
     "output_type": "execute_result"
    }
   ],
   "source": [
    "tpl1=('banana','orange','apple')\n",
    "tpl2 = ('Sudur', 'Peter', 'John',)\n",
    "tpl1 += tpl2\n",
    "tpl1"
   ]
  },
  {
   "cell_type": "markdown",
   "metadata": {},
   "source": [
    "## THE END"
   ]
  },
  {
   "cell_type": "code",
   "execution_count": 144,
   "metadata": {},
   "outputs": [
    {
     "name": "stdout",
     "output_type": "stream",
     "text": [
      "('banana', 'orange', 'apple', 'cherry')\n"
     ]
    }
   ],
   "source": [
    "tpl1=('banana','orange','apple')\n",
    "tpl2=('cherry',)   # don't forget the comma, otherwise it will not be recognised as a tuple\n",
    "tpl1 += tpl2\n",
    "print(tpl1)"
   ]
  }
 ],
 "metadata": {
  "kernelspec": {
   "display_name": "Python 3 (ipykernel)",
   "language": "python",
   "name": "python3"
  },
  "language_info": {
   "codemirror_mode": {
    "name": "ipython",
    "version": 3
   },
   "file_extension": ".py",
   "mimetype": "text/x-python",
   "name": "python",
   "nbconvert_exporter": "python",
   "pygments_lexer": "ipython3",
   "version": "3.11.5"
  }
 },
 "nbformat": 4,
 "nbformat_minor": 4
}
