{
 "cells": [
  {
   "cell_type": "markdown",
   "id": "62e15dbf",
   "metadata": {},
   "source": [
    "#  Introduction to Python\n",
    "## Exercise 5: Read, Plot and Save Data\n",
    "\n",
    "Jutta Vüllers, contact: jutta.vuellers@kit.edu, Julia Fuchs, contact: julia.fuchs@kit.edu, Annika Bork-Unkelbach, contact: annika.bork-unkelbach@kit.edu\n",
    "\n",
    "### Learning objectives: \n",
    "\n",
    "    1. Reading and writing data from/to a text file\n",
    "    2. Reading and writing data from/to a csv file\n",
    "        2.1. Task: Write data into a csv file\n",
    "    3. Pandas data frames\n",
    "    4. Plot and save data with matplotlib\n",
    "        4.1. Task: Plot boxplots\n",
    "        4.2. Task: Visualize real scientific data\n",
    "\n",
    "### Excercise 5 submitted until: 4 December 2022, 23:55 \n",
    "\n",
    "!You find all the data needed for this exercise in ILIAS!\n",
    "\n",
    "---\n",
    "---\n",
    " "
   ]
  },
  {
   "cell_type": "markdown",
   "id": "63fff698-ea8e-4966-849c-c27f69379403",
   "metadata": {},
   "source": [
    "### Submited By:\n",
    "Name: Sudur Bhattarai\n",
    "Matriculation Number: 2514652\n",
    "Faculty: MSc. Remote Sensing and Geoinformatics\n",
    "Contact: uhkmj@student.kit.edu"
   ]
  },
  {
   "cell_type": "markdown",
   "id": "60cae0a9",
   "metadata": {},
   "source": [
    "## 1. Reading and writing data from/to a text file (.txt)\n",
    "https://docs.python.org/3.9/tutorial/inputoutput.html#reading-and-writing-files\n",
    "\n",
    "Opening and Closing an exisiting File in Python. This is done by calling the `open()` built-in function. This function has a single required argument that is the path to the file."
   ]
  },
  {
   "cell_type": "code",
   "execution_count": 5,
   "id": "50cba59c",
   "metadata": {},
   "outputs": [
    {
     "name": "stdout",
     "output_type": "stream",
     "text": [
      "This is a first example of reading data from file!\n",
      "lets move on!\n",
      "\n"
     ]
    }
   ],
   "source": [
    "# open an example file called \"examplefile.txt\"\n",
    "f = open('examplefile.txt')\n",
    "data = f.read()\n",
    "print(data)\n",
    "f.close()"
   ]
  },
  {
   "cell_type": "markdown",
   "id": "e669c555-cb56-4b1f-9890-19c088a3acfe",
   "metadata": {},
   "source": [
    "1) The 'examplefile.txt' is opened and saved as a file object `f`\n",
    "2) The file content is read and saved in the variable `data`\n",
    "3) The file content is printed\n",
    "4) The file object `f` is closed"
   ]
  },
  {
   "cell_type": "markdown",
   "id": "e58f8c43-6dd4-4141-b989-71ec8d063e61",
   "metadata": {},
   "source": [
    "**For more information explore the function `open` and the file object `f`**\n",
    "\n",
    "- help(open)\n",
    "- help(f)"
   ]
  },
  {
   "cell_type": "code",
   "execution_count": 6,
   "id": "af0fe94f-4cf4-4036-b59a-5a42dccc8748",
   "metadata": {
    "tags": []
   },
   "outputs": [
    {
     "name": "stdout",
     "output_type": "stream",
     "text": [
      "Help on function open in module io:\n",
      "\n",
      "open(file, mode='r', buffering=-1, encoding=None, errors=None, newline=None, closefd=True, opener=None)\n",
      "    Open file and return a stream.  Raise OSError upon failure.\n",
      "    \n",
      "    file is either a text or byte string giving the name (and the path\n",
      "    if the file isn't in the current working directory) of the file to\n",
      "    be opened or an integer file descriptor of the file to be\n",
      "    wrapped. (If a file descriptor is given, it is closed when the\n",
      "    returned I/O object is closed, unless closefd is set to False.)\n",
      "    \n",
      "    mode is an optional string that specifies the mode in which the file\n",
      "    is opened. It defaults to 'r' which means open for reading in text\n",
      "    mode.  Other common values are 'w' for writing (truncating the file if\n",
      "    it already exists), 'x' for creating and writing to a new file, and\n",
      "    'a' for appending (which on some Unix systems, means that all writes\n",
      "    append to the end of the file regardless of the current seek position).\n",
      "    In text mode, if encoding is not specified the encoding used is platform\n",
      "    dependent: locale.getencoding() is called to get the current locale encoding.\n",
      "    (For reading and writing raw bytes use binary mode and leave encoding\n",
      "    unspecified.) The available modes are:\n",
      "    \n",
      "    ========= ===============================================================\n",
      "    Character Meaning\n",
      "    --------- ---------------------------------------------------------------\n",
      "    'r'       open for reading (default)\n",
      "    'w'       open for writing, truncating the file first\n",
      "    'x'       create a new file and open it for writing\n",
      "    'a'       open for writing, appending to the end of the file if it exists\n",
      "    'b'       binary mode\n",
      "    't'       text mode (default)\n",
      "    '+'       open a disk file for updating (reading and writing)\n",
      "    ========= ===============================================================\n",
      "    \n",
      "    The default mode is 'rt' (open for reading text). For binary random\n",
      "    access, the mode 'w+b' opens and truncates the file to 0 bytes, while\n",
      "    'r+b' opens the file without truncation. The 'x' mode implies 'w' and\n",
      "    raises an `FileExistsError` if the file already exists.\n",
      "    \n",
      "    Python distinguishes between files opened in binary and text modes,\n",
      "    even when the underlying operating system doesn't. Files opened in\n",
      "    binary mode (appending 'b' to the mode argument) return contents as\n",
      "    bytes objects without any decoding. In text mode (the default, or when\n",
      "    't' is appended to the mode argument), the contents of the file are\n",
      "    returned as strings, the bytes having been first decoded using a\n",
      "    platform-dependent encoding or using the specified encoding if given.\n",
      "    \n",
      "    buffering is an optional integer used to set the buffering policy.\n",
      "    Pass 0 to switch buffering off (only allowed in binary mode), 1 to select\n",
      "    line buffering (only usable in text mode), and an integer > 1 to indicate\n",
      "    the size of a fixed-size chunk buffer.  When no buffering argument is\n",
      "    given, the default buffering policy works as follows:\n",
      "    \n",
      "    * Binary files are buffered in fixed-size chunks; the size of the buffer\n",
      "      is chosen using a heuristic trying to determine the underlying device's\n",
      "      \"block size\" and falling back on `io.DEFAULT_BUFFER_SIZE`.\n",
      "      On many systems, the buffer will typically be 4096 or 8192 bytes long.\n",
      "    \n",
      "    * \"Interactive\" text files (files for which isatty() returns True)\n",
      "      use line buffering.  Other text files use the policy described above\n",
      "      for binary files.\n",
      "    \n",
      "    encoding is the name of the encoding used to decode or encode the\n",
      "    file. This should only be used in text mode. The default encoding is\n",
      "    platform dependent, but any encoding supported by Python can be\n",
      "    passed.  See the codecs module for the list of supported encodings.\n",
      "    \n",
      "    errors is an optional string that specifies how encoding errors are to\n",
      "    be handled---this argument should not be used in binary mode. Pass\n",
      "    'strict' to raise a ValueError exception if there is an encoding error\n",
      "    (the default of None has the same effect), or pass 'ignore' to ignore\n",
      "    errors. (Note that ignoring encoding errors can lead to data loss.)\n",
      "    See the documentation for codecs.register or run 'help(codecs.Codec)'\n",
      "    for a list of the permitted encoding error strings.\n",
      "    \n",
      "    newline controls how universal newlines works (it only applies to text\n",
      "    mode). It can be None, '', '\\n', '\\r', and '\\r\\n'.  It works as\n",
      "    follows:\n",
      "    \n",
      "    * On input, if newline is None, universal newlines mode is\n",
      "      enabled. Lines in the input can end in '\\n', '\\r', or '\\r\\n', and\n",
      "      these are translated into '\\n' before being returned to the\n",
      "      caller. If it is '', universal newline mode is enabled, but line\n",
      "      endings are returned to the caller untranslated. If it has any of\n",
      "      the other legal values, input lines are only terminated by the given\n",
      "      string, and the line ending is returned to the caller untranslated.\n",
      "    \n",
      "    * On output, if newline is None, any '\\n' characters written are\n",
      "      translated to the system default line separator, os.linesep. If\n",
      "      newline is '' or '\\n', no translation takes place. If newline is any\n",
      "      of the other legal values, any '\\n' characters written are translated\n",
      "      to the given string.\n",
      "    \n",
      "    If closefd is False, the underlying file descriptor will be kept open\n",
      "    when the file is closed. This does not work when a file name is given\n",
      "    and must be True in that case.\n",
      "    \n",
      "    A custom opener can be used by passing a callable as *opener*. The\n",
      "    underlying file descriptor for the file object is then obtained by\n",
      "    calling *opener* with (*file*, *flags*). *opener* must return an open\n",
      "    file descriptor (passing os.open as *opener* results in functionality\n",
      "    similar to passing None).\n",
      "    \n",
      "    open() returns a file object whose type depends on the mode, and\n",
      "    through which the standard file operations such as reading and writing\n",
      "    are performed. When open() is used to open a file in a text mode ('w',\n",
      "    'r', 'wt', 'rt', etc.), it returns a TextIOWrapper. When used to open\n",
      "    a file in a binary mode, the returned class varies: in read binary\n",
      "    mode, it returns a BufferedReader; in write binary and append binary\n",
      "    modes, it returns a BufferedWriter, and in read/write mode, it returns\n",
      "    a BufferedRandom.\n",
      "    \n",
      "    It is also possible to use a string or bytearray as a file for both\n",
      "    reading and writing. For strings StringIO can be used like a file\n",
      "    opened in a text mode, and for bytes a BytesIO can be used like a file\n",
      "    opened in a binary mode.\n",
      "\n"
     ]
    }
   ],
   "source": [
    "help(open)"
   ]
  },
  {
   "cell_type": "code",
   "execution_count": 7,
   "id": "7db39119-bce4-4c75-9f89-5aedc31f8165",
   "metadata": {
    "tags": []
   },
   "outputs": [
    {
     "name": "stdout",
     "output_type": "stream",
     "text": [
      "Help on TextIOWrapper object:\n",
      "\n",
      "class TextIOWrapper(_TextIOBase)\n",
      " |  TextIOWrapper(buffer, encoding=None, errors=None, newline=None, line_buffering=False, write_through=False)\n",
      " |  \n",
      " |  Character and line based layer over a BufferedIOBase object, buffer.\n",
      " |  \n",
      " |  encoding gives the name of the encoding that the stream will be\n",
      " |  decoded or encoded with. It defaults to locale.getencoding().\n",
      " |  \n",
      " |  errors determines the strictness of encoding and decoding (see\n",
      " |  help(codecs.Codec) or the documentation for codecs.register) and\n",
      " |  defaults to \"strict\".\n",
      " |  \n",
      " |  newline controls how line endings are handled. It can be None, '',\n",
      " |  '\\n', '\\r', and '\\r\\n'.  It works as follows:\n",
      " |  \n",
      " |  * On input, if newline is None, universal newlines mode is\n",
      " |    enabled. Lines in the input can end in '\\n', '\\r', or '\\r\\n', and\n",
      " |    these are translated into '\\n' before being returned to the\n",
      " |    caller. If it is '', universal newline mode is enabled, but line\n",
      " |    endings are returned to the caller untranslated. If it has any of\n",
      " |    the other legal values, input lines are only terminated by the given\n",
      " |    string, and the line ending is returned to the caller untranslated.\n",
      " |  \n",
      " |  * On output, if newline is None, any '\\n' characters written are\n",
      " |    translated to the system default line separator, os.linesep. If\n",
      " |    newline is '' or '\\n', no translation takes place. If newline is any\n",
      " |    of the other legal values, any '\\n' characters written are translated\n",
      " |    to the given string.\n",
      " |  \n",
      " |  If line_buffering is True, a call to flush is implied when a call to\n",
      " |  write contains a newline character.\n",
      " |  \n",
      " |  Method resolution order:\n",
      " |      TextIOWrapper\n",
      " |      _TextIOBase\n",
      " |      _IOBase\n",
      " |      builtins.object\n",
      " |  \n",
      " |  Methods defined here:\n",
      " |  \n",
      " |  __init__(self, /, *args, **kwargs)\n",
      " |      Initialize self.  See help(type(self)) for accurate signature.\n",
      " |  \n",
      " |  __next__(self, /)\n",
      " |      Implement next(self).\n",
      " |  \n",
      " |  __repr__(self, /)\n",
      " |      Return repr(self).\n",
      " |  \n",
      " |  close(self, /)\n",
      " |      Flush and close the IO object.\n",
      " |      \n",
      " |      This method has no effect if the file is already closed.\n",
      " |  \n",
      " |  detach(self, /)\n",
      " |      Separate the underlying buffer from the TextIOBase and return it.\n",
      " |      \n",
      " |      After the underlying buffer has been detached, the TextIO is in an\n",
      " |      unusable state.\n",
      " |  \n",
      " |  fileno(self, /)\n",
      " |      Returns underlying file descriptor if one exists.\n",
      " |      \n",
      " |      OSError is raised if the IO object does not use a file descriptor.\n",
      " |  \n",
      " |  flush(self, /)\n",
      " |      Flush write buffers, if applicable.\n",
      " |      \n",
      " |      This is not implemented for read-only and non-blocking streams.\n",
      " |  \n",
      " |  isatty(self, /)\n",
      " |      Return whether this is an 'interactive' stream.\n",
      " |      \n",
      " |      Return False if it can't be determined.\n",
      " |  \n",
      " |  read(self, size=-1, /)\n",
      " |      Read at most n characters from stream.\n",
      " |      \n",
      " |      Read from underlying buffer until we have n characters or we hit EOF.\n",
      " |      If n is negative or omitted, read until EOF.\n",
      " |  \n",
      " |  readable(self, /)\n",
      " |      Return whether object was opened for reading.\n",
      " |      \n",
      " |      If False, read() will raise OSError.\n",
      " |  \n",
      " |  readline(self, size=-1, /)\n",
      " |      Read until newline or EOF.\n",
      " |      \n",
      " |      Returns an empty string if EOF is hit immediately.\n",
      " |  \n",
      " |  reconfigure(self, /, *, encoding=None, errors=None, newline=None, line_buffering=None, write_through=None)\n",
      " |      Reconfigure the text stream with new parameters.\n",
      " |      \n",
      " |      This also does an implicit stream flush.\n",
      " |  \n",
      " |  seek(self, cookie, whence=0, /)\n",
      " |      Set the stream position, and return the new stream position.\n",
      " |      \n",
      " |        cookie\n",
      " |          Zero or an opaque number returned by tell().\n",
      " |        whence\n",
      " |          The relative position to seek from.\n",
      " |      \n",
      " |      Four operations are supported, given by the following argument\n",
      " |      combinations:\n",
      " |      \n",
      " |      - seek(0, SEEK_SET): Rewind to the start of the stream.\n",
      " |      - seek(cookie, SEEK_SET): Restore a previous position;\n",
      " |        'cookie' must be a number returned by tell().\n",
      " |      - seek(0, SEEK_END): Fast-forward to the end of the stream.\n",
      " |      - seek(0, SEEK_CUR): Leave the current stream position unchanged.\n",
      " |      \n",
      " |      Any other argument combinations are invalid,\n",
      " |      and may raise exceptions.\n",
      " |  \n",
      " |  seekable(self, /)\n",
      " |      Return whether object supports random access.\n",
      " |      \n",
      " |      If False, seek(), tell() and truncate() will raise OSError.\n",
      " |      This method may need to do a test seek().\n",
      " |  \n",
      " |  tell(self, /)\n",
      " |      Return current stream position.\n",
      " |  \n",
      " |  truncate(self, pos=None, /)\n",
      " |      Truncate file to size bytes.\n",
      " |      \n",
      " |      File pointer is left unchanged.  Size defaults to the current IO\n",
      " |      position as reported by tell().  Returns the new size.\n",
      " |  \n",
      " |  writable(self, /)\n",
      " |      Return whether object was opened for writing.\n",
      " |      \n",
      " |      If False, write() will raise OSError.\n",
      " |  \n",
      " |  write(self, text, /)\n",
      " |      Write string to stream.\n",
      " |      Returns the number of characters written (which is always equal to\n",
      " |      the length of the string).\n",
      " |  \n",
      " |  ----------------------------------------------------------------------\n",
      " |  Static methods defined here:\n",
      " |  \n",
      " |  __new__(*args, **kwargs) from builtins.type\n",
      " |      Create and return a new object.  See help(type) for accurate signature.\n",
      " |  \n",
      " |  ----------------------------------------------------------------------\n",
      " |  Data descriptors defined here:\n",
      " |  \n",
      " |  buffer\n",
      " |  \n",
      " |  closed\n",
      " |  \n",
      " |  encoding\n",
      " |      Encoding of the text stream.\n",
      " |      \n",
      " |      Subclasses should override.\n",
      " |  \n",
      " |  errors\n",
      " |      The error setting of the decoder or encoder.\n",
      " |      \n",
      " |      Subclasses should override.\n",
      " |  \n",
      " |  line_buffering\n",
      " |  \n",
      " |  name\n",
      " |  \n",
      " |  newlines\n",
      " |      Line endings translated so far.\n",
      " |      \n",
      " |      Only line endings translated during reading are considered.\n",
      " |      \n",
      " |      Subclasses should override.\n",
      " |  \n",
      " |  write_through\n",
      " |  \n",
      " |  ----------------------------------------------------------------------\n",
      " |  Methods inherited from _IOBase:\n",
      " |  \n",
      " |  __del__(...)\n",
      " |  \n",
      " |  __enter__(...)\n",
      " |  \n",
      " |  __exit__(...)\n",
      " |  \n",
      " |  __iter__(self, /)\n",
      " |      Implement iter(self).\n",
      " |  \n",
      " |  readlines(self, hint=-1, /)\n",
      " |      Return a list of lines from the stream.\n",
      " |      \n",
      " |      hint can be specified to control the number of lines read: no more\n",
      " |      lines will be read if the total size (in bytes/characters) of all\n",
      " |      lines so far exceeds hint.\n",
      " |  \n",
      " |  writelines(self, lines, /)\n",
      " |      Write a list of lines to stream.\n",
      " |      \n",
      " |      Line separators are not added, so it is usual for each of the\n",
      " |      lines provided to have a line separator at the end.\n",
      " |  \n",
      " |  ----------------------------------------------------------------------\n",
      " |  Data descriptors inherited from _IOBase:\n",
      " |  \n",
      " |  __dict__\n",
      "\n"
     ]
    }
   ],
   "source": [
    "help(f)"
   ]
  },
  {
   "cell_type": "markdown",
   "id": "c9a8b3d2",
   "metadata": {},
   "source": [
    "## Open and write data into a new text file \"first_textfile.txt\"\n",
    "- Checkout help(f.write)!"
   ]
  },
  {
   "cell_type": "code",
   "execution_count": 9,
   "id": "29a8ade5-14d7-4bc9-84fa-4c9f54be5093",
   "metadata": {
    "tags": []
   },
   "outputs": [
    {
     "name": "stdout",
     "output_type": "stream",
     "text": [
      "Help on built-in function write:\n",
      "\n",
      "write(text, /) method of _io.TextIOWrapper instance\n",
      "    Write string to stream.\n",
      "    Returns the number of characters written (which is always equal to\n",
      "    the length of the string).\n",
      "\n"
     ]
    }
   ],
   "source": [
    "help(f.write)"
   ]
  },
  {
   "cell_type": "code",
   "execution_count": 8,
   "id": "01bcae0c-156d-4e05-a7c4-683a10440382",
   "metadata": {},
   "outputs": [
    {
     "name": "stdout",
     "output_type": "stream",
     "text": [
      "15\n"
     ]
    }
   ],
   "source": [
    "f = open('first_textfile','w') # file mode\n",
    "print(f.write('This is my text'))\n",
    "f.close()"
   ]
  },
  {
   "cell_type": "markdown",
   "id": "1fe93034-7f58-430e-9add-ed932a381a05",
   "metadata": {},
   "source": [
    "### **Question**: What is the meaning of the number output by `f.write('This is my text')`"
   ]
  },
  {
   "cell_type": "markdown",
   "id": "cd2935be-459e-4780-bd5f-cf3b72b14850",
   "metadata": {},
   "source": [
    "The number represents the number of the characters written to the file by write() method. This number is in fact equal to the length of the string. "
   ]
  },
  {
   "cell_type": "markdown",
   "id": "ed4d393f",
   "metadata": {},
   "source": [
    "## The file mode\n",
    "help(open)<br>\n",
    "- 'r' read mode (default)\n",
    "- 'w' write mode\n",
    "- 'x' exclusive write mode\n",
    "- 'a' append mode\n",
    "- 'b' binary mode (added to another mode)\n",
    "- 't' text mode (default, added to another mode)\n",
    "- '+' read/write (added to another mode)\n",
    "\n",
    "### **Question:** What happens if you try to write data to the file when it was opened in 'r' mode?"
   ]
  },
  {
   "cell_type": "code",
   "execution_count": 10,
   "id": "2ecf6884-a53f-476b-a310-99ba4f7b9721",
   "metadata": {
    "tags": []
   },
   "outputs": [
    {
     "ename": "UnsupportedOperation",
     "evalue": "not writable",
     "output_type": "error",
     "traceback": [
      "\u001b[1;31m---------------------------------------------------------------------------\u001b[0m",
      "\u001b[1;31mUnsupportedOperation\u001b[0m                      Traceback (most recent call last)",
      "Cell \u001b[1;32mIn[10], line 2\u001b[0m\n\u001b[0;32m      1\u001b[0m f \u001b[38;5;241m=\u001b[39m \u001b[38;5;28mopen\u001b[39m(\u001b[38;5;124m'\u001b[39m\u001b[38;5;124mfirst_textfile\u001b[39m\u001b[38;5;124m'\u001b[39m,\u001b[38;5;124m'\u001b[39m\u001b[38;5;124mr\u001b[39m\u001b[38;5;124m'\u001b[39m) \u001b[38;5;66;03m# file mode\u001b[39;00m\n\u001b[1;32m----> 2\u001b[0m \u001b[38;5;28mprint\u001b[39m(\u001b[43mf\u001b[49m\u001b[38;5;241;43m.\u001b[39;49m\u001b[43mwrite\u001b[49m\u001b[43m(\u001b[49m\u001b[38;5;124;43m'\u001b[39;49m\u001b[38;5;124;43mThis is my text\u001b[39;49m\u001b[38;5;124;43m'\u001b[39;49m\u001b[43m)\u001b[49m)\n\u001b[0;32m      3\u001b[0m f\u001b[38;5;241m.\u001b[39mclose()\n",
      "\u001b[1;31mUnsupportedOperation\u001b[0m: not writable"
     ]
    }
   ],
   "source": [
    "f = open('first_textfile','r') # file mode\n",
    "print(f.write('This is my text'))\n",
    "f.close()"
   ]
  },
  {
   "cell_type": "markdown",
   "id": "b9f9c916-7805-480e-8cec-9fe95a15a515",
   "metadata": {},
   "source": [
    "If you try to write data to the file when it was opened in 'r' mode, you will encounter an 'UnsupportedOperation' error with a messaage like \"not writable\".  It's important to open the file in the appropriate mode ('w' for write, 'a' for append, or 'r+' for read and write) if you intend to perform write operations on the file."
   ]
  },
  {
   "cell_type": "markdown",
   "id": "501aea0e",
   "metadata": {
    "tags": []
   },
   "source": [
    "## Forgot to `f.close()` the file?"
   ]
  },
  {
   "cell_type": "code",
   "execution_count": 13,
   "id": "b0d44374-6ed3-443c-9ee0-9683bf1064c6",
   "metadata": {
    "tags": []
   },
   "outputs": [
    {
     "name": "stdout",
     "output_type": "stream",
     "text": [
      "15\n"
     ]
    }
   ],
   "source": [
    "f = open('first_textfile','w') # file mode\n",
    "print(f.write('This is my text'))"
   ]
  },
  {
   "cell_type": "markdown",
   "id": "1ebadca5-b964-47d8-a1e9-f98ddfb891c1",
   "metadata": {},
   "source": [
    "If you forget to f.close() the file, the file may not be closed properly (however Python runtime will automatically close files when the program exits), and any changes you made to it may not be flushed to disk immediately. Closing the file ensures that any buffered data is written to the file, and the file is properly closed, releasing system resources associated with it."
   ]
  },
  {
   "cell_type": "code",
   "execution_count": 15,
   "id": "97caf435",
   "metadata": {},
   "outputs": [
    {
     "name": "stdout",
     "output_type": "stream",
     "text": [
      "This is a first example of reading data from file!\n",
      "lets move on!\n",
      "\n"
     ]
    }
   ],
   "source": [
    "# open an example file called \"examplefile.txt\"\n",
    "f = open('examplefile.txt')\n",
    "data = f.read()\n",
    "print(data)"
   ]
  },
  {
   "cell_type": "markdown",
   "id": "f10b232d-c771-4d02-bf65-4e93003be678",
   "metadata": {},
   "source": [
    "### **Question**: What might happen if you do not `f.close()` multiple large files?"
   ]
  },
  {
   "cell_type": "markdown",
   "id": "ba4f6baa-5f5e-4b04-93d3-c9ece20c883f",
   "metadata": {
    "tags": []
   },
   "source": [
    "If we do not explicitly close multiple files using f.close(), several issues may arise.                              When you write data to a file, it may be buffered in memory before being flushed to the disk. If you don't close the file, the data may not be immediately written to the disk, risking data loss in the event of a program termination or system crash. Similarly, if you are writing to multiple files and there is interdependence between them, not closing the files might result in inconsistent or incomplete data across the files."
   ]
  },
  {
   "cell_type": "code",
   "execution_count": 16,
   "id": "5b3e6198-66f1-45a4-bd46-4365bc5c393d",
   "metadata": {},
   "outputs": [],
   "source": [
    "# please run this now\n",
    "f.close()"
   ]
  },
  {
   "cell_type": "markdown",
   "id": "149e5e41",
   "metadata": {},
   "source": [
    "## The `with` keyword: \n",
    "The with keyword helps to **automatically close** a file even if an exception was raised during the process."
   ]
  },
  {
   "cell_type": "code",
   "execution_count": 18,
   "id": "548731ba",
   "metadata": {},
   "outputs": [
    {
     "name": "stdout",
     "output_type": "stream",
     "text": [
      "The file was closed, we can move on!\n"
     ]
    }
   ],
   "source": [
    "with open('examplefile.txt') as f:\n",
    "    data = f.read()\n",
    "    \n",
    "# Check if file is closed (f.closed == True): True for closed, False for failed closure, file is still open\n",
    "if f.closed:\n",
    "    print('The file was closed, we can move on!')\n",
    "else:\n",
    "    print('Attention: File is still open!')  "
   ]
  },
  {
   "cell_type": "code",
   "execution_count": 19,
   "id": "89efe89b-d2fb-4ba2-af3b-5aecf0a4dd6a",
   "metadata": {},
   "outputs": [
    {
     "name": "stdout",
     "output_type": "stream",
     "text": [
      "Attention: File is still open!\n"
     ]
    }
   ],
   "source": [
    "f = open('examplefile.txt')\n",
    "data = f.read()\n",
    "\n",
    "if f.closed:\n",
    "    print('The file was closed, we can move on!')\n",
    "else:\n",
    "    print('Attention: File is still open!')"
   ]
  },
  {
   "cell_type": "code",
   "execution_count": 20,
   "id": "71623aee-38fb-47eb-99e5-13597cdcb36d",
   "metadata": {},
   "outputs": [],
   "source": [
    "# Now, it is important to close the file again:\n",
    "f.close()"
   ]
  },
  {
   "cell_type": "markdown",
   "id": "12f63274",
   "metadata": {},
   "source": [
    "### **Question**: What is the value of `f.closed` within the with sequence? What dataype does `f.closed` produce?"
   ]
  },
  {
   "cell_type": "markdown",
   "id": "416456bb-815e-4895-823c-4f0cb57c1132",
   "metadata": {},
   "source": [
    "Within the with block, f.closed is False because the file is still open. Once the with block is exited (either normally or due to an exception), the file is automatically closed, and f.closed becomes True.\n",
    "\n",
    "The f.closed attribute is of boolean type. It can have values True or False depending on whether the file is closed or open, respectively. Therefore, f.closed produce boolean datatype."
   ]
  },
  {
   "cell_type": "markdown",
   "id": "ab1d4c7c",
   "metadata": {},
   "source": [
    "## File method `f.readline()`\n",
    "help(f.readline)"
   ]
  },
  {
   "cell_type": "code",
   "execution_count": 21,
   "id": "1ab8275d-231d-4a4d-934e-ae45b75970c0",
   "metadata": {
    "tags": []
   },
   "outputs": [
    {
     "name": "stdout",
     "output_type": "stream",
     "text": [
      "Help on built-in function readline:\n",
      "\n",
      "readline(size=-1, /) method of _io.TextIOWrapper instance\n",
      "    Read until newline or EOF.\n",
      "    \n",
      "    Returns an empty string if EOF is hit immediately.\n",
      "\n"
     ]
    }
   ],
   "source": [
    "help(f.readline)"
   ]
  },
  {
   "cell_type": "code",
   "execution_count": 22,
   "id": "14559ded",
   "metadata": {},
   "outputs": [
    {
     "name": "stdout",
     "output_type": "stream",
     "text": [
      "This is a first example of reading data from file!\n",
      "\n"
     ]
    }
   ],
   "source": [
    "#readline(n=-1): Reads and returns one line from the file. Reads in at most n bytes if specified.\n",
    "with open('examplefile.txt') as f:\n",
    "    data = f.readline()\n",
    "    print(data)"
   ]
  },
  {
   "cell_type": "markdown",
   "id": "0a097816-18b5-47b9-ac7a-433992de1206",
   "metadata": {},
   "source": [
    "## File method `f.readlines()`\n",
    "help(f.readlines)"
   ]
  },
  {
   "cell_type": "code",
   "execution_count": 23,
   "id": "ed7bf7cf-3c53-4f57-b384-54bd7d984a03",
   "metadata": {
    "tags": []
   },
   "outputs": [
    {
     "name": "stdout",
     "output_type": "stream",
     "text": [
      "Help on built-in function readlines:\n",
      "\n",
      "readlines(hint=-1, /) method of _io.TextIOWrapper instance\n",
      "    Return a list of lines from the stream.\n",
      "    \n",
      "    hint can be specified to control the number of lines read: no more\n",
      "    lines will be read if the total size (in bytes/characters) of all\n",
      "    lines so far exceeds hint.\n",
      "\n"
     ]
    }
   ],
   "source": [
    "help(f.readlines)"
   ]
  },
  {
   "cell_type": "code",
   "execution_count": 24,
   "id": "0eb828b4",
   "metadata": {},
   "outputs": [
    {
     "name": "stdout",
     "output_type": "stream",
     "text": [
      "['This is a first example of reading data from file!\\n', 'lets move on!\\n']\n",
      "The number of lines in the file:  2\n"
     ]
    }
   ],
   "source": [
    "#readlines(n=-1): Reads and returns a list of lines from the file. Reads in at most n bytes if specified.\n",
    "with open('examplefile.txt') as f:\n",
    "    data = f.readlines()\n",
    "    print(data)\n",
    "    print(\"The number of lines in the file: \", len(data))"
   ]
  },
  {
   "cell_type": "markdown",
   "id": "7d9b3873-565f-4fb0-b261-5f9c7255b4f0",
   "metadata": {},
   "source": [
    "## File method `f.write()`"
   ]
  },
  {
   "cell_type": "code",
   "execution_count": 25,
   "id": "6c6c726d-60b8-4b01-b072-002d8a2b6a9b",
   "metadata": {},
   "outputs": [],
   "source": [
    "with open('examplefile.txt', 'a') as f: # Note: mode 'a' is the append mode\n",
    "    f.write('\\nThis text in a new line')\n"
   ]
  },
  {
   "cell_type": "markdown",
   "id": "110e4bf7",
   "metadata": {},
   "source": [
    "### **Question**: What happens if you have located your file in another directory?\n",
    "\n",
    "Copy the directory of your example file and paste it into a variable called file_path like this:<br>\n",
    "file_path = '/home/your/path/to/python_course/data/'<br>\n",
    "Check with your file navigator if the location of the examplefile.txt is correct.\n",
    "\n",
    "**Please note**:<br>\n",
    "Windows system use a backslash (\\\\) instead of a forward slash (/) when displaying the file paths, but you can always use forwad slashes in your code! Be careful using backslashes!\n",
    "\n",
    "A combination of \\t will be interpreted as a tab (try to print it)!<br>\n",
    "print('\\t')\n",
    "\n",
    "If you have to use backslashes, please use them like this:<br>\n",
    "\"C:\\\\\\path\\\\\\on\\\\\\windows\\\\\\examplefile.txt\"\n",
    "\n",
    "Can you still run the code?"
   ]
  },
  {
   "cell_type": "code",
   "execution_count": 99,
   "id": "ad6308ba",
   "metadata": {},
   "outputs": [
    {
     "name": "stdout",
     "output_type": "stream",
     "text": [
      "D:\\MSRSGI\\Winter_Semester23_24\\Python\\Session\\Session5_Data handling_reading_plotting_saving\\\n"
     ]
    }
   ],
   "source": [
    "# print your data path here:\n",
    "path = 'D:\\\\MSRSGI\\\\Winter_Semester23_24\\\\Python\\\\Session\\\\Session5_Data handling_reading_plotting_saving\\\\'\n",
    "print(path)"
   ]
  },
  {
   "cell_type": "code",
   "execution_count": 100,
   "id": "f570bd01-91a7-401b-ad85-b967fdb39bbd",
   "metadata": {},
   "outputs": [],
   "source": [
    "f = open(path + 'examplefile.txt')\n",
    "data = f.read()\n",
    "f.close()"
   ]
  },
  {
   "cell_type": "markdown",
   "id": "651592e3",
   "metadata": {},
   "source": [
    "## 2. Reading and writing data from/to a csv file (.csv)\n",
    "https://docs.python.org/3/library/csv.html\n",
    "\n",
    "**What is a csv file?**<br>\n",
    "The term csv is a shortcut for Comma Seperated Value file. A csv file is a special plain text file, which uses delimiters (commas) to seperate different data records. It is therefore used to store tables with data records. You can open the pythontutors.csv by using Excel or Python like this: "
   ]
  },
  {
   "cell_type": "code",
   "execution_count": 50,
   "id": "38346267",
   "metadata": {},
   "outputs": [
    {
     "name": "stdout",
     "output_type": "stream",
     "text": [
      "['tutor', ' building', ' room', ' phone number', ' email address']\n",
      "tutor\n",
      "['Annika', ' 435', ' 110b', ' 24462', ' annika.bork-unkelbach@kit.edu']\n",
      "Annika\n",
      "['Jutta', ' 435', ' 110b', ' 24462', ' jutta.vuellers@kit.edu']\n",
      "Jutta\n",
      "['Julia', ' 435', ' 110a', ' 23822', ' julia.fuchs@kit.edu']\n",
      "Julia\n"
     ]
    }
   ],
   "source": [
    "#import the python csv library to work with csv files \n",
    "import csv\n",
    "filename = 'pythontutors.csv'\n",
    "with open(filename, 'r') as csv_file:\n",
    "    reader = csv.reader(csv_file, delimiter= ',')\n",
    "    for row in reader:\n",
    "        print(row)\n",
    "        print(row[0])\n",
    "        \n",
    "#ATTENTION: Be aware of spaces in the strings!!!"
   ]
  },
  {
   "cell_type": "markdown",
   "id": "5d2652ab",
   "metadata": {},
   "source": [
    "With csv.reader(), you can access or index the values of the csv file using the bracket notation`[]`. There are, however, some drawbacks. Please think of the following situations:\n",
    "\n",
    "- Imagine you don't know the exact position of the column 'phone number'\n",
    "- Imagine someone edited the csv file and changed the order of the columns. What would this mean for your code?\n",
    "- Imagine someone added a new column. What impact would this have on your code?\n"
   ]
  },
  {
   "cell_type": "markdown",
   "id": "a962ca5a-d4de-4cb0-98f8-dd606366a407",
   "metadata": {},
   "source": [
    "### Write each row of the csv file into the dictionary `data` and create the list called `phone` containing all phone numbers."
   ]
  },
  {
   "cell_type": "code",
   "execution_count": 54,
   "id": "e321788d",
   "metadata": {},
   "outputs": [
    {
     "name": "stdout",
     "output_type": "stream",
     "text": [
      "Complete dictionary: \n",
      " {0: {'tutor': 'Annika', ' building': ' 435', ' room': ' 110b', ' phone number': ' 24462', ' email address': ' annika.bork-unkelbach@kit.edu'}, 1: {'tutor': 'Jutta', ' building': ' 435', ' room': ' 110b', ' phone number': ' 24462', ' email address': ' jutta.vuellers@kit.edu'}, 2: {'tutor': 'Julia', ' building': ' 435', ' room': ' 110a', ' phone number': ' 23822', ' email address': ' julia.fuchs@kit.edu'}}\n",
      "Phone list: \n",
      " [' 24462', ' 24462', ' 23822']\n"
     ]
    }
   ],
   "source": [
    "import csv\n",
    "filename = 'pythontutors.csv'\n",
    "with open(filename, 'r') as csv_file:\n",
    "    reader = csv.DictReader(csv_file, delimiter= ',')\n",
    "    data = {}\n",
    "    phone = []\n",
    "    i=0\n",
    "    for row in reader:\n",
    "        #print('This is a row: \\n',row)\n",
    "        #ATTENTION: Be aware of spaces in the strings!!!\n",
    "        phone.append(row[' phone number'])\n",
    "        data[i] = dict(row)\n",
    "        i = i + 1\n",
    "    \n",
    "    print('Complete dictionary: \\n', data)\n",
    "    print('Phone list: \\n', phone)\n",
    "    #print('Phone number of first dictionary entry: \\n',data[0][' phone number'])"
   ]
  },
  {
   "cell_type": "markdown",
   "id": "cbe62622-18ee-49a9-84ec-6732a691908c",
   "metadata": {},
   "source": [
    "## 2.1 Task: Write data into a csv file\n",
    "Now write a csv file 'students.csv' that contains the 4 columns \n",
    "- 'name ': student name\n",
    "- 'age': student age\n",
    "- 'height': body height\n",
    "- 'siblings': number of siblings\n",
    "\n",
    "Tip: \n",
    "Use the csv.DictWriter and fieldnames. help(csv.DictWriter)\n",
    "\n",
    "In preparation ask at minimum 10 of your fellow students and enter their name, age, body height and the number of siblings they have. Please note: All the entrys are voluntary! You can also write down fiction data and names or simply put the name to 'AnonymousX'.\n",
    "\n",
    "The created file will be used in the following tasks."
   ]
  },
  {
   "cell_type": "code",
   "execution_count": 1,
   "id": "96691fdf-319a-44f3-b372-f7adac172e77",
   "metadata": {
    "tags": []
   },
   "outputs": [
    {
     "name": "stdout",
     "output_type": "stream",
     "text": [
      "The file \"students.csv\" has been created successfully.\n"
     ]
    }
   ],
   "source": [
    "import csv\n",
    "\n",
    "# Sample data for 10 students\n",
    "students_data = [\n",
    "    {'name': 'Alice', 'age': 20, 'height': 165, 'siblings': 2},\n",
    "    {'name': 'Bob', 'age': 22, 'height': 180, 'siblings': 1},\n",
    "    {'name': 'Charlie', 'age': 21, 'height': 175, 'siblings': 3},\n",
    "    {'name': 'David', 'age': 23, 'height': 170, 'siblings': 0},\n",
    "    {'name': 'Eva', 'age': 19, 'height': 160, 'siblings': 4},\n",
    "    {'name': 'Frank', 'age': 25, 'height': 185, 'siblings': 2},\n",
    "    {'name': 'Grace', 'age': 20, 'height': 170, 'siblings': 1},\n",
    "    {'name': 'Hank', 'age': 21, 'height': 175, 'siblings': 2},\n",
    "    {'name': 'Ivy', 'age': 22, 'height': 160, 'siblings': 3},\n",
    "    {'name': 'Jack', 'age': 24, 'height': 178, 'siblings': 1}\n",
    "]\n",
    "\n",
    "# Define the CSV file and fieldnames\n",
    "csv_filename = 'students.csv'\n",
    "fieldnames = ['name', 'age', 'height', 'siblings']\n",
    "\n",
    "# Write data to CSV file\n",
    "with open(csv_filename, mode='w', newline='') as file:\n",
    "    writer = csv.DictWriter(file, fieldnames=fieldnames)\n",
    "\n",
    "    # Write header\n",
    "    writer.writeheader()\n",
    "\n",
    "    # Write data rows\n",
    "    writer.writerows(students_data)\n",
    "\n",
    "print(f'The file \"{csv_filename}\" has been created successfully.')"
   ]
  },
  {
   "cell_type": "markdown",
   "id": "2d729b99-74a4-4295-b7f7-981442f1c1db",
   "metadata": {},
   "source": [
    "## 3. Pandas data frames\n",
    "\n",
    "Pandas is an extremely useful package for geoscientific data analyses. \n",
    "\n",
    "A Pandas DataFrame is a 2-dimensional (rows vs. columns) data structure that can store data of different types (including characters, integers, floating point values, categorical data and more) in columns. It is similar to an Excel spreadsheet, a SQL table or the data.frame in R<br>\n",
    "It can be compared to an numpy array that you will work with in the next **Exercise 6** and is often used for time series analyses.\n",
    "\n",
    "There are many valuable online resources that make it easy to learn more about Pandas. Look for yourself! <br>\n",
    "https://pandas.pydata.org/docs/user_guide/index.html"
   ]
  },
  {
   "cell_type": "markdown",
   "id": "08fe46c0-a496-4928-95f2-3b82c7eaf99f",
   "metadata": {},
   "source": [
    "### Instead of using file object methods as done above we are now using pandas to read a csv file"
   ]
  },
  {
   "cell_type": "code",
   "execution_count": 95,
   "id": "050baa2a",
   "metadata": {},
   "outputs": [
    {
     "data": {
      "text/html": [
       "<div>\n",
       "<style scoped>\n",
       "    .dataframe tbody tr th:only-of-type {\n",
       "        vertical-align: middle;\n",
       "    }\n",
       "\n",
       "    .dataframe tbody tr th {\n",
       "        vertical-align: top;\n",
       "    }\n",
       "\n",
       "    .dataframe thead th {\n",
       "        text-align: right;\n",
       "    }\n",
       "</style>\n",
       "<table border=\"1\" class=\"dataframe\">\n",
       "  <thead>\n",
       "    <tr style=\"text-align: right;\">\n",
       "      <th></th>\n",
       "      <th>tutor</th>\n",
       "      <th>building</th>\n",
       "      <th>room</th>\n",
       "      <th>phone number</th>\n",
       "      <th>email address</th>\n",
       "    </tr>\n",
       "  </thead>\n",
       "  <tbody>\n",
       "    <tr>\n",
       "      <th>0</th>\n",
       "      <td>Annika</td>\n",
       "      <td>435</td>\n",
       "      <td>110b</td>\n",
       "      <td>24462</td>\n",
       "      <td>annika.bork-unkelbach@kit.edu</td>\n",
       "    </tr>\n",
       "    <tr>\n",
       "      <th>1</th>\n",
       "      <td>Jutta</td>\n",
       "      <td>435</td>\n",
       "      <td>110b</td>\n",
       "      <td>24462</td>\n",
       "      <td>jutta.vuellers@kit.edu</td>\n",
       "    </tr>\n",
       "    <tr>\n",
       "      <th>2</th>\n",
       "      <td>Julia</td>\n",
       "      <td>435</td>\n",
       "      <td>110a</td>\n",
       "      <td>23822</td>\n",
       "      <td>julia.fuchs@kit.edu</td>\n",
       "    </tr>\n",
       "  </tbody>\n",
       "</table>\n",
       "</div>"
      ],
      "text/plain": [
       "    tutor   building   room   phone number                   email address\n",
       "0  Annika        435   110b          24462   annika.bork-unkelbach@kit.edu\n",
       "1   Jutta        435   110b          24462          jutta.vuellers@kit.edu\n",
       "2   Julia        435   110a          23822             julia.fuchs@kit.edu"
      ]
     },
     "execution_count": 95,
     "metadata": {},
     "output_type": "execute_result"
    }
   ],
   "source": [
    "import pandas as pd\n",
    "filename = 'pythontutors.csv'\n",
    "\n",
    "csv_data = pd.read_csv(filename, delimiter=',')\n",
    "csv_data\n",
    "# csv_data.info()\n",
    "# csv_data.shape \n",
    "# csv_data[' room'].tolist()\n",
    "# csv_data[' room']"
   ]
  },
  {
   "cell_type": "code",
   "execution_count": 96,
   "id": "4c8460bf-3407-40b5-ad19-c9386ba32863",
   "metadata": {
    "tags": []
   },
   "outputs": [
    {
     "name": "stdout",
     "output_type": "stream",
     "text": [
      "<class 'pandas.core.frame.DataFrame'>\n",
      "RangeIndex: 3 entries, 0 to 2\n",
      "Data columns (total 5 columns):\n",
      " #   Column          Non-Null Count  Dtype \n",
      "---  ------          --------------  ----- \n",
      " 0   tutor           3 non-null      object\n",
      " 1    building       3 non-null      int64 \n",
      " 2    room           3 non-null      object\n",
      " 3    phone number   3 non-null      int64 \n",
      " 4    email address  3 non-null      object\n",
      "dtypes: int64(2), object(3)\n",
      "memory usage: 252.0+ bytes\n"
     ]
    }
   ],
   "source": [
    "csv_data.info() #gives the information of the dataframe"
   ]
  },
  {
   "cell_type": "code",
   "execution_count": 63,
   "id": "a3cc4dc7-d664-4346-87e6-a1c638ab33b7",
   "metadata": {
    "tags": []
   },
   "outputs": [
    {
     "data": {
      "text/plain": [
       "(3, 5)"
      ]
     },
     "execution_count": 63,
     "metadata": {},
     "output_type": "execute_result"
    }
   ],
   "source": [
    "csv_data.shape #returns the dimension of the dataframe"
   ]
  },
  {
   "cell_type": "code",
   "execution_count": 65,
   "id": "971df129-ac01-407c-8153-2842be8335e3",
   "metadata": {
    "tags": []
   },
   "outputs": [
    {
     "data": {
      "text/plain": [
       "[' 110b', ' 110b', ' 110a']"
      ]
     },
     "execution_count": 65,
     "metadata": {},
     "output_type": "execute_result"
    }
   ],
   "source": [
    "csv_data[' room'].tolist() #returns the room column values into the list"
   ]
  },
  {
   "cell_type": "code",
   "execution_count": 68,
   "id": "488d918b-9d22-4acf-b0bb-45b0604dcb80",
   "metadata": {
    "tags": []
   },
   "outputs": [
    {
     "data": {
      "text/plain": [
       "0     110b\n",
       "1     110b\n",
       "2     110a\n",
       "Name:  room, dtype: object"
      ]
     },
     "execution_count": 68,
     "metadata": {},
     "output_type": "execute_result"
    }
   ],
   "source": [
    "csv_data[' room'] #returns the room column values along with the column index"
   ]
  },
  {
   "cell_type": "code",
   "execution_count": 67,
   "id": "4b01422a-8b97-4822-9627-f247b1bf3123",
   "metadata": {},
   "outputs": [
    {
     "data": {
      "text/plain": [
       "pandas.core.frame.DataFrame"
      ]
     },
     "execution_count": 67,
     "metadata": {},
     "output_type": "execute_result"
    }
   ],
   "source": [
    "type(csv_data)"
   ]
  },
  {
   "cell_type": "markdown",
   "id": "97f23954-530b-49ae-8ff8-144ed7c98bed",
   "metadata": {},
   "source": [
    "### Open the `students.csv` file you have created above. Explore the data frame options and methods."
   ]
  },
  {
   "cell_type": "code",
   "execution_count": 99,
   "id": "282cab0a-795f-47c4-b834-073ac913f095",
   "metadata": {},
   "outputs": [
    {
     "data": {
      "text/plain": [
       "pandas.core.frame.DataFrame"
      ]
     },
     "execution_count": 99,
     "metadata": {},
     "output_type": "execute_result"
    }
   ],
   "source": [
    "df = pd.read_csv('students.csv', index_col = 'name')\n",
    "type(df)"
   ]
  },
  {
   "cell_type": "code",
   "execution_count": 100,
   "id": "7170764a-b746-4f7e-8e36-1855cc50bd94",
   "metadata": {},
   "outputs": [
    {
     "data": {
      "text/html": [
       "<div>\n",
       "<style scoped>\n",
       "    .dataframe tbody tr th:only-of-type {\n",
       "        vertical-align: middle;\n",
       "    }\n",
       "\n",
       "    .dataframe tbody tr th {\n",
       "        vertical-align: top;\n",
       "    }\n",
       "\n",
       "    .dataframe thead th {\n",
       "        text-align: right;\n",
       "    }\n",
       "</style>\n",
       "<table border=\"1\" class=\"dataframe\">\n",
       "  <thead>\n",
       "    <tr style=\"text-align: right;\">\n",
       "      <th></th>\n",
       "      <th>age</th>\n",
       "      <th>height</th>\n",
       "      <th>siblings</th>\n",
       "    </tr>\n",
       "    <tr>\n",
       "      <th>name</th>\n",
       "      <th></th>\n",
       "      <th></th>\n",
       "      <th></th>\n",
       "    </tr>\n",
       "  </thead>\n",
       "  <tbody>\n",
       "    <tr>\n",
       "      <th>Alice</th>\n",
       "      <td>20</td>\n",
       "      <td>165</td>\n",
       "      <td>2</td>\n",
       "    </tr>\n",
       "    <tr>\n",
       "      <th>Bob</th>\n",
       "      <td>22</td>\n",
       "      <td>180</td>\n",
       "      <td>1</td>\n",
       "    </tr>\n",
       "    <tr>\n",
       "      <th>Charlie</th>\n",
       "      <td>21</td>\n",
       "      <td>175</td>\n",
       "      <td>3</td>\n",
       "    </tr>\n",
       "    <tr>\n",
       "      <th>David</th>\n",
       "      <td>23</td>\n",
       "      <td>170</td>\n",
       "      <td>0</td>\n",
       "    </tr>\n",
       "    <tr>\n",
       "      <th>Eva</th>\n",
       "      <td>19</td>\n",
       "      <td>160</td>\n",
       "      <td>4</td>\n",
       "    </tr>\n",
       "  </tbody>\n",
       "</table>\n",
       "</div>"
      ],
      "text/plain": [
       "         age  height  siblings\n",
       "name                          \n",
       "Alice     20     165         2\n",
       "Bob       22     180         1\n",
       "Charlie   21     175         3\n",
       "David     23     170         0\n",
       "Eva       19     160         4"
      ]
     },
     "execution_count": 100,
     "metadata": {},
     "output_type": "execute_result"
    }
   ],
   "source": [
    "df.head() # only shows the first 5 rows"
   ]
  },
  {
   "cell_type": "code",
   "execution_count": 94,
   "id": "983e261a-7ca8-4252-b69c-49d192b7d323",
   "metadata": {},
   "outputs": [
    {
     "data": {
      "text/html": [
       "<div>\n",
       "<style scoped>\n",
       "    .dataframe tbody tr th:only-of-type {\n",
       "        vertical-align: middle;\n",
       "    }\n",
       "\n",
       "    .dataframe tbody tr th {\n",
       "        vertical-align: top;\n",
       "    }\n",
       "\n",
       "    .dataframe thead th {\n",
       "        text-align: right;\n",
       "    }\n",
       "</style>\n",
       "<table border=\"1\" class=\"dataframe\">\n",
       "  <thead>\n",
       "    <tr style=\"text-align: right;\">\n",
       "      <th></th>\n",
       "      <th>age</th>\n",
       "      <th>height</th>\n",
       "      <th>siblings</th>\n",
       "    </tr>\n",
       "    <tr>\n",
       "      <th>name</th>\n",
       "      <th></th>\n",
       "      <th></th>\n",
       "      <th></th>\n",
       "    </tr>\n",
       "  </thead>\n",
       "  <tbody>\n",
       "    <tr>\n",
       "      <th>Frank</th>\n",
       "      <td>25</td>\n",
       "      <td>185</td>\n",
       "      <td>2</td>\n",
       "    </tr>\n",
       "    <tr>\n",
       "      <th>Grace</th>\n",
       "      <td>20</td>\n",
       "      <td>170</td>\n",
       "      <td>1</td>\n",
       "    </tr>\n",
       "    <tr>\n",
       "      <th>Hank</th>\n",
       "      <td>21</td>\n",
       "      <td>175</td>\n",
       "      <td>2</td>\n",
       "    </tr>\n",
       "    <tr>\n",
       "      <th>Ivy</th>\n",
       "      <td>22</td>\n",
       "      <td>160</td>\n",
       "      <td>3</td>\n",
       "    </tr>\n",
       "    <tr>\n",
       "      <th>Jack</th>\n",
       "      <td>24</td>\n",
       "      <td>178</td>\n",
       "      <td>1</td>\n",
       "    </tr>\n",
       "  </tbody>\n",
       "</table>\n",
       "</div>"
      ],
      "text/plain": [
       "       age  height  siblings\n",
       "name                        \n",
       "Frank   25     185         2\n",
       "Grace   20     170         1\n",
       "Hank    21     175         2\n",
       "Ivy     22     160         3\n",
       "Jack    24     178         1"
      ]
     },
     "execution_count": 94,
     "metadata": {},
     "output_type": "execute_result"
    }
   ],
   "source": [
    "df.tail() # only shows the last 5 rows"
   ]
  },
  {
   "cell_type": "code",
   "execution_count": 84,
   "id": "3264be08-b1b9-4bda-a306-c1254a0682c1",
   "metadata": {},
   "outputs": [
    {
     "data": {
      "text/plain": [
       "name\n",
       "Alice      20\n",
       "Bob        22\n",
       "Charlie    21\n",
       "David      23\n",
       "Eva        19\n",
       "Frank      25\n",
       "Grace      20\n",
       "Hank       21\n",
       "Ivy        22\n",
       "Jack       24\n",
       "Name: age, dtype: int64"
      ]
     },
     "execution_count": 84,
     "metadata": {},
     "output_type": "execute_result"
    }
   ],
   "source": [
    "df[\"age\"] # select different columns"
   ]
  },
  {
   "cell_type": "code",
   "execution_count": 85,
   "id": "99f86741-6e9f-438f-9783-c6851e9c24f7",
   "metadata": {},
   "outputs": [
    {
     "data": {
      "text/plain": [
       "19"
      ]
     },
     "execution_count": 85,
     "metadata": {},
     "output_type": "execute_result"
    }
   ],
   "source": [
    "df[\"age\"].min()"
   ]
  },
  {
   "cell_type": "markdown",
   "id": "5509f806-c5e7-4912-a626-4acb54509081",
   "metadata": {},
   "source": [
    "## 4. Plot data with matplotlib\n",
    "\n",
    "Here are some helpful examples:\n",
    "https://matplotlib.org/\n",
    "https://matplotlib.org/stable/plot_types/index.html\n",
    "\n",
    "Here are some helpful summaries:\n",
    "https://matplotlib.org/cheatsheets/handout-beginner.pdf\n",
    "https://matplotlib.org/cheatsheets/cheatsheets.pdf"
   ]
  },
  {
   "cell_type": "code",
   "execution_count": 101,
   "id": "acb3dd82-35bc-4d8c-bd83-4b96725aae7b",
   "metadata": {},
   "outputs": [
    {
     "data": {
      "image/png": "[encoded data removed]",
      "text/plain": [
       "<Figure size 640x480 with 1 Axes>"
      ]
     },
     "metadata": {},
     "output_type": "display_data"
    }
   ],
   "source": [
    "import matplotlib.pyplot as plt\n",
    "\n",
    "# Two different plotting options (Note the different syntax) as explained below producing the same figure. Only ONE mode can be equal to TRUE\n",
    "matplotlib_variant = False\n",
    "pandas_variant = True\n",
    "\n",
    "\n",
    "fig, ax = plt.subplots() # Here Figure settings can be defined \n",
    "\n",
    "if matplotlib_variant: \n",
    "    # data is plotted using matplotlib\n",
    "    ax.plot(df[\"age\"])\n",
    "if pandas_variant: \n",
    "    # data is plotted using matplotlib under the hood of pandas data frames\n",
    "    df[\"age\"].plot(ax=ax)\n",
    "\n",
    "\n",
    "plt.show()"
   ]
  },
  {
   "cell_type": "code",
   "execution_count": 102,
   "id": "1564b429-cd17-44b7-b4a2-fc96302b6c23",
   "metadata": {},
   "outputs": [
    {
     "data": {
      "text/plain": [
       "<Axes: xlabel='age', ylabel='height'>"
      ]
     },
     "execution_count": 102,
     "metadata": {},
     "output_type": "execute_result"
    },
    {
     "data": {
      "image/png": "[encoded data removed]",
      "text/plain": [
       "<Figure size 640x480 with 1 Axes>"
      ]
     },
     "metadata": {},
     "output_type": "display_data"
    }
   ],
   "source": [
    "df.plot.scatter(x=\"age\", y=\"height\")"
   ]
  },
  {
   "cell_type": "markdown",
   "id": "61768c96",
   "metadata": {},
   "source": [
    "## Go interactive"
   ]
  },
  {
   "cell_type": "code",
   "execution_count": 107,
   "id": "27efe614",
   "metadata": {},
   "outputs": [],
   "source": [
    "%matplotlib qt\n",
    "fig, ax = plt.subplots() # Here Figure settings can be defined \n",
    "df[\"age\"].plot(ax=ax)\n",
    "plt.show()"
   ]
  },
  {
   "cell_type": "markdown",
   "id": "d24c0c5d",
   "metadata": {},
   "source": [
    "## Style your plot"
   ]
  },
  {
   "cell_type": "code",
   "execution_count": 109,
   "id": "d50ca030",
   "metadata": {},
   "outputs": [],
   "source": [
    "fig, ax = plt.subplots()\n",
    "ax.plot(df[\"age\"], linewidth=3)\n",
    "ax.set_title(\"My first plot is showing the student's age\", fontsize=12)\n",
    "ax.set_xlabel(\"First to last student\", fontsize=12)\n",
    "ax.set_ylabel(\"Age\", fontsize=12)\n",
    "ax.tick_params(axis='both', labelsize=12)\n",
    "plt.show()"
   ]
  },
  {
   "cell_type": "markdown",
   "id": "de202604-83d3-4e38-9a91-c69d3a80d6d4",
   "metadata": {},
   "source": [
    "## Save figures using `plt.savefig()`"
   ]
  },
  {
   "cell_type": "code",
   "execution_count": 110,
   "id": "28ee8068-1c84-4083-9e5e-71d50d55dffc",
   "metadata": {},
   "outputs": [],
   "source": [
    "fig, ax = plt.subplots()\n",
    "ax.plot(df[\"age\"], linewidth=3)\n",
    "ax.set_title(\"My first plot is showing the student's age\", fontsize=12)\n",
    "ax.set_xlabel(\"First to last student\", fontsize=12)\n",
    "ax.set_ylabel(\"Age\", fontsize=12)\n",
    "ax.tick_params(axis='both', labelsize=12)\n",
    "plt.savefig('age.png')"
   ]
  },
  {
   "cell_type": "markdown",
   "id": "e96300b1-87b9-40e7-850c-215b37258d15",
   "metadata": {},
   "source": [
    "## 4.1 Task: Plot boxplots\n",
    "\n",
    "Type `df.plot` and (TAB) or (Shift + TAB) to get an overview over the plot methods.\n",
    "\n",
    "Create two boxplots showing the body height of students below (first BP) and above the mean age (second BP)."
   ]
  },
  {
   "cell_type": "code",
   "execution_count": 115,
   "id": "0e093abe-3db7-43bd-b8ce-26b5bfd3dd1b",
   "metadata": {
    "tags": []
   },
   "outputs": [
    {
     "data": {
      "text/plain": [
       "<pandas.plotting._core.PlotAccessor object at 0x000002CC792C0690>"
      ]
     },
     "execution_count": 115,
     "metadata": {},
     "output_type": "execute_result"
    }
   ],
   "source": [
    "df.plot"
   ]
  },
  {
   "cell_type": "code",
   "execution_count": 2,
   "id": "0da6878d-3c20-4dd0-810e-410d20bdb4fc",
   "metadata": {
    "tags": []
   },
   "outputs": [
    {
     "data": {
      "text/plain": [
       "[{'name': 'Alice', 'age': 20, 'height': 165, 'siblings': 2},\n",
       " {'name': 'Bob', 'age': 22, 'height': 180, 'siblings': 1},\n",
       " {'name': 'Charlie', 'age': 21, 'height': 175, 'siblings': 3},\n",
       " {'name': 'David', 'age': 23, 'height': 170, 'siblings': 0},\n",
       " {'name': 'Eva', 'age': 19, 'height': 160, 'siblings': 4},\n",
       " {'name': 'Frank', 'age': 25, 'height': 185, 'siblings': 2},\n",
       " {'name': 'Grace', 'age': 20, 'height': 170, 'siblings': 1},\n",
       " {'name': 'Hank', 'age': 21, 'height': 175, 'siblings': 2},\n",
       " {'name': 'Ivy', 'age': 22, 'height': 160, 'siblings': 3},\n",
       " {'name': 'Jack', 'age': 24, 'height': 178, 'siblings': 1}]"
      ]
     },
     "execution_count": 2,
     "metadata": {},
     "output_type": "execute_result"
    }
   ],
   "source": [
    "students_data #imported from above"
   ]
  },
  {
   "cell_type": "code",
   "execution_count": 4,
   "id": "aa908e86-78bc-4a61-a2a6-ea1786196d1a",
   "metadata": {
    "tags": []
   },
   "outputs": [],
   "source": [
    "import csv\n",
    "import pandas as pd\n",
    "import seaborn as sns\n",
    "import matplotlib.pyplot as plt"
   ]
  },
  {
   "cell_type": "code",
   "execution_count": 6,
   "id": "f9e125d6-af8c-4fde-8125-eba884581929",
   "metadata": {
    "tags": []
   },
   "outputs": [
    {
     "data": {
      "text/html": [
       "<div>\n",
       "<style scoped>\n",
       "    .dataframe tbody tr th:only-of-type {\n",
       "        vertical-align: middle;\n",
       "    }\n",
       "\n",
       "    .dataframe tbody tr th {\n",
       "        vertical-align: top;\n",
       "    }\n",
       "\n",
       "    .dataframe thead th {\n",
       "        text-align: right;\n",
       "    }\n",
       "</style>\n",
       "<table border=\"1\" class=\"dataframe\">\n",
       "  <thead>\n",
       "    <tr style=\"text-align: right;\">\n",
       "      <th></th>\n",
       "      <th>name</th>\n",
       "      <th>age</th>\n",
       "      <th>height</th>\n",
       "      <th>siblings</th>\n",
       "    </tr>\n",
       "  </thead>\n",
       "  <tbody>\n",
       "    <tr>\n",
       "      <th>0</th>\n",
       "      <td>Alice</td>\n",
       "      <td>20</td>\n",
       "      <td>165</td>\n",
       "      <td>2</td>\n",
       "    </tr>\n",
       "    <tr>\n",
       "      <th>1</th>\n",
       "      <td>Bob</td>\n",
       "      <td>22</td>\n",
       "      <td>180</td>\n",
       "      <td>1</td>\n",
       "    </tr>\n",
       "    <tr>\n",
       "      <th>2</th>\n",
       "      <td>Charlie</td>\n",
       "      <td>21</td>\n",
       "      <td>175</td>\n",
       "      <td>3</td>\n",
       "    </tr>\n",
       "    <tr>\n",
       "      <th>3</th>\n",
       "      <td>David</td>\n",
       "      <td>23</td>\n",
       "      <td>170</td>\n",
       "      <td>0</td>\n",
       "    </tr>\n",
       "    <tr>\n",
       "      <th>4</th>\n",
       "      <td>Eva</td>\n",
       "      <td>19</td>\n",
       "      <td>160</td>\n",
       "      <td>4</td>\n",
       "    </tr>\n",
       "    <tr>\n",
       "      <th>5</th>\n",
       "      <td>Frank</td>\n",
       "      <td>25</td>\n",
       "      <td>185</td>\n",
       "      <td>2</td>\n",
       "    </tr>\n",
       "    <tr>\n",
       "      <th>6</th>\n",
       "      <td>Grace</td>\n",
       "      <td>20</td>\n",
       "      <td>170</td>\n",
       "      <td>1</td>\n",
       "    </tr>\n",
       "    <tr>\n",
       "      <th>7</th>\n",
       "      <td>Hank</td>\n",
       "      <td>21</td>\n",
       "      <td>175</td>\n",
       "      <td>2</td>\n",
       "    </tr>\n",
       "    <tr>\n",
       "      <th>8</th>\n",
       "      <td>Ivy</td>\n",
       "      <td>22</td>\n",
       "      <td>160</td>\n",
       "      <td>3</td>\n",
       "    </tr>\n",
       "    <tr>\n",
       "      <th>9</th>\n",
       "      <td>Jack</td>\n",
       "      <td>24</td>\n",
       "      <td>178</td>\n",
       "      <td>1</td>\n",
       "    </tr>\n",
       "  </tbody>\n",
       "</table>\n",
       "</div>"
      ],
      "text/plain": [
       "      name  age  height  siblings\n",
       "0    Alice   20     165         2\n",
       "1      Bob   22     180         1\n",
       "2  Charlie   21     175         3\n",
       "3    David   23     170         0\n",
       "4      Eva   19     160         4\n",
       "5    Frank   25     185         2\n",
       "6    Grace   20     170         1\n",
       "7     Hank   21     175         2\n",
       "8      Ivy   22     160         3\n",
       "9     Jack   24     178         1"
      ]
     },
     "execution_count": 6,
     "metadata": {},
     "output_type": "execute_result"
    }
   ],
   "source": [
    "# Create a DataFrame\n",
    "df = pd.DataFrame(students_data)\n",
    "df"
   ]
  },
  {
   "cell_type": "code",
   "execution_count": 9,
   "id": "20c2c841-d677-4bcf-bebc-b9805939ee5e",
   "metadata": {},
   "outputs": [
    {
     "data": {
      "text/plain": [
       "21.7"
      ]
     },
     "execution_count": 9,
     "metadata": {},
     "output_type": "execute_result"
    }
   ],
   "source": [
    "# Calculate the mean age\n",
    "mean_age = df['age'].mean()\n",
    "mean_age"
   ]
  },
  {
   "cell_type": "code",
   "execution_count": 10,
   "id": "82c3ce0f-ba5c-470d-a584-3cc3db11e18d",
   "metadata": {
    "tags": []
   },
   "outputs": [
    {
     "data": {
      "image/png": "[encoded data removed]",
      "text/plain": [
       "<Figure size 1200x600 with 2 Axes>"
      ]
     },
     "metadata": {},
     "output_type": "display_data"
    }
   ],
   "source": [
    "# Create two subsets of data based on age\n",
    "below_mean_age = df[df['age'] < mean_age]\n",
    "above_mean_age = df[df['age'] >= mean_age]\n",
    "\n",
    "# Set up the matplotlib figure\n",
    "fig, axes = plt.subplots(nrows=1, ncols=2, figsize=(12, 6))\n",
    "\n",
    "# Boxplot for body height below mean age\n",
    "sns.boxplot(x='height', data=below_mean_age, ax=axes[0])\n",
    "axes[0].set_title('Body Height Below Mean Age')\n",
    "\n",
    "# Boxplot for body height above mean age\n",
    "sns.boxplot(x='height', data=above_mean_age, ax=axes[1])\n",
    "axes[1].set_title('Body Height Above Mean Age')\n",
    "\n",
    "# Show the plots\n",
    "plt.show()"
   ]
  },
  {
   "cell_type": "markdown",
   "id": "364ab1e0",
   "metadata": {},
   "source": [
    "## 4.2 Task: Visualize real scientific data\n",
    "Open the file GBB_W_2017-01_2017-06.dat with a simple Editor and get a first overview. Open it with a spreadsheet programm and try to plot single columns of data.\n",
    "\n",
    "Next, write a python programm that reads the data and plots some of the columns (for example the average air temperature at 2m).\n",
    "\n",
    "Add labels and title to the figure"
   ]
  },
  {
   "cell_type": "code",
   "execution_count": 93,
   "id": "7ec0449e-4f50-4447-af2d-0dea339434d7",
   "metadata": {
    "tags": []
   },
   "outputs": [],
   "source": [
    "import pandas as pd\n",
    "import matplotlib.pyplot as plt"
   ]
  },
  {
   "cell_type": "code",
   "execution_count": 94,
   "id": "ccbb112d-d6d9-49fc-b834-7bc6a9d709b0",
   "metadata": {
    "tags": []
   },
   "outputs": [
    {
     "data": {
      "text/html": [
       "<div>\n",
       "<style scoped>\n",
       "    .dataframe tbody tr th:only-of-type {\n",
       "        vertical-align: middle;\n",
       "    }\n",
       "\n",
       "    .dataframe tbody tr th {\n",
       "        vertical-align: top;\n",
       "    }\n",
       "\n",
       "    .dataframe thead th {\n",
       "        text-align: right;\n",
       "    }\n",
       "</style>\n",
       "<table border=\"1\" class=\"dataframe\">\n",
       "  <thead>\n",
       "    <tr style=\"text-align: right;\">\n",
       "      <th></th>\n",
       "      <th>TIMESTAMP</th>\n",
       "      <th>RECORD</th>\n",
       "      <th>CM3Up_Avg</th>\n",
       "      <th>CM3Up_Std</th>\n",
       "      <th>CM3Dn_Avg</th>\n",
       "      <th>CM3Dn_Std</th>\n",
       "      <th>CG3Up_Avg</th>\n",
       "      <th>CG3Up_Std</th>\n",
       "      <th>CG3Dn_Avg</th>\n",
       "      <th>CG3Dn_Std</th>\n",
       "      <th>...</th>\n",
       "      <th>TmV_1128_Avg</th>\n",
       "      <th>IRR_1128_ground_Avg</th>\n",
       "      <th>IRR_1128_ground_Std</th>\n",
       "      <th>IRR_1128_ground_Min</th>\n",
       "      <th>WS_Scal</th>\n",
       "      <th>WS_vec</th>\n",
       "      <th>WD_vec</th>\n",
       "      <th>WD_Stdev</th>\n",
       "      <th>WS_ms_15m_Std</th>\n",
       "      <th>WS_ms_15m_Max</th>\n",
       "    </tr>\n",
       "  </thead>\n",
       "  <tbody>\n",
       "    <tr>\n",
       "      <th>0</th>\n",
       "      <td>TS</td>\n",
       "      <td>RN</td>\n",
       "      <td>W/meter²</td>\n",
       "      <td>W/meter²</td>\n",
       "      <td>W/meter²</td>\n",
       "      <td>W/meter²</td>\n",
       "      <td>W/meter²</td>\n",
       "      <td>W/meter²</td>\n",
       "      <td>W/meter²</td>\n",
       "      <td>W/meter²</td>\n",
       "      <td>...</td>\n",
       "      <td>NaN</td>\n",
       "      <td>NaN</td>\n",
       "      <td>NaN</td>\n",
       "      <td>NaN</td>\n",
       "      <td>meters/second</td>\n",
       "      <td>meters/second</td>\n",
       "      <td>Deg</td>\n",
       "      <td>Deg</td>\n",
       "      <td>meters/second</td>\n",
       "      <td>meters/second</td>\n",
       "    </tr>\n",
       "    <tr>\n",
       "      <th>1</th>\n",
       "      <td>NaN</td>\n",
       "      <td>NaN</td>\n",
       "      <td>Avg</td>\n",
       "      <td>Std</td>\n",
       "      <td>Avg</td>\n",
       "      <td>Std</td>\n",
       "      <td>Avg</td>\n",
       "      <td>Std</td>\n",
       "      <td>Avg</td>\n",
       "      <td>Std</td>\n",
       "      <td>...</td>\n",
       "      <td>Avg</td>\n",
       "      <td>Avg</td>\n",
       "      <td>Std</td>\n",
       "      <td>Min</td>\n",
       "      <td>WVc:</td>\n",
       "      <td>WVc:</td>\n",
       "      <td>WVc:</td>\n",
       "      <td>WVc</td>\n",
       "      <td>Std</td>\n",
       "      <td>Max</td>\n",
       "    </tr>\n",
       "    <tr>\n",
       "      <th>2</th>\n",
       "      <td>2017-01-01 00:00:00</td>\n",
       "      <td>0</td>\n",
       "      <td>-0.965322</td>\n",
       "      <td>0.145262</td>\n",
       "      <td>0.8479179</td>\n",
       "      <td>0.1129719</td>\n",
       "      <td>-35.48689</td>\n",
       "      <td>0.06697743</td>\n",
       "      <td>5.042647</td>\n",
       "      <td>0.06508042</td>\n",
       "      <td>...</td>\n",
       "      <td>NAN</td>\n",
       "      <td>NAN</td>\n",
       "      <td>NAN</td>\n",
       "      <td>NAN</td>\n",
       "      <td>5.372033</td>\n",
       "      <td>5.358186</td>\n",
       "      <td>334.0675</td>\n",
       "      <td>4.112473</td>\n",
       "      <td>0.1647887</td>\n",
       "      <td>5.651333</td>\n",
       "    </tr>\n",
       "    <tr>\n",
       "      <th>3</th>\n",
       "      <td>2017-01-01 00:01:00</td>\n",
       "      <td>1</td>\n",
       "      <td>-1.043593</td>\n",
       "      <td>0</td>\n",
       "      <td>0.7826946</td>\n",
       "      <td>0</td>\n",
       "      <td>-35.70287</td>\n",
       "      <td>0.1050052</td>\n",
       "      <td>5.023046</td>\n",
       "      <td>0.07848501</td>\n",
       "      <td>...</td>\n",
       "      <td>NAN</td>\n",
       "      <td>NAN</td>\n",
       "      <td>NAN</td>\n",
       "      <td>NAN</td>\n",
       "      <td>5.358024</td>\n",
       "      <td>5.355624</td>\n",
       "      <td>335.6605</td>\n",
       "      <td>1.714197</td>\n",
       "      <td>0.11941</td>\n",
       "      <td>5.567136</td>\n",
       "    </tr>\n",
       "    <tr>\n",
       "      <th>4</th>\n",
       "      <td>2017-01-01 00:02:00</td>\n",
       "      <td>2</td>\n",
       "      <td>-1.043593</td>\n",
       "      <td>1.28746E-006</td>\n",
       "      <td>0.7044256</td>\n",
       "      <td>0.1195589</td>\n",
       "      <td>-35.54593</td>\n",
       "      <td>0.1310791</td>\n",
       "      <td>5.030898</td>\n",
       "      <td>0.07808675</td>\n",
       "      <td>...</td>\n",
       "      <td>NAN</td>\n",
       "      <td>NAN</td>\n",
       "      <td>NAN</td>\n",
       "      <td>NAN</td>\n",
       "      <td>5.283834</td>\n",
       "      <td>5.27226</td>\n",
       "      <td>333.5716</td>\n",
       "      <td>3.790948</td>\n",
       "      <td>0.09516884</td>\n",
       "      <td>5.488</td>\n",
       "    </tr>\n",
       "    <tr>\n",
       "      <th>...</th>\n",
       "      <td>...</td>\n",
       "      <td>...</td>\n",
       "      <td>...</td>\n",
       "      <td>...</td>\n",
       "      <td>...</td>\n",
       "      <td>...</td>\n",
       "      <td>...</td>\n",
       "      <td>...</td>\n",
       "      <td>...</td>\n",
       "      <td>...</td>\n",
       "      <td>...</td>\n",
       "      <td>...</td>\n",
       "      <td>...</td>\n",
       "      <td>...</td>\n",
       "      <td>...</td>\n",
       "      <td>...</td>\n",
       "      <td>...</td>\n",
       "      <td>...</td>\n",
       "      <td>...</td>\n",
       "      <td>...</td>\n",
       "      <td>...</td>\n",
       "    </tr>\n",
       "    <tr>\n",
       "      <th>260637</th>\n",
       "      <td>2017-06-30 23:55:00</td>\n",
       "      <td>260635</td>\n",
       "      <td>-2.595769</td>\n",
       "      <td>0.05685775</td>\n",
       "      <td>0.8609082</td>\n",
       "      <td>0.1452527</td>\n",
       "      <td>-83.07717</td>\n",
       "      <td>0.08738826</td>\n",
       "      <td>-19.68629</td>\n",
       "      <td>0.1117456</td>\n",
       "      <td>...</td>\n",
       "      <td>NAN</td>\n",
       "      <td>NAN</td>\n",
       "      <td>NAN</td>\n",
       "      <td>NAN</td>\n",
       "      <td>3.157233</td>\n",
       "      <td>3.156958</td>\n",
       "      <td>136.0161</td>\n",
       "      <td>0.7569094</td>\n",
       "      <td>0.1109105</td>\n",
       "      <td>3.332</td>\n",
       "    </tr>\n",
       "    <tr>\n",
       "      <th>260638</th>\n",
       "      <td>2017-06-30 23:56:00</td>\n",
       "      <td>260636</td>\n",
       "      <td>-2.360978</td>\n",
       "      <td>0.1745176</td>\n",
       "      <td>1.330496</td>\n",
       "      <td>0.1629208</td>\n",
       "      <td>-83.08854</td>\n",
       "      <td>0.03394419</td>\n",
       "      <td>-19.54101</td>\n",
       "      <td>2.161624E-005</td>\n",
       "      <td>...</td>\n",
       "      <td>NAN</td>\n",
       "      <td>NAN</td>\n",
       "      <td>NAN</td>\n",
       "      <td>NAN</td>\n",
       "      <td>3.269933</td>\n",
       "      <td>3.269773</td>\n",
       "      <td>137.277</td>\n",
       "      <td>0.5669712</td>\n",
       "      <td>0.0545641</td>\n",
       "      <td>3.397333</td>\n",
       "    </tr>\n",
       "    <tr>\n",
       "      <th>260639</th>\n",
       "      <td>2017-06-30 23:57:00</td>\n",
       "      <td>260637</td>\n",
       "      <td>-2.387066</td>\n",
       "      <td>0.1244325</td>\n",
       "      <td>1.369628</td>\n",
       "      <td>0.112965</td>\n",
       "      <td>-82.86093</td>\n",
       "      <td>0.2409604</td>\n",
       "      <td>-19.3762</td>\n",
       "      <td>0.08560921</td>\n",
       "      <td>...</td>\n",
       "      <td>NAN</td>\n",
       "      <td>NAN</td>\n",
       "      <td>NAN</td>\n",
       "      <td>NAN</td>\n",
       "      <td>3.2389</td>\n",
       "      <td>3.2385</td>\n",
       "      <td>138.1702</td>\n",
       "      <td>0.9003776</td>\n",
       "      <td>0.06390911</td>\n",
       "      <td>3.364666</td>\n",
       "    </tr>\n",
       "    <tr>\n",
       "      <th>260640</th>\n",
       "      <td>2017-06-30 23:58:00</td>\n",
       "      <td>260638</td>\n",
       "      <td>-2.726214</td>\n",
       "      <td>0.1297871</td>\n",
       "      <td>0.9391743</td>\n",
       "      <td>0.1521188</td>\n",
       "      <td>-82.42118</td>\n",
       "      <td>0.03400624</td>\n",
       "      <td>-19.03084</td>\n",
       "      <td>0.1798182</td>\n",
       "      <td>...</td>\n",
       "      <td>NAN</td>\n",
       "      <td>NAN</td>\n",
       "      <td>NAN</td>\n",
       "      <td>NAN</td>\n",
       "      <td>3.193167</td>\n",
       "      <td>3.191957</td>\n",
       "      <td>134.3321</td>\n",
       "      <td>1.576708</td>\n",
       "      <td>0.03246192</td>\n",
       "      <td>3.234</td>\n",
       "    </tr>\n",
       "    <tr>\n",
       "      <th>260641</th>\n",
       "      <td>2017-06-30 23:59:00</td>\n",
       "      <td>260639</td>\n",
       "      <td>-3.065361</td>\n",
       "      <td>0.1129651</td>\n",
       "      <td>0.6652485</td>\n",
       "      <td>0.129787</td>\n",
       "      <td>-82.1975</td>\n",
       "      <td>0.1912653</td>\n",
       "      <td>-18.55212</td>\n",
       "      <td>0.1455547</td>\n",
       "      <td>...</td>\n",
       "      <td>NAN</td>\n",
       "      <td>NAN</td>\n",
       "      <td>NAN</td>\n",
       "      <td>NAN</td>\n",
       "      <td>3.054333</td>\n",
       "      <td>3.054261</td>\n",
       "      <td>132.6734</td>\n",
       "      <td>0.3930281</td>\n",
       "      <td>0.09035149</td>\n",
       "      <td>3.168666</td>\n",
       "    </tr>\n",
       "  </tbody>\n",
       "</table>\n",
       "<p>260642 rows × 43 columns</p>\n",
       "</div>"
      ],
      "text/plain": [
       "                  TIMESTAMP  RECORD  CM3Up_Avg     CM3Up_Std  CM3Dn_Avg  \\\n",
       "0                        TS      RN   W/meter²      W/meter²   W/meter²   \n",
       "1                       NaN     NaN        Avg           Std        Avg   \n",
       "2       2017-01-01 00:00:00       0  -0.965322      0.145262  0.8479179   \n",
       "3       2017-01-01 00:01:00       1  -1.043593             0  0.7826946   \n",
       "4       2017-01-01 00:02:00       2  -1.043593  1.28746E-006  0.7044256   \n",
       "...                     ...     ...        ...           ...        ...   \n",
       "260637  2017-06-30 23:55:00  260635  -2.595769    0.05685775  0.8609082   \n",
       "260638  2017-06-30 23:56:00  260636  -2.360978     0.1745176   1.330496   \n",
       "260639  2017-06-30 23:57:00  260637  -2.387066     0.1244325   1.369628   \n",
       "260640  2017-06-30 23:58:00  260638  -2.726214     0.1297871  0.9391743   \n",
       "260641  2017-06-30 23:59:00  260639  -3.065361     0.1129651  0.6652485   \n",
       "\n",
       "        CM3Dn_Std  CG3Up_Avg   CG3Up_Std  CG3Dn_Avg      CG3Dn_Std  ...  \\\n",
       "0        W/meter²   W/meter²    W/meter²   W/meter²       W/meter²  ...   \n",
       "1             Std        Avg         Std        Avg            Std  ...   \n",
       "2       0.1129719  -35.48689  0.06697743   5.042647     0.06508042  ...   \n",
       "3               0  -35.70287   0.1050052   5.023046     0.07848501  ...   \n",
       "4       0.1195589  -35.54593   0.1310791   5.030898     0.07808675  ...   \n",
       "...           ...        ...         ...        ...            ...  ...   \n",
       "260637  0.1452527  -83.07717  0.08738826  -19.68629      0.1117456  ...   \n",
       "260638  0.1629208  -83.08854  0.03394419  -19.54101  2.161624E-005  ...   \n",
       "260639   0.112965  -82.86093   0.2409604   -19.3762     0.08560921  ...   \n",
       "260640  0.1521188  -82.42118  0.03400624  -19.03084      0.1798182  ...   \n",
       "260641   0.129787   -82.1975   0.1912653  -18.55212      0.1455547  ...   \n",
       "\n",
       "       TmV_1128_Avg IRR_1128_ground_Avg IRR_1128_ground_Std  \\\n",
       "0               NaN                 NaN                 NaN   \n",
       "1               Avg                 Avg                 Std   \n",
       "2               NAN                 NAN                 NAN   \n",
       "3               NAN                 NAN                 NAN   \n",
       "4               NAN                 NAN                 NAN   \n",
       "...             ...                 ...                 ...   \n",
       "260637          NAN                 NAN                 NAN   \n",
       "260638          NAN                 NAN                 NAN   \n",
       "260639          NAN                 NAN                 NAN   \n",
       "260640          NAN                 NAN                 NAN   \n",
       "260641          NAN                 NAN                 NAN   \n",
       "\n",
       "       IRR_1128_ground_Min        WS_Scal         WS_vec    WD_vec   WD_Stdev  \\\n",
       "0                      NaN  meters/second  meters/second       Deg        Deg   \n",
       "1                      Min           WVc:           WVc:      WVc:        WVc   \n",
       "2                      NAN       5.372033       5.358186  334.0675   4.112473   \n",
       "3                      NAN       5.358024       5.355624  335.6605   1.714197   \n",
       "4                      NAN       5.283834        5.27226  333.5716   3.790948   \n",
       "...                    ...            ...            ...       ...        ...   \n",
       "260637                 NAN       3.157233       3.156958  136.0161  0.7569094   \n",
       "260638                 NAN       3.269933       3.269773   137.277  0.5669712   \n",
       "260639                 NAN         3.2389         3.2385  138.1702  0.9003776   \n",
       "260640                 NAN       3.193167       3.191957  134.3321   1.576708   \n",
       "260641                 NAN       3.054333       3.054261  132.6734  0.3930281   \n",
       "\n",
       "        WS_ms_15m_Std  WS_ms_15m_Max  \n",
       "0       meters/second  meters/second  \n",
       "1                 Std            Max  \n",
       "2           0.1647887       5.651333  \n",
       "3             0.11941       5.567136  \n",
       "4          0.09516884          5.488  \n",
       "...               ...            ...  \n",
       "260637      0.1109105          3.332  \n",
       "260638      0.0545641       3.397333  \n",
       "260639     0.06390911       3.364666  \n",
       "260640     0.03246192          3.234  \n",
       "260641     0.09035149       3.168666  \n",
       "\n",
       "[260642 rows x 43 columns]"
      ]
     },
     "execution_count": 94,
     "metadata": {},
     "output_type": "execute_result"
    }
   ],
   "source": [
    "file_path = 'GBB_W_2017-01_2017-06.sec'\n",
    "df = pd.read_csv(file_path, skiprows=1, low_memory=False) #skipping the redundant attributes in the first row\n",
    "df"
   ]
  },
  {
   "cell_type": "code",
   "execution_count": 79,
   "id": "4e315bb2-8723-4dcc-b7dd-e12d76597ab2",
   "metadata": {
    "tags": []
   },
   "outputs": [
    {
     "data": {
      "text/plain": [
       "dtype('O')"
      ]
     },
     "execution_count": 79,
     "metadata": {},
     "output_type": "execute_result"
    }
   ],
   "source": [
    "df['TIMESTAMP'].dtype"
   ]
  },
  {
   "cell_type": "code",
   "execution_count": 80,
   "id": "b4126859-3883-4318-b1b4-2ad26c21b075",
   "metadata": {
    "tags": []
   },
   "outputs": [],
   "source": [
    "import pandas as pd\n",
    "from dateutil.parser import parse #parses strings containing dates and times into Python datetime objects"
   ]
  },
  {
   "cell_type": "code",
   "execution_count": 81,
   "id": "a9b633df-f677-4fd7-b6fc-60051fcaeb89",
   "metadata": {
    "tags": []
   },
   "outputs": [
    {
     "data": {
      "text/html": [
       "<div>\n",
       "<style scoped>\n",
       "    .dataframe tbody tr th:only-of-type {\n",
       "        vertical-align: middle;\n",
       "    }\n",
       "\n",
       "    .dataframe tbody tr th {\n",
       "        vertical-align: top;\n",
       "    }\n",
       "\n",
       "    .dataframe thead th {\n",
       "        text-align: right;\n",
       "    }\n",
       "</style>\n",
       "<table border=\"1\" class=\"dataframe\">\n",
       "  <thead>\n",
       "    <tr style=\"text-align: right;\">\n",
       "      <th></th>\n",
       "      <th>TIMESTAMP</th>\n",
       "      <th>RECORD</th>\n",
       "      <th>CM3Up_Avg</th>\n",
       "      <th>CM3Up_Std</th>\n",
       "      <th>CM3Dn_Avg</th>\n",
       "      <th>CM3Dn_Std</th>\n",
       "      <th>CG3Up_Avg</th>\n",
       "      <th>CG3Up_Std</th>\n",
       "      <th>CG3Dn_Avg</th>\n",
       "      <th>CG3Dn_Std</th>\n",
       "      <th>...</th>\n",
       "      <th>TmV_1128_Avg</th>\n",
       "      <th>IRR_1128_ground_Avg</th>\n",
       "      <th>IRR_1128_ground_Std</th>\n",
       "      <th>IRR_1128_ground_Min</th>\n",
       "      <th>WS_Scal</th>\n",
       "      <th>WS_vec</th>\n",
       "      <th>WD_vec</th>\n",
       "      <th>WD_Stdev</th>\n",
       "      <th>WS_ms_15m_Std</th>\n",
       "      <th>WS_ms_15m_Max</th>\n",
       "    </tr>\n",
       "  </thead>\n",
       "  <tbody>\n",
       "    <tr>\n",
       "      <th>0</th>\n",
       "      <td>NaT</td>\n",
       "      <td>RN</td>\n",
       "      <td>W/meter²</td>\n",
       "      <td>W/meter²</td>\n",
       "      <td>W/meter²</td>\n",
       "      <td>W/meter²</td>\n",
       "      <td>W/meter²</td>\n",
       "      <td>W/meter²</td>\n",
       "      <td>W/meter²</td>\n",
       "      <td>W/meter²</td>\n",
       "      <td>...</td>\n",
       "      <td>NaN</td>\n",
       "      <td>NaN</td>\n",
       "      <td>NaN</td>\n",
       "      <td>NaN</td>\n",
       "      <td>meters/second</td>\n",
       "      <td>meters/second</td>\n",
       "      <td>Deg</td>\n",
       "      <td>Deg</td>\n",
       "      <td>meters/second</td>\n",
       "      <td>meters/second</td>\n",
       "    </tr>\n",
       "    <tr>\n",
       "      <th>1</th>\n",
       "      <td>NaT</td>\n",
       "      <td>NaN</td>\n",
       "      <td>Avg</td>\n",
       "      <td>Std</td>\n",
       "      <td>Avg</td>\n",
       "      <td>Std</td>\n",
       "      <td>Avg</td>\n",
       "      <td>Std</td>\n",
       "      <td>Avg</td>\n",
       "      <td>Std</td>\n",
       "      <td>...</td>\n",
       "      <td>Avg</td>\n",
       "      <td>Avg</td>\n",
       "      <td>Std</td>\n",
       "      <td>Min</td>\n",
       "      <td>WVc:</td>\n",
       "      <td>WVc:</td>\n",
       "      <td>WVc:</td>\n",
       "      <td>WVc</td>\n",
       "      <td>Std</td>\n",
       "      <td>Max</td>\n",
       "    </tr>\n",
       "    <tr>\n",
       "      <th>2</th>\n",
       "      <td>2017-01-01 00:00:00</td>\n",
       "      <td>0</td>\n",
       "      <td>-0.965322</td>\n",
       "      <td>0.145262</td>\n",
       "      <td>0.8479179</td>\n",
       "      <td>0.1129719</td>\n",
       "      <td>-35.48689</td>\n",
       "      <td>0.06697743</td>\n",
       "      <td>5.042647</td>\n",
       "      <td>0.06508042</td>\n",
       "      <td>...</td>\n",
       "      <td>NAN</td>\n",
       "      <td>NAN</td>\n",
       "      <td>NAN</td>\n",
       "      <td>NAN</td>\n",
       "      <td>5.372033</td>\n",
       "      <td>5.358186</td>\n",
       "      <td>334.0675</td>\n",
       "      <td>4.112473</td>\n",
       "      <td>0.1647887</td>\n",
       "      <td>5.651333</td>\n",
       "    </tr>\n",
       "    <tr>\n",
       "      <th>3</th>\n",
       "      <td>2017-01-01 00:01:00</td>\n",
       "      <td>1</td>\n",
       "      <td>-1.043593</td>\n",
       "      <td>0</td>\n",
       "      <td>0.7826946</td>\n",
       "      <td>0</td>\n",
       "      <td>-35.70287</td>\n",
       "      <td>0.1050052</td>\n",
       "      <td>5.023046</td>\n",
       "      <td>0.07848501</td>\n",
       "      <td>...</td>\n",
       "      <td>NAN</td>\n",
       "      <td>NAN</td>\n",
       "      <td>NAN</td>\n",
       "      <td>NAN</td>\n",
       "      <td>5.358024</td>\n",
       "      <td>5.355624</td>\n",
       "      <td>335.6605</td>\n",
       "      <td>1.714197</td>\n",
       "      <td>0.11941</td>\n",
       "      <td>5.567136</td>\n",
       "    </tr>\n",
       "    <tr>\n",
       "      <th>4</th>\n",
       "      <td>2017-01-01 00:02:00</td>\n",
       "      <td>2</td>\n",
       "      <td>-1.043593</td>\n",
       "      <td>1.28746E-006</td>\n",
       "      <td>0.7044256</td>\n",
       "      <td>0.1195589</td>\n",
       "      <td>-35.54593</td>\n",
       "      <td>0.1310791</td>\n",
       "      <td>5.030898</td>\n",
       "      <td>0.07808675</td>\n",
       "      <td>...</td>\n",
       "      <td>NAN</td>\n",
       "      <td>NAN</td>\n",
       "      <td>NAN</td>\n",
       "      <td>NAN</td>\n",
       "      <td>5.283834</td>\n",
       "      <td>5.27226</td>\n",
       "      <td>333.5716</td>\n",
       "      <td>3.790948</td>\n",
       "      <td>0.09516884</td>\n",
       "      <td>5.488</td>\n",
       "    </tr>\n",
       "    <tr>\n",
       "      <th>...</th>\n",
       "      <td>...</td>\n",
       "      <td>...</td>\n",
       "      <td>...</td>\n",
       "      <td>...</td>\n",
       "      <td>...</td>\n",
       "      <td>...</td>\n",
       "      <td>...</td>\n",
       "      <td>...</td>\n",
       "      <td>...</td>\n",
       "      <td>...</td>\n",
       "      <td>...</td>\n",
       "      <td>...</td>\n",
       "      <td>...</td>\n",
       "      <td>...</td>\n",
       "      <td>...</td>\n",
       "      <td>...</td>\n",
       "      <td>...</td>\n",
       "      <td>...</td>\n",
       "      <td>...</td>\n",
       "      <td>...</td>\n",
       "      <td>...</td>\n",
       "    </tr>\n",
       "    <tr>\n",
       "      <th>260637</th>\n",
       "      <td>2017-06-30 23:55:00</td>\n",
       "      <td>260635</td>\n",
       "      <td>-2.595769</td>\n",
       "      <td>0.05685775</td>\n",
       "      <td>0.8609082</td>\n",
       "      <td>0.1452527</td>\n",
       "      <td>-83.07717</td>\n",
       "      <td>0.08738826</td>\n",
       "      <td>-19.68629</td>\n",
       "      <td>0.1117456</td>\n",
       "      <td>...</td>\n",
       "      <td>NAN</td>\n",
       "      <td>NAN</td>\n",
       "      <td>NAN</td>\n",
       "      <td>NAN</td>\n",
       "      <td>3.157233</td>\n",
       "      <td>3.156958</td>\n",
       "      <td>136.0161</td>\n",
       "      <td>0.7569094</td>\n",
       "      <td>0.1109105</td>\n",
       "      <td>3.332</td>\n",
       "    </tr>\n",
       "    <tr>\n",
       "      <th>260638</th>\n",
       "      <td>2017-06-30 23:56:00</td>\n",
       "      <td>260636</td>\n",
       "      <td>-2.360978</td>\n",
       "      <td>0.1745176</td>\n",
       "      <td>1.330496</td>\n",
       "      <td>0.1629208</td>\n",
       "      <td>-83.08854</td>\n",
       "      <td>0.03394419</td>\n",
       "      <td>-19.54101</td>\n",
       "      <td>2.161624E-005</td>\n",
       "      <td>...</td>\n",
       "      <td>NAN</td>\n",
       "      <td>NAN</td>\n",
       "      <td>NAN</td>\n",
       "      <td>NAN</td>\n",
       "      <td>3.269933</td>\n",
       "      <td>3.269773</td>\n",
       "      <td>137.277</td>\n",
       "      <td>0.5669712</td>\n",
       "      <td>0.0545641</td>\n",
       "      <td>3.397333</td>\n",
       "    </tr>\n",
       "    <tr>\n",
       "      <th>260639</th>\n",
       "      <td>2017-06-30 23:57:00</td>\n",
       "      <td>260637</td>\n",
       "      <td>-2.387066</td>\n",
       "      <td>0.1244325</td>\n",
       "      <td>1.369628</td>\n",
       "      <td>0.112965</td>\n",
       "      <td>-82.86093</td>\n",
       "      <td>0.2409604</td>\n",
       "      <td>-19.3762</td>\n",
       "      <td>0.08560921</td>\n",
       "      <td>...</td>\n",
       "      <td>NAN</td>\n",
       "      <td>NAN</td>\n",
       "      <td>NAN</td>\n",
       "      <td>NAN</td>\n",
       "      <td>3.2389</td>\n",
       "      <td>3.2385</td>\n",
       "      <td>138.1702</td>\n",
       "      <td>0.9003776</td>\n",
       "      <td>0.06390911</td>\n",
       "      <td>3.364666</td>\n",
       "    </tr>\n",
       "    <tr>\n",
       "      <th>260640</th>\n",
       "      <td>2017-06-30 23:58:00</td>\n",
       "      <td>260638</td>\n",
       "      <td>-2.726214</td>\n",
       "      <td>0.1297871</td>\n",
       "      <td>0.9391743</td>\n",
       "      <td>0.1521188</td>\n",
       "      <td>-82.42118</td>\n",
       "      <td>0.03400624</td>\n",
       "      <td>-19.03084</td>\n",
       "      <td>0.1798182</td>\n",
       "      <td>...</td>\n",
       "      <td>NAN</td>\n",
       "      <td>NAN</td>\n",
       "      <td>NAN</td>\n",
       "      <td>NAN</td>\n",
       "      <td>3.193167</td>\n",
       "      <td>3.191957</td>\n",
       "      <td>134.3321</td>\n",
       "      <td>1.576708</td>\n",
       "      <td>0.03246192</td>\n",
       "      <td>3.234</td>\n",
       "    </tr>\n",
       "    <tr>\n",
       "      <th>260641</th>\n",
       "      <td>2017-06-30 23:59:00</td>\n",
       "      <td>260639</td>\n",
       "      <td>-3.065361</td>\n",
       "      <td>0.1129651</td>\n",
       "      <td>0.6652485</td>\n",
       "      <td>0.129787</td>\n",
       "      <td>-82.1975</td>\n",
       "      <td>0.1912653</td>\n",
       "      <td>-18.55212</td>\n",
       "      <td>0.1455547</td>\n",
       "      <td>...</td>\n",
       "      <td>NAN</td>\n",
       "      <td>NAN</td>\n",
       "      <td>NAN</td>\n",
       "      <td>NAN</td>\n",
       "      <td>3.054333</td>\n",
       "      <td>3.054261</td>\n",
       "      <td>132.6734</td>\n",
       "      <td>0.3930281</td>\n",
       "      <td>0.09035149</td>\n",
       "      <td>3.168666</td>\n",
       "    </tr>\n",
       "  </tbody>\n",
       "</table>\n",
       "<p>260642 rows × 43 columns</p>\n",
       "</div>"
      ],
      "text/plain": [
       "                 TIMESTAMP  RECORD  CM3Up_Avg     CM3Up_Std  CM3Dn_Avg  \\\n",
       "0                      NaT      RN   W/meter²      W/meter²   W/meter²   \n",
       "1                      NaT     NaN        Avg           Std        Avg   \n",
       "2      2017-01-01 00:00:00       0  -0.965322      0.145262  0.8479179   \n",
       "3      2017-01-01 00:01:00       1  -1.043593             0  0.7826946   \n",
       "4      2017-01-01 00:02:00       2  -1.043593  1.28746E-006  0.7044256   \n",
       "...                    ...     ...        ...           ...        ...   \n",
       "260637 2017-06-30 23:55:00  260635  -2.595769    0.05685775  0.8609082   \n",
       "260638 2017-06-30 23:56:00  260636  -2.360978     0.1745176   1.330496   \n",
       "260639 2017-06-30 23:57:00  260637  -2.387066     0.1244325   1.369628   \n",
       "260640 2017-06-30 23:58:00  260638  -2.726214     0.1297871  0.9391743   \n",
       "260641 2017-06-30 23:59:00  260639  -3.065361     0.1129651  0.6652485   \n",
       "\n",
       "        CM3Dn_Std  CG3Up_Avg   CG3Up_Std  CG3Dn_Avg      CG3Dn_Std  ...  \\\n",
       "0        W/meter²   W/meter²    W/meter²   W/meter²       W/meter²  ...   \n",
       "1             Std        Avg         Std        Avg            Std  ...   \n",
       "2       0.1129719  -35.48689  0.06697743   5.042647     0.06508042  ...   \n",
       "3               0  -35.70287   0.1050052   5.023046     0.07848501  ...   \n",
       "4       0.1195589  -35.54593   0.1310791   5.030898     0.07808675  ...   \n",
       "...           ...        ...         ...        ...            ...  ...   \n",
       "260637  0.1452527  -83.07717  0.08738826  -19.68629      0.1117456  ...   \n",
       "260638  0.1629208  -83.08854  0.03394419  -19.54101  2.161624E-005  ...   \n",
       "260639   0.112965  -82.86093   0.2409604   -19.3762     0.08560921  ...   \n",
       "260640  0.1521188  -82.42118  0.03400624  -19.03084      0.1798182  ...   \n",
       "260641   0.129787   -82.1975   0.1912653  -18.55212      0.1455547  ...   \n",
       "\n",
       "       TmV_1128_Avg IRR_1128_ground_Avg IRR_1128_ground_Std  \\\n",
       "0               NaN                 NaN                 NaN   \n",
       "1               Avg                 Avg                 Std   \n",
       "2               NAN                 NAN                 NAN   \n",
       "3               NAN                 NAN                 NAN   \n",
       "4               NAN                 NAN                 NAN   \n",
       "...             ...                 ...                 ...   \n",
       "260637          NAN                 NAN                 NAN   \n",
       "260638          NAN                 NAN                 NAN   \n",
       "260639          NAN                 NAN                 NAN   \n",
       "260640          NAN                 NAN                 NAN   \n",
       "260641          NAN                 NAN                 NAN   \n",
       "\n",
       "       IRR_1128_ground_Min        WS_Scal         WS_vec    WD_vec   WD_Stdev  \\\n",
       "0                      NaN  meters/second  meters/second       Deg        Deg   \n",
       "1                      Min           WVc:           WVc:      WVc:        WVc   \n",
       "2                      NAN       5.372033       5.358186  334.0675   4.112473   \n",
       "3                      NAN       5.358024       5.355624  335.6605   1.714197   \n",
       "4                      NAN       5.283834        5.27226  333.5716   3.790948   \n",
       "...                    ...            ...            ...       ...        ...   \n",
       "260637                 NAN       3.157233       3.156958  136.0161  0.7569094   \n",
       "260638                 NAN       3.269933       3.269773   137.277  0.5669712   \n",
       "260639                 NAN         3.2389         3.2385  138.1702  0.9003776   \n",
       "260640                 NAN       3.193167       3.191957  134.3321   1.576708   \n",
       "260641                 NAN       3.054333       3.054261  132.6734  0.3930281   \n",
       "\n",
       "        WS_ms_15m_Std  WS_ms_15m_Max  \n",
       "0       meters/second  meters/second  \n",
       "1                 Std            Max  \n",
       "2           0.1647887       5.651333  \n",
       "3             0.11941       5.567136  \n",
       "4          0.09516884          5.488  \n",
       "...               ...            ...  \n",
       "260637      0.1109105          3.332  \n",
       "260638      0.0545641       3.397333  \n",
       "260639     0.06390911       3.364666  \n",
       "260640     0.03246192          3.234  \n",
       "260641     0.09035149       3.168666  \n",
       "\n",
       "[260642 rows x 43 columns]"
      ]
     },
     "execution_count": 81,
     "metadata": {},
     "output_type": "execute_result"
    }
   ],
   "source": [
    "# Convert the timestamp column to date format using dateutil parser\n",
    "df[\"TIMESTAMP\"] = df[\"TIMESTAMP\"][2:].apply(lambda x: parse(x))\n",
    "df"
   ]
  },
  {
   "cell_type": "code",
   "execution_count": 82,
   "id": "1585b6ab-0186-4bde-9c31-47d574c00e73",
   "metadata": {
    "tags": []
   },
   "outputs": [
    {
     "data": {
      "text/plain": [
       "dtype('<M8[ns]')"
      ]
     },
     "execution_count": 82,
     "metadata": {},
     "output_type": "execute_result"
    }
   ],
   "source": [
    "df[\"TIMESTAMP\"].dtype"
   ]
  },
  {
   "cell_type": "code",
   "execution_count": 91,
   "id": "925c0fc4-1fdc-4099-89e8-92f26921be4d",
   "metadata": {
    "tags": []
   },
   "outputs": [],
   "source": [
    "# Extract the date part\n",
    "df['TIMESTAMP'] = df['TIMESTAMP'].dt.strftime('%Y-%m-%d')"
   ]
  },
  {
   "cell_type": "code",
   "execution_count": 92,
   "id": "b724096c-fadf-4141-b08d-03c4ef55f83c",
   "metadata": {
    "tags": []
   },
   "outputs": [
    {
     "data": {
      "text/html": [
       "<div>\n",
       "<style scoped>\n",
       "    .dataframe tbody tr th:only-of-type {\n",
       "        vertical-align: middle;\n",
       "    }\n",
       "\n",
       "    .dataframe tbody tr th {\n",
       "        vertical-align: top;\n",
       "    }\n",
       "\n",
       "    .dataframe thead th {\n",
       "        text-align: right;\n",
       "    }\n",
       "</style>\n",
       "<table border=\"1\" class=\"dataframe\">\n",
       "  <thead>\n",
       "    <tr style=\"text-align: right;\">\n",
       "      <th></th>\n",
       "      <th>TIMESTAMP</th>\n",
       "      <th>RECORD</th>\n",
       "      <th>CM3Up_Avg</th>\n",
       "      <th>CM3Up_Std</th>\n",
       "      <th>CM3Dn_Avg</th>\n",
       "      <th>CM3Dn_Std</th>\n",
       "      <th>CG3Up_Avg</th>\n",
       "      <th>CG3Up_Std</th>\n",
       "      <th>CG3Dn_Avg</th>\n",
       "      <th>CG3Dn_Std</th>\n",
       "      <th>...</th>\n",
       "      <th>TmV_1128_Avg</th>\n",
       "      <th>IRR_1128_ground_Avg</th>\n",
       "      <th>IRR_1128_ground_Std</th>\n",
       "      <th>IRR_1128_ground_Min</th>\n",
       "      <th>WS_Scal</th>\n",
       "      <th>WS_vec</th>\n",
       "      <th>WD_vec</th>\n",
       "      <th>WD_Stdev</th>\n",
       "      <th>WS_ms_15m_Std</th>\n",
       "      <th>WS_ms_15m_Max</th>\n",
       "    </tr>\n",
       "  </thead>\n",
       "  <tbody>\n",
       "    <tr>\n",
       "      <th>0</th>\n",
       "      <td>NaN</td>\n",
       "      <td>RN</td>\n",
       "      <td>W/meter²</td>\n",
       "      <td>W/meter²</td>\n",
       "      <td>W/meter²</td>\n",
       "      <td>W/meter²</td>\n",
       "      <td>W/meter²</td>\n",
       "      <td>W/meter²</td>\n",
       "      <td>W/meter²</td>\n",
       "      <td>W/meter²</td>\n",
       "      <td>...</td>\n",
       "      <td>NaN</td>\n",
       "      <td>NaN</td>\n",
       "      <td>NaN</td>\n",
       "      <td>NaN</td>\n",
       "      <td>meters/second</td>\n",
       "      <td>meters/second</td>\n",
       "      <td>Deg</td>\n",
       "      <td>Deg</td>\n",
       "      <td>meters/second</td>\n",
       "      <td>meters/second</td>\n",
       "    </tr>\n",
       "    <tr>\n",
       "      <th>1</th>\n",
       "      <td>NaN</td>\n",
       "      <td>NaN</td>\n",
       "      <td>Avg</td>\n",
       "      <td>Std</td>\n",
       "      <td>Avg</td>\n",
       "      <td>Std</td>\n",
       "      <td>Avg</td>\n",
       "      <td>Std</td>\n",
       "      <td>Avg</td>\n",
       "      <td>Std</td>\n",
       "      <td>...</td>\n",
       "      <td>Avg</td>\n",
       "      <td>Avg</td>\n",
       "      <td>Std</td>\n",
       "      <td>Min</td>\n",
       "      <td>WVc:</td>\n",
       "      <td>WVc:</td>\n",
       "      <td>WVc:</td>\n",
       "      <td>WVc</td>\n",
       "      <td>Std</td>\n",
       "      <td>Max</td>\n",
       "    </tr>\n",
       "    <tr>\n",
       "      <th>2</th>\n",
       "      <td>2017-01-01</td>\n",
       "      <td>0</td>\n",
       "      <td>-0.965322</td>\n",
       "      <td>0.145262</td>\n",
       "      <td>0.8479179</td>\n",
       "      <td>0.1129719</td>\n",
       "      <td>-35.48689</td>\n",
       "      <td>0.06697743</td>\n",
       "      <td>5.042647</td>\n",
       "      <td>0.06508042</td>\n",
       "      <td>...</td>\n",
       "      <td>NAN</td>\n",
       "      <td>NAN</td>\n",
       "      <td>NAN</td>\n",
       "      <td>NAN</td>\n",
       "      <td>5.372033</td>\n",
       "      <td>5.358186</td>\n",
       "      <td>334.0675</td>\n",
       "      <td>4.112473</td>\n",
       "      <td>0.1647887</td>\n",
       "      <td>5.651333</td>\n",
       "    </tr>\n",
       "    <tr>\n",
       "      <th>3</th>\n",
       "      <td>2017-01-01</td>\n",
       "      <td>1</td>\n",
       "      <td>-1.043593</td>\n",
       "      <td>0</td>\n",
       "      <td>0.7826946</td>\n",
       "      <td>0</td>\n",
       "      <td>-35.70287</td>\n",
       "      <td>0.1050052</td>\n",
       "      <td>5.023046</td>\n",
       "      <td>0.07848501</td>\n",
       "      <td>...</td>\n",
       "      <td>NAN</td>\n",
       "      <td>NAN</td>\n",
       "      <td>NAN</td>\n",
       "      <td>NAN</td>\n",
       "      <td>5.358024</td>\n",
       "      <td>5.355624</td>\n",
       "      <td>335.6605</td>\n",
       "      <td>1.714197</td>\n",
       "      <td>0.11941</td>\n",
       "      <td>5.567136</td>\n",
       "    </tr>\n",
       "    <tr>\n",
       "      <th>4</th>\n",
       "      <td>2017-01-01</td>\n",
       "      <td>2</td>\n",
       "      <td>-1.043593</td>\n",
       "      <td>1.28746E-006</td>\n",
       "      <td>0.7044256</td>\n",
       "      <td>0.1195589</td>\n",
       "      <td>-35.54593</td>\n",
       "      <td>0.1310791</td>\n",
       "      <td>5.030898</td>\n",
       "      <td>0.07808675</td>\n",
       "      <td>...</td>\n",
       "      <td>NAN</td>\n",
       "      <td>NAN</td>\n",
       "      <td>NAN</td>\n",
       "      <td>NAN</td>\n",
       "      <td>5.283834</td>\n",
       "      <td>5.27226</td>\n",
       "      <td>333.5716</td>\n",
       "      <td>3.790948</td>\n",
       "      <td>0.09516884</td>\n",
       "      <td>5.488</td>\n",
       "    </tr>\n",
       "    <tr>\n",
       "      <th>...</th>\n",
       "      <td>...</td>\n",
       "      <td>...</td>\n",
       "      <td>...</td>\n",
       "      <td>...</td>\n",
       "      <td>...</td>\n",
       "      <td>...</td>\n",
       "      <td>...</td>\n",
       "      <td>...</td>\n",
       "      <td>...</td>\n",
       "      <td>...</td>\n",
       "      <td>...</td>\n",
       "      <td>...</td>\n",
       "      <td>...</td>\n",
       "      <td>...</td>\n",
       "      <td>...</td>\n",
       "      <td>...</td>\n",
       "      <td>...</td>\n",
       "      <td>...</td>\n",
       "      <td>...</td>\n",
       "      <td>...</td>\n",
       "      <td>...</td>\n",
       "    </tr>\n",
       "    <tr>\n",
       "      <th>260637</th>\n",
       "      <td>2017-06-30</td>\n",
       "      <td>260635</td>\n",
       "      <td>-2.595769</td>\n",
       "      <td>0.05685775</td>\n",
       "      <td>0.8609082</td>\n",
       "      <td>0.1452527</td>\n",
       "      <td>-83.07717</td>\n",
       "      <td>0.08738826</td>\n",
       "      <td>-19.68629</td>\n",
       "      <td>0.1117456</td>\n",
       "      <td>...</td>\n",
       "      <td>NAN</td>\n",
       "      <td>NAN</td>\n",
       "      <td>NAN</td>\n",
       "      <td>NAN</td>\n",
       "      <td>3.157233</td>\n",
       "      <td>3.156958</td>\n",
       "      <td>136.0161</td>\n",
       "      <td>0.7569094</td>\n",
       "      <td>0.1109105</td>\n",
       "      <td>3.332</td>\n",
       "    </tr>\n",
       "    <tr>\n",
       "      <th>260638</th>\n",
       "      <td>2017-06-30</td>\n",
       "      <td>260636</td>\n",
       "      <td>-2.360978</td>\n",
       "      <td>0.1745176</td>\n",
       "      <td>1.330496</td>\n",
       "      <td>0.1629208</td>\n",
       "      <td>-83.08854</td>\n",
       "      <td>0.03394419</td>\n",
       "      <td>-19.54101</td>\n",
       "      <td>2.161624E-005</td>\n",
       "      <td>...</td>\n",
       "      <td>NAN</td>\n",
       "      <td>NAN</td>\n",
       "      <td>NAN</td>\n",
       "      <td>NAN</td>\n",
       "      <td>3.269933</td>\n",
       "      <td>3.269773</td>\n",
       "      <td>137.277</td>\n",
       "      <td>0.5669712</td>\n",
       "      <td>0.0545641</td>\n",
       "      <td>3.397333</td>\n",
       "    </tr>\n",
       "    <tr>\n",
       "      <th>260639</th>\n",
       "      <td>2017-06-30</td>\n",
       "      <td>260637</td>\n",
       "      <td>-2.387066</td>\n",
       "      <td>0.1244325</td>\n",
       "      <td>1.369628</td>\n",
       "      <td>0.112965</td>\n",
       "      <td>-82.86093</td>\n",
       "      <td>0.2409604</td>\n",
       "      <td>-19.3762</td>\n",
       "      <td>0.08560921</td>\n",
       "      <td>...</td>\n",
       "      <td>NAN</td>\n",
       "      <td>NAN</td>\n",
       "      <td>NAN</td>\n",
       "      <td>NAN</td>\n",
       "      <td>3.2389</td>\n",
       "      <td>3.2385</td>\n",
       "      <td>138.1702</td>\n",
       "      <td>0.9003776</td>\n",
       "      <td>0.06390911</td>\n",
       "      <td>3.364666</td>\n",
       "    </tr>\n",
       "    <tr>\n",
       "      <th>260640</th>\n",
       "      <td>2017-06-30</td>\n",
       "      <td>260638</td>\n",
       "      <td>-2.726214</td>\n",
       "      <td>0.1297871</td>\n",
       "      <td>0.9391743</td>\n",
       "      <td>0.1521188</td>\n",
       "      <td>-82.42118</td>\n",
       "      <td>0.03400624</td>\n",
       "      <td>-19.03084</td>\n",
       "      <td>0.1798182</td>\n",
       "      <td>...</td>\n",
       "      <td>NAN</td>\n",
       "      <td>NAN</td>\n",
       "      <td>NAN</td>\n",
       "      <td>NAN</td>\n",
       "      <td>3.193167</td>\n",
       "      <td>3.191957</td>\n",
       "      <td>134.3321</td>\n",
       "      <td>1.576708</td>\n",
       "      <td>0.03246192</td>\n",
       "      <td>3.234</td>\n",
       "    </tr>\n",
       "    <tr>\n",
       "      <th>260641</th>\n",
       "      <td>2017-06-30</td>\n",
       "      <td>260639</td>\n",
       "      <td>-3.065361</td>\n",
       "      <td>0.1129651</td>\n",
       "      <td>0.6652485</td>\n",
       "      <td>0.129787</td>\n",
       "      <td>-82.1975</td>\n",
       "      <td>0.1912653</td>\n",
       "      <td>-18.55212</td>\n",
       "      <td>0.1455547</td>\n",
       "      <td>...</td>\n",
       "      <td>NAN</td>\n",
       "      <td>NAN</td>\n",
       "      <td>NAN</td>\n",
       "      <td>NAN</td>\n",
       "      <td>3.054333</td>\n",
       "      <td>3.054261</td>\n",
       "      <td>132.6734</td>\n",
       "      <td>0.3930281</td>\n",
       "      <td>0.09035149</td>\n",
       "      <td>3.168666</td>\n",
       "    </tr>\n",
       "  </tbody>\n",
       "</table>\n",
       "<p>260642 rows × 43 columns</p>\n",
       "</div>"
      ],
      "text/plain": [
       "         TIMESTAMP  RECORD  CM3Up_Avg     CM3Up_Std  CM3Dn_Avg  CM3Dn_Std  \\\n",
       "0              NaN      RN   W/meter²      W/meter²   W/meter²   W/meter²   \n",
       "1              NaN     NaN        Avg           Std        Avg        Std   \n",
       "2       2017-01-01       0  -0.965322      0.145262  0.8479179  0.1129719   \n",
       "3       2017-01-01       1  -1.043593             0  0.7826946          0   \n",
       "4       2017-01-01       2  -1.043593  1.28746E-006  0.7044256  0.1195589   \n",
       "...            ...     ...        ...           ...        ...        ...   \n",
       "260637  2017-06-30  260635  -2.595769    0.05685775  0.8609082  0.1452527   \n",
       "260638  2017-06-30  260636  -2.360978     0.1745176   1.330496  0.1629208   \n",
       "260639  2017-06-30  260637  -2.387066     0.1244325   1.369628   0.112965   \n",
       "260640  2017-06-30  260638  -2.726214     0.1297871  0.9391743  0.1521188   \n",
       "260641  2017-06-30  260639  -3.065361     0.1129651  0.6652485   0.129787   \n",
       "\n",
       "        CG3Up_Avg   CG3Up_Std  CG3Dn_Avg      CG3Dn_Std  ... TmV_1128_Avg  \\\n",
       "0        W/meter²    W/meter²   W/meter²       W/meter²  ...          NaN   \n",
       "1             Avg         Std        Avg            Std  ...          Avg   \n",
       "2       -35.48689  0.06697743   5.042647     0.06508042  ...          NAN   \n",
       "3       -35.70287   0.1050052   5.023046     0.07848501  ...          NAN   \n",
       "4       -35.54593   0.1310791   5.030898     0.07808675  ...          NAN   \n",
       "...           ...         ...        ...            ...  ...          ...   \n",
       "260637  -83.07717  0.08738826  -19.68629      0.1117456  ...          NAN   \n",
       "260638  -83.08854  0.03394419  -19.54101  2.161624E-005  ...          NAN   \n",
       "260639  -82.86093   0.2409604   -19.3762     0.08560921  ...          NAN   \n",
       "260640  -82.42118  0.03400624  -19.03084      0.1798182  ...          NAN   \n",
       "260641   -82.1975   0.1912653  -18.55212      0.1455547  ...          NAN   \n",
       "\n",
       "       IRR_1128_ground_Avg IRR_1128_ground_Std IRR_1128_ground_Min  \\\n",
       "0                      NaN                 NaN                 NaN   \n",
       "1                      Avg                 Std                 Min   \n",
       "2                      NAN                 NAN                 NAN   \n",
       "3                      NAN                 NAN                 NAN   \n",
       "4                      NAN                 NAN                 NAN   \n",
       "...                    ...                 ...                 ...   \n",
       "260637                 NAN                 NAN                 NAN   \n",
       "260638                 NAN                 NAN                 NAN   \n",
       "260639                 NAN                 NAN                 NAN   \n",
       "260640                 NAN                 NAN                 NAN   \n",
       "260641                 NAN                 NAN                 NAN   \n",
       "\n",
       "              WS_Scal         WS_vec    WD_vec   WD_Stdev  WS_ms_15m_Std  \\\n",
       "0       meters/second  meters/second       Deg        Deg  meters/second   \n",
       "1                WVc:           WVc:      WVc:        WVc            Std   \n",
       "2            5.372033       5.358186  334.0675   4.112473      0.1647887   \n",
       "3            5.358024       5.355624  335.6605   1.714197        0.11941   \n",
       "4            5.283834        5.27226  333.5716   3.790948     0.09516884   \n",
       "...               ...            ...       ...        ...            ...   \n",
       "260637       3.157233       3.156958  136.0161  0.7569094      0.1109105   \n",
       "260638       3.269933       3.269773   137.277  0.5669712      0.0545641   \n",
       "260639         3.2389         3.2385  138.1702  0.9003776     0.06390911   \n",
       "260640       3.193167       3.191957  134.3321   1.576708     0.03246192   \n",
       "260641       3.054333       3.054261  132.6734  0.3930281     0.09035149   \n",
       "\n",
       "        WS_ms_15m_Max  \n",
       "0       meters/second  \n",
       "1                 Max  \n",
       "2            5.651333  \n",
       "3            5.567136  \n",
       "4               5.488  \n",
       "...               ...  \n",
       "260637          3.332  \n",
       "260638       3.397333  \n",
       "260639       3.364666  \n",
       "260640          3.234  \n",
       "260641       3.168666  \n",
       "\n",
       "[260642 rows x 43 columns]"
      ]
     },
     "execution_count": 92,
     "metadata": {},
     "output_type": "execute_result"
    }
   ],
   "source": [
    "df"
   ]
  },
  {
   "cell_type": "code",
   "execution_count": 98,
   "id": "611da516-5f56-4c9f-a361-a8af1501271e",
   "metadata": {
    "tags": []
   },
   "outputs": [
    {
     "data": {
      "image/png": "[encoded data removed]",
      "text/plain": [
       "<Figure size 1000x600 with 1 Axes>"
      ]
     },
     "metadata": {},
     "output_type": "display_data"
    }
   ],
   "source": [
    "# Plotting average air temperature at 2m)\n",
    "plt.figure(figsize=(10, 6))\n",
    "plt.plot(df['TIMESTAMP'][2:].values, df['AirTC_25m_Avg'][2:].values, label='Avg Temp at 2m')\n",
    "\n",
    "# Add labels and title\n",
    "plt.xlabel('Timestamp')\n",
    "plt.ylabel('Temperature (°C)')\n",
    "plt.title('Average Air Temperature at 2m Over Time')\n",
    "\n",
    "# Add legend\n",
    "plt.legend()\n",
    "\n",
    "# Show the plot\n",
    "plt.show()"
   ]
  }
 ],
 "metadata": {
  "kernelspec": {
   "display_name": "Python 3 (ipykernel)",
   "language": "python",
   "name": "python3"
  },
  "language_info": {
   "codemirror_mode": {
    "name": "ipython",
    "version": 3
   },
   "file_extension": ".py",
   "mimetype": "text/x-python",
   "name": "python",
   "nbconvert_exporter": "python",
   "pygments_lexer": "ipython3",
   "version": "3.11.5"
  }
 },
 "nbformat": 4,
 "nbformat_minor": 5
}
