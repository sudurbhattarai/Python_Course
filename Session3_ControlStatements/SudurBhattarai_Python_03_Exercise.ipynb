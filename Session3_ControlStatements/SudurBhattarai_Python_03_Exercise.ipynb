{
 "cells": [
  {
   "cell_type": "markdown",
   "id": "714b976f",
   "metadata": {},
   "source": [
    "#  Introduction to Python\n",
    "## Exercise 3: If statements and loops\n",
    "\n",
    "Jutta Vüllers, contact: jutta.vuellers@kit.edu, Julia Fuchs, contact: julia.fuchs@kit.edu, Annika Bork-Unkelbach, contact: annika.bork-unkelbach@kit.edu\n",
    "\n",
    "### Learning objectives: \n",
    "\n",
    "1. Making decisions (if statement)\n",
    "\n",
    "2. Repeat tasks (Loops)\n",
    "        \n",
    "\n",
    "### Excercise 3 submitted until: 20 November 2022, 23:55 "
   ]
  },
  {
   "cell_type": "markdown",
   "id": "4843d3b0",
   "metadata": {},
   "source": [
    "# How to work with this exercise:\n",
    "\n",
    "The examples and exercises in this notebook are intended to WORK with. Please always ...\n",
    "- ... copy an example cell and paste it below\n",
    "- ... run it\n",
    "- ... modify it and run it again"
   ]
  },
  {
   "cell_type": "markdown",
   "id": "569af6d4",
   "metadata": {},
   "source": [
    "# What happend up to now:\n",
    "\n",
    "## In the last two exercises, we learned:\n",
    "- how to install a python distribution on our system\n",
    "- how to set up a working environment\n",
    "- about the python syntax\n",
    "- some basic terms and definitions in python (variables, different datatypes, operators, build in functions)\n",
    "\n",
    "\n",
    "## We can now\n",
    " - use python in interactive mode as a calculator\n",
    " - write a programm that calculates something, save it to file and run it "
   ]
  },
  {
   "cell_type": "markdown",
   "id": "568cdf87",
   "metadata": {},
   "source": [
    "# Recap example\n",
    "\n",
    "Write a programm that calculates the time you need to go to university:\n",
    "- give distance as user input (km)\n",
    "- set an average velocity\n",
    "- calculate the time\n",
    "- return the time (in minutes) to the user\n",
    "\n",
    "use the following example to get user input:"
   ]
  },
  {
   "cell_type": "code",
   "execution_count": 1,
   "id": "b2481bd7",
   "metadata": {
    "tags": []
   },
   "outputs": [
    {
     "name": "stdin",
     "output_type": "stream",
     "text": [
      "Please type something:  abcd\n"
     ]
    },
    {
     "name": "stdout",
     "output_type": "stream",
     "text": [
      "You typed:  abcd\n"
     ]
    }
   ],
   "source": [
    "x = input(\"Please type something: \")\n",
    "print(\"You typed: \",x)"
   ]
  },
  {
   "cell_type": "code",
   "execution_count": 1,
   "id": "7bff9fad",
   "metadata": {
    "tags": []
   },
   "outputs": [
    {
     "name": "stdin",
     "output_type": "stream",
     "text": [
      "Give distance from home to university in km:  5\n"
     ]
    },
    {
     "name": "stdout",
     "output_type": "stream",
     "text": [
      "Mean time to university in minutes:  60.0\n"
     ]
    }
   ],
   "source": [
    "#calculate time to go to university\n",
    "dist = input(\"Give distance from home to university in km: \")\n",
    "mean_velocity = 5.0\n",
    "time = float(dist) / mean_velocity\n",
    "time_in_minutes = time * 60\n",
    "print (\"Mean time to university in minutes: \",time_in_minutes)"
   ]
  },
  {
   "cell_type": "markdown",
   "id": "fb184fcf",
   "metadata": {},
   "source": [
    "# Imagine you would like to consider other ways of getting to university as well ..."
   ]
  },
  {
   "cell_type": "markdown",
   "id": "38bd07f4",
   "metadata": {},
   "source": [
    "# Making decisions : The if statement\n",
    "\n",
    "Take controll over your programm and modify it so that you can decide if the user walks or takes the bicycle!"
   ]
  },
  {
   "cell_type": "code",
   "execution_count": 6,
   "id": "c71576e2",
   "metadata": {
    "tags": []
   },
   "outputs": [
    {
     "name": "stdin",
     "output_type": "stream",
     "text": [
      "Give distance from home to university in km:  5\n",
      "Do you walk (press 1) or ride your bycicle (press 2)? 4\n"
     ]
    },
    {
     "name": "stdout",
     "output_type": "stream",
     "text": [
      "Mean time to university in minutes:  60.0\n"
     ]
    }
   ],
   "source": [
    "#calculate time to go to university\n",
    "dist = input(\"Give distance from home to university in km: \")\n",
    "transport = input(\"Do you walk (press 1) or ride your bycicle (press 2)?\")\n",
    "mean_vel_walk = 5.0\n",
    "mean_vel_bike = 20.0\n",
    "if int(transport) == 1:\n",
    "    time = float(dist) / mean_vel_walk\n",
    "if int(transport) == 2:\n",
    "    time = float(dist) / mean_vel_bike\n",
    "time_in_minutes = time * 60\n",
    "print (\"Mean time to university in minutes: \",time_in_minutes)"
   ]
  },
  {
   "cell_type": "markdown",
   "id": "4a3b786e",
   "metadata": {},
   "source": [
    "# The if statement\n",
    "\n",
    "The example above introduced the if statement, a so-called controll structure. The following examples will introduce more details and pitfalls. \n",
    "\n",
    "For more details, please also have a look at the official python documentation:\n",
    "https://docs.python.org/3.9/tutorial/controlflow.html#if-statements\n",
    "\n",
    "\n",
    "## A Recap on operators in python can be found here:\n",
    "https://www.w3schools.com/python/python_operators.asp\n",
    "\n",
    "## A comprehensive summary of the following examples can also be found here:\n",
    "https://www.youtube.com/watch?v=Zp5MuPOtsSY\n",
    "\n"
   ]
  },
  {
   "cell_type": "markdown",
   "id": "13bd786f",
   "metadata": {},
   "source": [
    "## What happens if you enter 3 ? why?"
   ]
  },
  {
   "cell_type": "markdown",
   "id": "d99953cd-3abb-4f98-94bf-103ef5b0a4bf",
   "metadata": {},
   "source": [
    "If we enter 3, the program will treat as if you entered the option 2(biking) and it wiill calculate the time to the university using teh mean biking velocity."
   ]
  },
  {
   "cell_type": "markdown",
   "id": "0ed7a700",
   "metadata": {},
   "source": [
    "## Avoid the error using the else statement"
   ]
  },
  {
   "cell_type": "code",
   "execution_count": 14,
   "id": "fd11721c",
   "metadata": {
    "tags": []
   },
   "outputs": [
    {
     "name": "stdin",
     "output_type": "stream",
     "text": [
      "Give distance from home to university in km:  5\n",
      "Do you walk (press 1) or ride your bycicle (press 2)? 3\n"
     ]
    },
    {
     "name": "stdout",
     "output_type": "stream",
     "text": [
      "Mean time to university in minutes:  15.0\n"
     ]
    }
   ],
   "source": [
    "#calculate time to go to university\n",
    "dist = input(\"Give distance from home to university in km: \")\n",
    "transport = input(\"Do you walk (press 1) or ride your bycicle (press 2)?\")\n",
    "mean_vel_walk = 5.0\n",
    "mean_vel_bike = 20.0\n",
    "if int(transport) == 1:\n",
    "    time = float(dist) / mean_vel_walk\n",
    "else:\n",
    "    time = float(dist) / mean_vel_bike\n",
    "time_in_minutes = time * 60\n",
    "print (\"Mean time to university in minutes: \",time_in_minutes)"
   ]
  },
  {
   "cell_type": "markdown",
   "id": "615b4bc9",
   "metadata": {},
   "source": [
    "## What happens now if you enter 3 ? why?"
   ]
  },
  {
   "cell_type": "markdown",
   "id": "9dc9546e-51f9-4865-9b07-09556d66a895",
   "metadata": {},
   "source": [
    "If we enter 3, the program will treat as if the first option is wrong and the control goes to the else block calculate the timing to the university using the mean buking velocity."
   ]
  },
  {
   "cell_type": "markdown",
   "id": "80b786df",
   "metadata": {},
   "source": [
    "## Using multiple conditions connected with the operators: and,  or"
   ]
  },
  {
   "cell_type": "code",
   "execution_count": 16,
   "id": "01d13e37",
   "metadata": {},
   "outputs": [
    {
     "name": "stdin",
     "output_type": "stream",
     "text": [
      "Give distance from home to university in km:  5\n",
      "Do you walk (press 1) or ride your bycicle (press 2)? 0\n"
     ]
    },
    {
     "name": "stdout",
     "output_type": "stream",
     "text": [
      "Please enter a valid number of transport. \n"
     ]
    }
   ],
   "source": [
    "#calculate time to go to university\n",
    "dist = input(\"Give distance from home to university in km: \")\n",
    "transport = int(input(\"Do you walk (press 1) or ride your bycicle (press 2)?\"))\n",
    "mean_vel_walk = 5.0\n",
    "mean_vel_bike = 20.0\n",
    "if (transport == 1) or (transport == 2):\n",
    "    if transport == 1:\n",
    "        time = float(dist) / mean_vel_walk\n",
    "    if transport == 2:\n",
    "        time = float(dist) / mean_vel_bike\n",
    "    time_in_minutes = time * 60\n",
    "    print (\"Mean time to university in minutes: \",time_in_minutes)\n",
    "else:\n",
    "    print(\"Please enter a valid number of transport. \")"
   ]
  },
  {
   "cell_type": "markdown",
   "id": "c3fd68ae",
   "metadata": {},
   "source": [
    "## Second option: the elif (else if) statement "
   ]
  },
  {
   "cell_type": "code",
   "execution_count": null,
   "id": "793f2f11",
   "metadata": {},
   "outputs": [],
   "source": [
    "#calculate time to go to university\n",
    "dist = input(\"Give distance from home to university in km: \")\n",
    "transport = int(input(\"Do you walk (press 1) or ride your bycicle (press 2)?\"))\n",
    "mean_vel_walk = 5.0\n",
    "mean_vel_bike = 20.0\n",
    "\n",
    "if transport == 1:\n",
    "    time = float(dist) / mean_vel_walk\n",
    "    time_in_minutes = time * 60\n",
    "    print (\"Mean time to university in minutes: \",time_in_minutes)\n",
    "elif transport == 2:\n",
    "    time = float(dist) / mean_vel_bike\n",
    "    time_in_minutes = time * 60\n",
    "    print (\"Mean time to university in minutes: \",time_in_minutes)\n",
    "else:\n",
    "    print(\"Please enter a valid number of transport. \")"
   ]
  },
  {
   "cell_type": "markdown",
   "id": "416ad417",
   "metadata": {},
   "source": [
    "## True and false\n",
    "write a program that decides if a statement is true or false\n",
    "- let the user enter a number thats higher than 5\n",
    "- check if the user entered a valid number"
   ]
  },
  {
   "cell_type": "code",
   "execution_count": 27,
   "id": "bdac8506-038a-4fb1-8ed2-4c1305b73002",
   "metadata": {
    "tags": []
   },
   "outputs": [
    {
     "name": "stdin",
     "output_type": "stream",
     "text": [
      "PLease enter a number higher than 5:  4\n"
     ]
    },
    {
     "name": "stdout",
     "output_type": "stream",
     "text": [
      "You did not enter the valid number\n"
     ]
    }
   ],
   "source": [
    "#program to check if the enetered number is higher than 5\n",
    "num = int(input(\"PLease enter a number higher than 5: \"))\n",
    "statement = num > 5\n",
    "\n",
    "if statement == True:\n",
    "    print(\"You entered a valid number!\")\n",
    "if statement == False:\n",
    "    print(\"You did not enter the valid number\")"
   ]
  },
  {
   "cell_type": "markdown",
   "id": "2f00a8bd",
   "metadata": {},
   "source": [
    "## 3.1 : Calcuate the price of a ticket of the tram (in Karlsruhe)\n",
    "- 2 zones adults : 2.80 € #I don't understand this condition, what for other than 2? condition not clearly explained\n",
    "- kids between 6-14 years: 1.60€\n",
    "- kids younger than 6 years are free of charge\n",
    "- imagine a 25% discount for people older than 65"
   ]
  },
  {
   "cell_type": "code",
   "execution_count": 50,
   "id": "0c2ee4bc-977d-4cd1-8d4a-6a0c4cd21f09",
   "metadata": {
    "tags": []
   },
   "outputs": [
    {
     "name": "stdin",
     "output_type": "stream",
     "text": [
      "Enter the passenger's age:  70\n"
     ]
    },
    {
     "name": "stdout",
     "output_type": "stream",
     "text": [
      "The price of the tram ticket is: 2.25 €\n"
     ]
    }
   ],
   "source": [
    "passenger_age = int(input(\"Enter the passenger's age: \"))\n",
    "tram_ticket_price = 3.0\n",
    "\n",
    "if passenger_age<6:\n",
    "    print(\"Free ticket\")\n",
    "elif 6<=passenger_age<=14:\n",
    "    children_fare = 1.6\n",
    "    print(f\"The price of the tram ticket is: {children_fare} €\")\n",
    "elif passenger_age>65:\n",
    "    discount_percent_senior = 25\n",
    "    discount_fare = (discount_percent_senior / 100)*tram_ticket_price\n",
    "    ticket_price = tram_ticket_price - discount_fare\n",
    "    print(f\"The price of the tram ticket is: {ticket_price:.2f} €\")\n",
    "else:\n",
    "    zones = int(input(\"Enter the number of zones traveled: \"))\n",
    "    if zones>=2:\n",
    "        adult_fare = 2.8\n",
    "        print(f\"The price of the tram ticket is: {adult_fare} €\")\n",
    "    else:\n",
    "        print(f\"The price of the tram ticket is: {tram_ticket_price} €\")"
   ]
  },
  {
   "cell_type": "markdown",
   "id": "f4a4afd4",
   "metadata": {},
   "source": [
    "## Repeat tasks using the while statement"
   ]
  },
  {
   "cell_type": "markdown",
   "id": "1b4b4ea0",
   "metadata": {},
   "source": [
    "Write a program that prints the numbers from 1 to 10 \n",
    "up to now:"
   ]
  },
  {
   "cell_type": "code",
   "execution_count": 51,
   "id": "ddefbfe1",
   "metadata": {},
   "outputs": [
    {
     "name": "stdout",
     "output_type": "stream",
     "text": [
      "1\n",
      "2\n",
      "3\n",
      "4\n",
      "5\n",
      "6\n",
      "7\n",
      "8\n",
      "9\n",
      "10\n"
     ]
    }
   ],
   "source": [
    "print(\"1\")\n",
    "print(\"2\")\n",
    "print(\"3\")\n",
    "print(\"4\")\n",
    "print(\"5\")\n",
    "print(\"6\")\n",
    "print(\"7\")\n",
    "print(\"8\")\n",
    "print(\"9\")\n",
    "print(\"10\")"
   ]
  },
  {
   "cell_type": "markdown",
   "id": "bea25c23",
   "metadata": {},
   "source": [
    "using the while statement:"
   ]
  },
  {
   "cell_type": "code",
   "execution_count": 5,
   "id": "63b00783",
   "metadata": {},
   "outputs": [
    {
     "name": "stdout",
     "output_type": "stream",
     "text": [
      "1\n",
      "2\n",
      "3\n",
      "4\n",
      "5\n",
      "6\n",
      "7\n",
      "8\n",
      "9\n",
      "10\n"
     ]
    }
   ],
   "source": [
    "number = 0\n",
    "while number != 10:\n",
    "    number= number + 1\n",
    "    print(number)"
   ]
  },
  {
   "cell_type": "markdown",
   "id": "4f240418",
   "metadata": {},
   "source": [
    "Write a program that \n",
    " - lets you throw the dice until it shows a 6"
   ]
  },
  {
   "cell_type": "code",
   "execution_count": 85,
   "id": "a3e5c3d9",
   "metadata": {},
   "outputs": [
    {
     "name": "stdin",
     "output_type": "stream",
     "text": [
      "Please throw the dice and enter its value:  4\n",
      "Please throw the dice and enter its value:  4\n",
      "Please throw the dice and enter its value:  6\n"
     ]
    },
    {
     "name": "stdout",
     "output_type": "stream",
     "text": [
      "Congrtulations! You got a 6!\n"
     ]
    }
   ],
   "source": [
    "dice = 0\n",
    "while dice < 6:\n",
    "    dice = int(input(\"Please throw the dice and enter its value: \"))\n",
    "if dice > 6:\n",
    "    print(\"Take a break, something is wront with your dice! \")\n",
    "else:\n",
    "    print(\"Congrtulations! You got a 6!\")"
   ]
  },
  {
   "cell_type": "markdown",
   "id": "9ba50c26",
   "metadata": {},
   "source": [
    "## Questions:\n",
    "\n",
    "- What happens if you skip/comment the 1st line?\n",
    "- What is the differece between the if and while statements? Try!"
   ]
  },
  {
   "cell_type": "code",
   "execution_count": 60,
   "id": "2e76721f-b38f-49cb-b360-ad751a67f641",
   "metadata": {
    "tags": []
   },
   "outputs": [
    {
     "name": "stdout",
     "output_type": "stream",
     "text": [
      "Take a breake, something is wront with your dice! \n"
     ]
    }
   ],
   "source": [
    "#What happens if you skip/comment the 1st line?\n",
    "\n",
    "# dice = 0\n",
    "while dice < 6:\n",
    "    dice = int(input(\"Please throw the dice and enter its value: \"))\n",
    "if dice > 6:\n",
    "    print(\"Take a breake, something is wront with your dice! \")\n",
    "else:\n",
    "    print(\"Congrtulations! You got a 6!\")"
   ]
  },
  {
   "cell_type": "markdown",
   "id": "749dd20e-1e44-4ad0-b681-070f2129db66",
   "metadata": {},
   "source": [
    "If the first line is skipped or commented out, the while loop can not get the value for the initialization and as a result, it will generate this line \"Take a breake, something is wront with your dice! \""
   ]
  },
  {
   "cell_type": "code",
   "execution_count": 4,
   "id": "fdae1482-d0d7-4ede-8e3c-d12985ff3c20",
   "metadata": {
    "tags": []
   },
   "outputs": [
    {
     "name": "stdin",
     "output_type": "stream",
     "text": [
      "Please throw the dice and enter its value:  0\n"
     ]
    },
    {
     "name": "stdout",
     "output_type": "stream",
     "text": [
      "Take a break, something is wrong with your dice!\n"
     ]
    }
   ],
   "source": [
    "#if statement\n",
    "\n",
    "dice = int(input(\"Please throw the dice and enter its value: \"))\n",
    "if dice < 6:\n",
    "    print(\"Take a break, something is wrong with your dice!\")\n",
    "elif dice == 6:\n",
    "    print(\"Congratulations! You got a 6!\")\n",
    "else:\n",
    "    print(\"Invalid input. Please enter a value between 1 and 6.\")"
   ]
  },
  {
   "cell_type": "markdown",
   "id": "8b9efe69-71b5-4039-ac9a-32834b8b09f5",
   "metadata": {},
   "source": [
    "if statement is a  one-time decision making statement, which is used for the conditional execution of the code. It executes the block of the code only if a specified condition is true. After the block inside the 'if' is executed, the control of the program goes to the next statement outside the 'if'.\n",
    "Here, for example, if i type dice = 6, when the program ask from us, the first condition is no satisfied and the condition dice == 6 is satisfied, then the statemnt within this block is executed and the program is stopped."
   ]
  },
  {
   "cell_type": "code",
   "execution_count": 6,
   "id": "47e41aad-73fe-4d32-8ca8-cd3118e2a686",
   "metadata": {
    "tags": []
   },
   "outputs": [
    {
     "name": "stdin",
     "output_type": "stream",
     "text": [
      "Please throw the dice and enter its value:  1\n",
      "Please throw the dice and enter its value:  2\n",
      "Please throw the dice and enter its value:  3\n",
      "Please throw the dice and enter its value:  4\n",
      "Please throw the dice and enter its value:  5\n",
      "Please throw the dice and enter its value:  6\n"
     ]
    },
    {
     "name": "stdout",
     "output_type": "stream",
     "text": [
      "Congrtulations! You got a 6!\n"
     ]
    }
   ],
   "source": [
    "#while statement\n",
    "\n",
    "dice = 0\n",
    "while dice < 6:\n",
    "    dice = int(input(\"Please throw the dice and enter its value: \"))\n",
    "if dice > 6:\n",
    "    print(\"Take a breake, something is wront with your dice! \")\n",
    "else:\n",
    "    print(\"Congrtulations! You got a 6!\")"
   ]
  },
  {
   "cell_type": "markdown",
   "id": "af8b6834-0174-4493-a6f7-a51c7788b79e",
   "metadata": {},
   "source": [
    "while statemet is used for the looping or iteration of the statement. It initialaizes the variable to a certain value, and checks for the condition. Untiland unless the condition is satisfied, the looping continues.\n",
    "\n",
    "Here, in this example, the dice variable is initialized to 0. And then, it checks for the condition applying the while loop. If this program is executed, first of all ask the user to enter the value, if the user give the value to 2, 2 is stored in this variable and then the control of the program checks the condition, it finds itself well satisfied with if dice<6, the statemnt within this block is executed. And then again, the control of the program moves to line of while condition, it checks the condition. Until and unless the user give the value 6, the loop keeps on iterating."
   ]
  },
  {
   "cell_type": "markdown",
   "id": "7a1f3662",
   "metadata": {},
   "source": [
    "## What would happen in the following example (don't run it!)"
   ]
  },
  {
   "cell_type": "code",
   "execution_count": null,
   "id": "edcc4ca4",
   "metadata": {},
   "outputs": [],
   "source": [
    "# while True:\n",
    "#   print(\"you shouldn't run this code!\")"
   ]
  },
  {
   "cell_type": "markdown",
   "id": "bc133143-5bdb-495d-9c91-a0e0309d7ebb",
   "metadata": {},
   "source": [
    "The line \"you shouldn't run this code!\" keeps on printing, the loop does not stop and it keeps on printing this line (you shouldn't run this code!). The program does not stop."
   ]
  },
  {
   "cell_type": "markdown",
   "id": "6c19503a",
   "metadata": {},
   "source": [
    "## Leaving the while loop with break \n",
    "\n",
    "- Imagine you want to print the square of a number, but want to have an option to leave the loop:\n",
    "- What happens is you place the print command (you ended the program) after the break command? Why?"
   ]
  },
  {
   "cell_type": "code",
   "execution_count": 89,
   "id": "5b2a1356",
   "metadata": {},
   "outputs": [
    {
     "name": "stdin",
     "output_type": "stream",
     "text": [
      "Give a random number, press 0 to end the program  0\n"
     ]
    },
    {
     "name": "stdout",
     "output_type": "stream",
     "text": [
      "You ended the program \n"
     ]
    }
   ],
   "source": [
    "while True:\n",
    "    x = input(\"Give a random number, press 0 to end the program \")\n",
    "    x = int(x)\n",
    "    if x == 0:\n",
    "        print(\"You ended the program \")\n",
    "        break\n",
    "    print(\"the square of \", x, \" is \", (x**2))"
   ]
  },
  {
   "cell_type": "markdown",
   "id": "df563477-0971-4633-ad7a-a744d9a8ebce",
   "metadata": {},
   "source": [
    "If the print command (you ended the program) is placed after the break command. The program will terminate before giving/printing the message (you ended the program)."
   ]
  },
  {
   "cell_type": "markdown",
   "id": "91f402f8",
   "metadata": {},
   "source": [
    "## Leaving the while loop with break \n",
    "\n",
    "- Imagine you want to print the square of a number, but want to have an option to leave the loop:\n",
    "- What happens is you place the print command (you ended the program) after the break command? Why?"
   ]
  },
  {
   "cell_type": "code",
   "execution_count": 9,
   "id": "aba1e796",
   "metadata": {},
   "outputs": [
    {
     "name": "stdin",
     "output_type": "stream",
     "text": [
      "Give a random number, press 0 to end the program  5\n"
     ]
    },
    {
     "name": "stdout",
     "output_type": "stream",
     "text": [
      "the square of  5  is  25\n"
     ]
    },
    {
     "name": "stdin",
     "output_type": "stream",
     "text": [
      "Give a random number, press 0 to end the program  3\n"
     ]
    },
    {
     "name": "stdout",
     "output_type": "stream",
     "text": [
      "the square of  3  is  9\n"
     ]
    },
    {
     "name": "stdin",
     "output_type": "stream",
     "text": [
      "Give a random number, press 0 to end the program  0\n"
     ]
    },
    {
     "name": "stdout",
     "output_type": "stream",
     "text": [
      "You ended the program \n"
     ]
    }
   ],
   "source": [
    "while True:\n",
    "    x = input(\"Give a random number, press 0 to end the program \")\n",
    "    x = int(x)\n",
    "    if x == 0:\n",
    "        print(\"You ended the program \")\n",
    "        break\n",
    "    print(\"the square of \", x, \" is \", (x**2))"
   ]
  },
  {
   "cell_type": "markdown",
   "id": "1d8e033b",
   "metadata": {},
   "source": [
    "## Leaving the while loop with continue\n",
    "\n",
    "- Imagine you want to print only even numbers in a range from 1 to 20"
   ]
  },
  {
   "cell_type": "code",
   "execution_count": 10,
   "id": "c2eaf947",
   "metadata": {},
   "outputs": [
    {
     "name": "stdout",
     "output_type": "stream",
     "text": [
      "2\n",
      "4\n",
      "6\n",
      "8\n",
      "10\n",
      "12\n",
      "14\n",
      "16\n",
      "18\n",
      "20\n"
     ]
    }
   ],
   "source": [
    "x = 0\n",
    "while x < 21:\n",
    "    #x = x + 1\n",
    "    x += 1\n",
    "    if x % 2 == 0:\n",
    "        print(x)\n",
    "    else:\n",
    "        continue"
   ]
  },
  {
   "cell_type": "markdown",
   "id": "a7d4b2c1",
   "metadata": {},
   "source": [
    "## 3.2: Find out if a given number is a prime number\n",
    "\n",
    "- let the user choose a number\n",
    "- test if this number is a prime number\n",
    "- print the result to the user"
   ]
  },
  {
   "cell_type": "code",
   "execution_count": 94,
   "id": "2671e8bf-c8cc-4d45-bed2-7d31b553ebe3",
   "metadata": {
    "tags": []
   },
   "outputs": [
    {
     "name": "stdin",
     "output_type": "stream",
     "text": [
      "Enter the number:  7\n"
     ]
    },
    {
     "name": "stdout",
     "output_type": "stream",
     "text": [
      "7 is a  prime number\n"
     ]
    }
   ],
   "source": [
    "#taking input from the user\n",
    "num = int(input(\"Enter the number: \"))\n",
    "\n",
    "if num>1:\n",
    "    for i in range(2, num):\n",
    "        if (num%i) == 0:\n",
    "            print(num,\"is not a prime number\")\n",
    "            break\n",
    "    else:\n",
    "        print(num,\"is a  prime number\")\n",
    "else:\n",
    "    print(num,\"is not a prime number\")"
   ]
  },
  {
   "cell_type": "markdown",
   "id": "3191212a",
   "metadata": {},
   "source": [
    "## 3.3: How can you modify the program to print all prime numbers between 1 and 1000?"
   ]
  },
  {
   "cell_type": "code",
   "execution_count": 96,
   "id": "333c629d-6f24-4463-a3a9-22e805ddb5b5",
   "metadata": {
    "tags": []
   },
   "outputs": [
    {
     "name": "stdout",
     "output_type": "stream",
     "text": [
      "[2, 3, 5, 7, 11, 13, 17, 19, 23, 29, 31, 37, 41, 43, 47, 53, 59, 61, 67, 71, 73, 79, 83, 89, 97, 101, 103, 107, 109, 113, 127, 131, 137, 139, 149, 151, 157, 163, 167, 173, 179, 181, 191, 193, 197, 199, 211, 223, 227, 229, 233, 239, 241, 251, 257, 263, 269, 271, 277, 281, 283, 293, 307, 311, 313, 317, 331, 337, 347, 349, 353, 359, 367, 373, 379, 383, 389, 397, 401, 409, 419, 421, 431, 433, 439, 443, 449, 457, 461, 463, 467, 479, 487, 491, 499, 503, 509, 521, 523, 541, 547, 557, 563, 569, 571, 577, 587, 593, 599, 601, 607, 613, 617, 619, 631, 641, 643, 647, 653, 659, 661, 673, 677, 683, 691, 701, 709, 719, 727, 733, 739, 743, 751, 757, 761, 769, 773, 787, 797, 809, 811, 821, 823, 827, 829, 839, 853, 857, 859, 863, 877, 881, 883, 887, 907, 911, 919, 929, 937, 941, 947, 953, 967, 971, 977, 983, 991, 997]\n"
     ]
    }
   ],
   "source": [
    "def prime_range(num):\n",
    "    count = 0\n",
    "    prime = []\n",
    "    for i in range(2, num+1):\n",
    "        for j in range(2, num+1):\n",
    "            if i%j == 0:\n",
    "                break;\n",
    "        if i == j:\n",
    "            count = count +1\n",
    "            prime.append(i)\n",
    "    return prime\n",
    "    print(f\"We have {count} prime numbers from 1 to 1000\")\n",
    "\n",
    "print(prime_range(1000))"
   ]
  },
  {
   "cell_type": "markdown",
   "id": "b83ec0a9",
   "metadata": {},
   "source": [
    "## 3.4: Build yourself a personal multiplication table trainer\n",
    "\n",
    "- randomly generate two number between 1 and 9\n",
    "- use the help below\n",
    "- give the problem to the user\n",
    "- ask for the users answer\n",
    "- check if is correct\n"
   ]
  },
  {
   "cell_type": "code",
   "execution_count": 98,
   "id": "f5685ca0",
   "metadata": {},
   "outputs": [
    {
     "name": "stdin",
     "output_type": "stream",
     "text": [
      "What is 7 times 6?  42\n"
     ]
    },
    {
     "name": "stdout",
     "output_type": "stream",
     "text": [
      "Correct! Well done.\n"
     ]
    }
   ],
   "source": [
    "import random\n",
    "\n",
    "def generate_problem():\n",
    "    # Randomly generate two numbers between 1 and 9\n",
    "    num1 = random.randint(1, 9)\n",
    "    num2 = random.randint(1, 9)\n",
    "    return num1, num2\n",
    "\n",
    "def ask_user_for_answer(num1, num2):\n",
    "    # Ask the user to solve the problem\n",
    "    user_answer = int(input(f\"What is {num1} times {num2}? \"))\n",
    "    return user_answer\n",
    "\n",
    "def check_answer(num1, num2, user_answer):\n",
    "    # Check if the user's answer is correct\n",
    "    correct_answer = num1 * num2\n",
    "    return user_answer == correct_answer\n",
    "\n",
    "def main():\n",
    "    # Generate a multiplication problem\n",
    "    num1, num2 = generate_problem()\n",
    "\n",
    "    # Ask the user for their answer\n",
    "    user_answer = ask_user_for_answer(num1, num2)\n",
    "\n",
    "    # Check if the user's answer is correct\n",
    "    is_correct = check_answer(num1, num2, user_answer)\n",
    "\n",
    "    # Provide feedback to the user\n",
    "    if is_correct:\n",
    "        print(\"Correct! Well done.\")\n",
    "    else:\n",
    "        print(f\"Sorry, the correct answer is {num1 * num2}.\")\n",
    "\n",
    "# Run the multiplication table trainer\n",
    "if __name__ == \"__main__\":\n",
    "    main()"
   ]
  },
  {
   "cell_type": "markdown",
   "id": "344b1bf4",
   "metadata": {},
   "source": [
    "# Loops and lists: the for loop\n",
    "\n",
    "Imagine that we would like to print each element of a given list:"
   ]
  },
  {
   "cell_type": "code",
   "execution_count": 9,
   "id": "c671a8bf",
   "metadata": {},
   "outputs": [
    {
     "name": "stdout",
     "output_type": "stream",
     "text": [
      "The names of the python course team are: \n",
      "Julia\n",
      "Jutta\n",
      "Annika\n",
      "Alexandre\n",
      "Yichen\n"
     ]
    }
   ],
   "source": [
    "list = [\"Julia\", \"Jutta\", \"Annika\", \"Alexandre\", \"Yichen\"]\n",
    "print(\"The names of the python course team are: \")\n",
    "for name in list:\n",
    "    print(name)"
   ]
  },
  {
   "cell_type": "markdown",
   "id": "13c13ad2",
   "metadata": {},
   "source": [
    "# The for statement\n",
    "\n",
    "The example above introduced the for statements, that allows to repeat tasks on lists and dictionaries.\n",
    "\n",
    "For more details, please also have a look at the official python documentation:\n",
    "https://docs.python.org/3.9/tutorial/controlflow.html#for-statements\n",
    "\n",
    "\n",
    "## A comprehensive summary of the following examples can also be found here:\n",
    "https://www.youtube.com/watch?v=94UHCEmprCY\n",
    "\n"
   ]
  },
  {
   "cell_type": "markdown",
   "id": "df1166b5",
   "metadata": {},
   "source": [
    "# 3.5: Its pizza time!\n",
    "\n",
    "Write a program that lets the user compose a pizza:\n",
    "- create a list with possible toppings you might have at home\n",
    "- ask the user to name some toppings\n",
    "- check if they are available\n",
    "- print the pizza composition and give feedback to the user\n",
    "- What happens if your fridge is empty or the user isn't hungry?"
   ]
  },
  {
   "cell_type": "code",
   "execution_count": 61,
   "id": "39e00670-984e-4287-ac7c-6082b0812a82",
   "metadata": {
    "tags": []
   },
   "outputs": [
    {
     "name": "stdin",
     "output_type": "stream",
     "text": [
      "Are you hungry? (yes/no):  yes\n",
      "Is the fridge empty? (yes/no):  yes\n"
     ]
    },
    {
     "name": "stdout",
     "output_type": "stream",
     "text": [
      "No food in the fridge. Go the store and buy some food for you.\n"
     ]
    }
   ],
   "source": [
    "def create_pizza():\n",
    "    # List of possible toppings\n",
    "    available_toppings = ['cheese', 'pepperoni', 'mushrooms', 'onions', 'bell peppers', 'olives']\n",
    "\n",
    "    # Ask the user for toppings\n",
    "    user_toppings = input(\"Enter the toppings you want on your pizza (comma-separated): \").lower().split(',')\n",
    "\n",
    "    # Check if toppings are available\n",
    "    available_toppings_lower = [topping.lower() for topping in available_toppings]\n",
    "    selected_toppings = [topping.strip() for topping in user_toppings if topping.strip() in available_toppings_lower]\n",
    "\n",
    "    # Check if the user is hungry and the fridge is not empty\n",
    "    if selected_toppings:\n",
    "        print(\"\\nGreat choice! Your pizza will have the following toppings:\")\n",
    "        print(', '.join(selected_toppings))\n",
    "    else:\n",
    "        print(\"\\nSorry, we couldn't find any available toppings. Please check your fridge or choose different toppings.\")\n",
    "\n",
    "# Main program\n",
    "if __name__ == \"__main__\":\n",
    "    # Ask if the user is hungry\n",
    "    is_hungry = input(\"Are you hungry? (yes/no): \").lower()\n",
    "    is_empty = input(\"Is the fridge empty? (yes/no): \").lower()\n",
    "\n",
    "    if (is_hungry == 'yes' and is_empty == 'yes'):\n",
    "        print(\"No food in the fridge. Go the store and buy some food for you.\")\n",
    "    elif (is_hungry == 'yes' and is_empty == 'no'):\n",
    "        create_pizza()\n",
    "    elif (is_hungry == 'no' and is_empty == 'yes'):\n",
    "        print(\"Make sure you buy some foods before you get hungry\")\n",
    "    else:\n",
    "        print(\"Okay! Please let us know when you get hungry\")"
   ]
  },
  {
   "cell_type": "markdown",
   "id": "64f587ec",
   "metadata": {},
   "source": [
    "# 3.6: Play lotto and become a millionaire!\n",
    "\n",
    "Write a program, that \n",
    "\n",
    " - randomly chooses 6 numbers between 1 and 49\n",
    " - let the user choose 6 numbers \n",
    " - compares how many numbers are correct\n",
    " - give feedback to the user"
   ]
  },
  {
   "cell_type": "code",
   "execution_count": 100,
   "id": "ab34cb0e-6a63-47f7-afcd-a253b1a45b1c",
   "metadata": {
    "tags": []
   },
   "outputs": [
    {
     "name": "stdout",
     "output_type": "stream",
     "text": [
      "Provide 6 numbers between 1 and 49 (one-by-one separated by the spacebars): \n"
     ]
    },
    {
     "name": "stdin",
     "output_type": "stream",
     "text": [
      " 3 9 13 17 19 23\n"
     ]
    },
    {
     "name": "stdout",
     "output_type": "stream",
     "text": [
      "Lottery Ticket: 1 6 8 40 22 12\n",
      "User's Choice : 3 9 13 17 19 23\n",
      " \n",
      " ----------- Results ----------- \n",
      "1 & 3 - no match! ❌\n",
      "6 & 9 - no match! ❌\n",
      "8 & 13 - no match! ❌\n",
      "40 & 17 - no match! ❌\n",
      "22 & 19 - no match! ❌\n",
      "12 & 23 - no match! ❌\n",
      "\n",
      "Total points:  0\n",
      "\n",
      "0 numbers are correct\n"
     ]
    }
   ],
   "source": [
    "import random\n",
    "\n",
    "ticket_lottery = random.sample(range(1,49), k = 6)\n",
    "\n",
    "print(\"Provide 6 numbers between 1 and 49 (one-by-one separated by the spacebars): \")\n",
    "ticket_input: list = list(map(int, input().split()))\n",
    "\n",
    "#combine ticket_lotter, and ticket_input with zip\n",
    "result = list(zip(ticket_lottery, ticket_input))\n",
    "\n",
    "# Display lottery ticket and User's choice \n",
    "print(f'Lottery Ticket: {\" \".join([str(i) for i in ticket_lottery])}')\n",
    "print(f'User\\'s Choice : {\" \".join([str(i) for i in ticket_input])}')\n",
    "\n",
    "# Display results:\n",
    "print(' \\n ----------- Results ----------- ')\n",
    "points = 0\n",
    "\n",
    "# Iterate over both lists:\n",
    "for lottery, user_choice in result:\n",
    "    if lottery == user_choice:\n",
    "        print(f'{lottery} & {user_choice} - match! {chr(10004)}')\n",
    "        # If a match, gain a point\n",
    "        points += 1\n",
    "    else:\n",
    "        print(f'{lottery} & {user_choice} - no match! {chr(10060)}')\n",
    "\n",
    "# Display total points:\n",
    "print('\\nTotal points: ', points)\n",
    "\n",
    "print(f'\\n{points} numbers are correct')"
   ]
  },
  {
   "cell_type": "markdown",
   "id": "71a2052e",
   "metadata": {},
   "source": [
    "# 3.7 Get to know new fellow students!\n",
    "\n",
    "Create a dictionary to store information about some of your new fellow students (3 or more): \n",
    "- Name\n",
    "- City they came from\n",
    "- Country\n",
    "- why they learn python (1 sentence)\n",
    "\n",
    "Write a programm that prints the information you stored to the user. For example:\n",
    "\n",
    "Annika is from Karlsruhe in Germany and learns Python because it's so much fun!"
   ]
  },
  {
   "cell_type": "code",
   "execution_count": 78,
   "id": "74654808",
   "metadata": {},
   "outputs": [
    {
     "name": "stdout",
     "output_type": "stream",
     "text": [
      "Satvik is from Mumbai in India and learns Python becasue it is too much fun!\n",
      "Li is from Wuhan in China and learns Python as he wants to ensure the career in data science.\n",
      "Sujan is from Kathmandu in Nepal and learns Python for enhancing the problem solving skills.\n"
     ]
    }
   ],
   "source": [
    " #creating the dictionary to store information about the new fellow students\n",
    "students_info = {\n",
    "    'Satvik': {\n",
    "        'city': 'Mumbai',\n",
    "        'country': 'India',\n",
    "        'reason': \"becasue it is too much fun!\"\n",
    "    },\n",
    "    'Li': {\n",
    "        'city': 'Wuhan',\n",
    "        'country': 'China',\n",
    "        'reason': \"as he wants to ensure the career in data science.\"\n",
    "    },\n",
    "    'Sujan': {\n",
    "        'city':'Kathmandu',\n",
    "        'country': 'Nepal',\n",
    "        'reason': \"for enhancing the problem solving skills.\"\n",
    "    }\n",
    "}\n",
    "#printing the information about each student\n",
    "for name, info in students_info.items():\n",
    "    print(f\"{name} is from {info['city']} in {info['country']} and learns Python {info['reason']}\")"
   ]
  }
 ],
 "metadata": {
  "kernelspec": {
   "display_name": "Python 3 (ipykernel)",
   "language": "python",
   "name": "python3"
  },
  "language_info": {
   "codemirror_mode": {
    "name": "ipython",
    "version": 3
   },
   "file_extension": ".py",
   "mimetype": "text/x-python",
   "name": "python",
   "nbconvert_exporter": "python",
   "pygments_lexer": "ipython3",
   "version": "3.11.5"
  }
 },
 "nbformat": 4,
 "nbformat_minor": 5
}
