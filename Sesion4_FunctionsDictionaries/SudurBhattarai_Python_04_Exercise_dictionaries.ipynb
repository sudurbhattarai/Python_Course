{
 "cells": [
  {
   "cell_type": "markdown",
   "metadata": {},
   "source": [
    "#  Introduction to Python\n",
    "## Exercise 4: Dictionaries\n",
    "\n",
    "Annika Bork-Unkelbach, contact: annika.bork-unkelbach@kit.edu, Jutta Vüllers, contact: jutta.vuellers@kit.edu, Julia Fuchs, contact: julia.fuchs@kit.edu"
   ]
  },
  {
   "cell_type": "markdown",
   "metadata": {},
   "source": [
    "### Learning objectives: \n",
    "\n",
    "1. A dictionary\n",
    "2. Working with dictionaries\n",
    "3. Accessing values in a dictionary\n",
    "4. Adding new key-value pairs\n",
    "5. Starting with an empty dictionary\n",
    "6. Modifying values in a dictionary\n",
    "7. Removing elements from a dictionary\n",
    "8. Looping through a dictionary\n",
    "9. A list of dictionaries\n",
    "10. A list in a dictionary\n",
    "11. A dictionary in a dictionary\n",
    "\n",
    "\n",
    "\n",
    "### Excercise submitted until:"
   ]
  },
  {
   "cell_type": "markdown",
   "metadata": {},
   "source": [
    "---\n",
    "---\n",
    "## Introduction to dictionaries\n",
    "Up to now, we worked with data types that can contain a single value (e.g. integers, floats) or sequential data containers (strings, lists, tuples, ranges) that contain a sequence of data which can be accessed via an index.\n",
    "\n",
    "Examples:"
   ]
  },
  {
   "cell_type": "code",
   "execution_count": 1,
   "metadata": {
    "tags": []
   },
   "outputs": [
    {
     "name": "stdout",
     "output_type": "stream",
     "text": [
      "This\n"
     ]
    }
   ],
   "source": [
    "example_string = 'This is an example'\n",
    "print(example_string[0:4])"
   ]
  },
  {
   "cell_type": "code",
   "execution_count": 2,
   "metadata": {
    "tags": []
   },
   "outputs": [
    {
     "name": "stdout",
     "output_type": "stream",
     "text": [
      "10\n"
     ]
    }
   ],
   "source": [
    "example_list = [2,4,6,8,10,12]\n",
    "print(example_list[4])"
   ]
  },
  {
   "cell_type": "markdown",
   "metadata": {},
   "source": [
    "When working with tabular data sets, we would have to use multiple lists, in order to store the data. A Python build-in solution to this problem is the (mapping) data type dictionary. A dictionary is a collection of key-value pairs, in which each key is connected to a specific value."
   ]
  },
  {
   "cell_type": "code",
   "execution_count": null,
   "metadata": {},
   "outputs": [
    {
     "name": "stdout",
     "output_type": "stream",
     "text": [
      "Karlsruhe\n",
      "76185\n"
     ]
    }
   ],
   "source": [
    "address = {'country': 'Germany', 'city':'Karlsruhe', 'postalcode':'76185'}\n",
    "print(address['city'])\n",
    "print(address['postalcode']) "
   ]
  },
  {
   "cell_type": "markdown",
   "metadata": {},
   "source": [
    "A dictionary can contain an unlimited number of key-value pairs! The values can be accessed via the key names. But be careful! What happens in the next example?"
   ]
  },
  {
   "cell_type": "code",
   "execution_count": 8,
   "metadata": {
    "tags": []
   },
   "outputs": [
    {
     "ename": "KeyError",
     "evalue": "'street'",
     "output_type": "error",
     "traceback": [
      "\u001b[1;31m---------------------------------------------------------------------------\u001b[0m",
      "\u001b[1;31mKeyError\u001b[0m                                  Traceback (most recent call last)",
      "Cell \u001b[1;32mIn[8], line 2\u001b[0m\n\u001b[0;32m      1\u001b[0m address \u001b[38;5;241m=\u001b[39m {\u001b[38;5;124m'\u001b[39m\u001b[38;5;124mcountry\u001b[39m\u001b[38;5;124m'\u001b[39m: \u001b[38;5;124m'\u001b[39m\u001b[38;5;124mGermany\u001b[39m\u001b[38;5;124m'\u001b[39m, \u001b[38;5;124m'\u001b[39m\u001b[38;5;124mcity\u001b[39m\u001b[38;5;124m'\u001b[39m:\u001b[38;5;124m'\u001b[39m\u001b[38;5;124mKarlsruhe\u001b[39m\u001b[38;5;124m'\u001b[39m, \u001b[38;5;124m'\u001b[39m\u001b[38;5;124mpostalcode\u001b[39m\u001b[38;5;124m'\u001b[39m:\u001b[38;5;124m'\u001b[39m\u001b[38;5;124m76185\u001b[39m\u001b[38;5;124m'\u001b[39m}\n\u001b[1;32m----> 2\u001b[0m \u001b[38;5;28mprint\u001b[39m(\u001b[43maddress\u001b[49m\u001b[43m[\u001b[49m\u001b[38;5;124;43m'\u001b[39;49m\u001b[38;5;124;43mstreet\u001b[39;49m\u001b[38;5;124;43m'\u001b[39;49m\u001b[43m]\u001b[49m)\n",
      "\u001b[1;31mKeyError\u001b[0m: 'street'"
     ]
    }
   ],
   "source": [
    "address = {'country': 'Germany', 'city':'Karlsruhe', 'postalcode':'76185'}\n",
    "print(address['street'])"
   ]
  },
  {
   "cell_type": "markdown",
   "metadata": {},
   "source": [
    "### Securely accessing the entries of an (maybe unknown) dictionary: "
   ]
  },
  {
   "cell_type": "code",
   "execution_count": 4,
   "metadata": {
    "tags": []
   },
   "outputs": [
    {
     "name": "stdout",
     "output_type": "stream",
     "text": [
      "unknown entry\n"
     ]
    }
   ],
   "source": [
    "address = {'country': 'Germany', 'city':'Karlsruhe', 'postalcode':'76185'}\n",
    "print(address.get('street', 'unknown entry'))"
   ]
  },
  {
   "cell_type": "markdown",
   "metadata": {},
   "source": [
    "What happens in the next case?"
   ]
  },
  {
   "cell_type": "code",
   "execution_count": 7,
   "metadata": {
    "tags": []
   },
   "outputs": [
    {
     "name": "stdout",
     "output_type": "stream",
     "text": [
      "None\n",
      "Germany\n"
     ]
    }
   ],
   "source": [
    "address = {'country': 'Germany', 'city':'Karlsruhe', 'postalcode':'76185'}\n",
    "print(address.get('street'))\n",
    "print(address.get('country'))"
   ]
  },
  {
   "cell_type": "markdown",
   "metadata": {},
   "source": [
    "Please note: This is not an error! None is a Python keyword that is used to define a non existing value or the absense of a value. None is data type of its own (NoneType) and not the same as 0, False or an empty string!"
   ]
  },
  {
   "cell_type": "markdown",
   "metadata": {},
   "source": [
    "### Adding new key-value pairs to an existing dictionary:"
   ]
  },
  {
   "cell_type": "code",
   "execution_count": null,
   "metadata": {},
   "outputs": [
    {
     "name": "stdout",
     "output_type": "stream",
     "text": [
      "{'country': 'Germany', 'city': 'Karlsruhe', 'postalcode': '76185', 'street': 'Engesserstrasse', 'building_number': 20.4}\n"
     ]
    }
   ],
   "source": [
    "address = {'country': 'Germany', 'city':'Karlsruhe', 'postalcode':'76185'}\n",
    "address['street']='Engesserstrasse'\n",
    "address['building_number'] = 20.40\n",
    "print(address)"
   ]
  },
  {
   "cell_type": "markdown",
   "metadata": {},
   "source": [
    "Some important remarks:\n",
    "1) You can also start with an empty directory and add key-value pairs as shown in the example above\n",
    "2) In older Python versions (<3.7), the order of the key-value pairs was not necessarily retained. As of Python 3.7 the order of the key-value pairs is retained in the exact same order as they were defined."
   ]
  },
  {
   "cell_type": "code",
   "execution_count": 9,
   "metadata": {
    "tags": []
   },
   "outputs": [
    {
     "name": "stdout",
     "output_type": "stream",
     "text": [
      "{}\n"
     ]
    }
   ],
   "source": [
    "address = {}\n",
    "print(address)"
   ]
  },
  {
   "cell_type": "code",
   "execution_count": 10,
   "metadata": {
    "tags": []
   },
   "outputs": [
    {
     "name": "stdout",
     "output_type": "stream",
     "text": [
      "{'country': 'Nepal', 'city': 'Pokhara'}\n"
     ]
    }
   ],
   "source": [
    "address['country'] = 'Nepal'\n",
    "address['city'] = 'Pokhara'\n",
    "print(address)"
   ]
  },
  {
   "cell_type": "markdown",
   "metadata": {},
   "source": [
    "### Modifying values:"
   ]
  },
  {
   "cell_type": "code",
   "execution_count": 11,
   "metadata": {
    "tags": []
   },
   "outputs": [
    {
     "name": "stdout",
     "output_type": "stream",
     "text": [
      "{'country': 'Germany', 'city': 'Karlsruhe', 'postalcode': '76131'}\n"
     ]
    }
   ],
   "source": [
    "address = {'country': 'Germany', 'city':'Karlsruhe', 'postalcode':'76185'}\n",
    "address['postalcode']='76131'\n",
    "print(address)"
   ]
  },
  {
   "cell_type": "markdown",
   "metadata": {},
   "source": [
    "### Removing elements from a dictionary:"
   ]
  },
  {
   "cell_type": "code",
   "execution_count": 12,
   "metadata": {
    "tags": []
   },
   "outputs": [
    {
     "name": "stdout",
     "output_type": "stream",
     "text": [
      "{'country': 'Germany', 'city': 'Karlsruhe', 'postalcode': '76185'}\n",
      "{'country': 'Germany', 'city': 'Karlsruhe'}\n",
      "{}\n"
     ]
    }
   ],
   "source": [
    "address = {'country': 'Germany', 'city':'Karlsruhe', 'postalcode':'76185'}\n",
    "print(address)\n",
    "\n",
    "# remove postal code\n",
    "del address['postalcode']\n",
    "print(address)\n",
    "\n",
    "# clear the entire dictionary\n",
    "address.clear()\n",
    "print(address)"
   ]
  },
  {
   "cell_type": "markdown",
   "metadata": {},
   "source": [
    "### Formatting dictionaries:\n",
    "Larger dictionaries can not be definied in one line of code. In this case, dictionaries are split into several line of code like this:"
   ]
  },
  {
   "cell_type": "code",
   "execution_count": 3,
   "metadata": {
    "tags": []
   },
   "outputs": [],
   "source": [
    "capital_cities ={\n",
    "    'Germany': 'Berlin',\n",
    "    'France': 'Paris',\n",
    "    'Sweden': 'Stockholm',\n",
    "    }"
   ]
  },
  {
   "cell_type": "markdown",
   "metadata": {},
   "source": [
    "\n",
    "## Your turn!\n",
    "\n",
    "Create your own Python dictionary using the dictionary data type! Think of minimum 6 Python related words or expressions and store them along with their meaning in a dictionary. Print each word or expression and its meaning to the user."
   ]
  },
  {
   "cell_type": "code",
   "execution_count": 21,
   "metadata": {
    "tags": []
   },
   "outputs": [
    {
     "name": "stdout",
     "output_type": "stream",
     "text": [
      "{'boolean': True, 'list': [1, 2, 3, 4], 'set': {1, 2, 3, 4}, 'tuples': (1, 2, 3, 4), 'string': 'Sudur', 'array': [[1, 2, 3], [2, 3, 4]]}\n"
     ]
    }
   ],
   "source": [
    "python_dictionary={\n",
    "    'boolean': True,\n",
    "    'list': [1,2,3,4],\n",
    "    'set': {1,2,3,4},\n",
    "    'tuples': (1,2,3,4),\n",
    "    'string': \"Sudur\",\n",
    "    'array': [[1,2,3],[2,3,4]],\n",
    "}\n",
    "\n",
    "print(python_dictionary)\n",
    "               "
   ]
  },
  {
   "cell_type": "markdown",
   "metadata": {},
   "source": [
    "### Looping through a dictionary:"
   ]
  },
  {
   "cell_type": "code",
   "execution_count": 22,
   "metadata": {
    "tags": []
   },
   "outputs": [
    {
     "name": "stdout",
     "output_type": "stream",
     "text": [
      "Key:  country\n",
      "Value Germany\n",
      "Key:  city\n",
      "Value Karlsruhe\n",
      "Key:  postalcode\n",
      "Value 76185\n"
     ]
    }
   ],
   "source": [
    "address = {'country': 'Germany', 'city':'Karlsruhe', 'postalcode':'76185'}\n",
    "for key, value in address.items():\n",
    "    print(\"Key: \", key)\n",
    "    print(\"Value\", value)"
   ]
  },
  {
   "cell_type": "markdown",
   "metadata": {},
   "source": [
    "### Looping through a dictionary's keys:"
   ]
  },
  {
   "cell_type": "code",
   "execution_count": 23,
   "metadata": {
    "tags": []
   },
   "outputs": [
    {
     "name": "stdout",
     "output_type": "stream",
     "text": [
      "Country\n",
      "City\n",
      "Postalcode\n"
     ]
    }
   ],
   "source": [
    "address = {'country': 'Germany', 'city':'Karlsruhe', 'postalcode':'76185'}\n",
    "for key_name in address.keys():\n",
    "    print(key_name.title())"
   ]
  },
  {
   "cell_type": "markdown",
   "metadata": {},
   "source": [
    "### Looping through a dictionray in a particular oder:"
   ]
  },
  {
   "cell_type": "code",
   "execution_count": 24,
   "metadata": {
    "tags": []
   },
   "outputs": [
    {
     "name": "stdout",
     "output_type": "stream",
     "text": [
      "City\n",
      "Country\n",
      "Postalcode\n"
     ]
    }
   ],
   "source": [
    "address = {'country': 'Germany', 'city':'Karlsruhe', 'postalcode':'76185'}\n",
    "for key_name in sorted(address.keys()):\n",
    "    print(key_name.title())"
   ]
  },
  {
   "cell_type": "markdown",
   "metadata": {},
   "source": [
    "### Looping through a dictionary's values:"
   ]
  },
  {
   "cell_type": "code",
   "execution_count": 19,
   "metadata": {},
   "outputs": [
    {
     "name": "stdout",
     "output_type": "stream",
     "text": [
      "Germany\n",
      "Karlsruhe\n",
      "76185\n"
     ]
    }
   ],
   "source": [
    "address = {'country': 'Germany', 'city':'Karlsruhe', 'postalcode':'76185'}\n",
    "for entry in address.values():\n",
    "    print(entry.title())"
   ]
  },
  {
   "cell_type": "code",
   "execution_count": 25,
   "metadata": {
    "tags": []
   },
   "outputs": [
    {
     "name": "stdout",
     "output_type": "stream",
     "text": [
      "Germany\n",
      "Karlsruhe\n",
      "76185\n"
     ]
    }
   ],
   "source": [
    "address = {'country': 'Germany', 'city':'Karlsruhe', 'postalcode':'76185'}\n",
    "for entry in address.values():\n",
    "    print(entry) "
   ]
  },
  {
   "cell_type": "markdown",
   "metadata": {},
   "source": [
    "---\n",
    "\n",
    "## Your turn!\n",
    "\n",
    "1) Add new words or expressions to your Python dictionary and print them using a loop.\n",
    "2) Extend the capitals dictionary above and use a loop to print each country and its capital. Please print the output in a sentence (something like: \"The capital of a is b \" or vice versa)."
   ]
  },
  {
   "cell_type": "markdown",
   "metadata": {
    "tags": []
   },
   "source": [
    "### 1. Add new words or expressions to your Python dictionary and print them using a loop"
   ]
  },
  {
   "cell_type": "code",
   "execution_count": 6,
   "metadata": {
    "tags": []
   },
   "outputs": [
    {
     "name": "stdout",
     "output_type": "stream",
     "text": [
      "{'country': 'Nepal', 'province': 'Lumbini', 'district': 'Palpa', 'municipality': 'Rampur', 'ward_no': 6}\n"
     ]
    }
   ],
   "source": [
    "address = {}\n",
    "address['country'] = 'Nepal'\n",
    "address['province'] = 'Lumbini'\n",
    "address['district'] = 'Palpa'\n",
    "address['municipality'] = 'Rampur'\n",
    "address['ward_no'] = 6\n",
    "\n",
    "print(address)"
   ]
  },
  {
   "cell_type": "code",
   "execution_count": 12,
   "metadata": {
    "tags": []
   },
   "outputs": [
    {
     "name": "stdout",
     "output_type": "stream",
     "text": [
      "key:  country\n",
      "Value:  Nepal\n",
      "key:  province\n",
      "Value:  Lumbini\n",
      "key:  district\n",
      "Value:  Palpa\n",
      "key:  municipality\n",
      "Value:  Rampur\n",
      "key:  ward_no\n",
      "Value:  6\n"
     ]
    }
   ],
   "source": [
    "for key, value in address.items():\n",
    "    print(\"key: \",key)\n",
    "    print(\"Value: \",value)"
   ]
  },
  {
   "cell_type": "code",
   "execution_count": 13,
   "metadata": {
    "tags": []
   },
   "outputs": [
    {
     "name": "stdout",
     "output_type": "stream",
     "text": [
      "country\n",
      "province\n",
      "district\n",
      "municipality\n",
      "ward_no\n"
     ]
    }
   ],
   "source": [
    "for key_items in address.keys():\n",
    "    print(key_items)"
   ]
  },
  {
   "cell_type": "code",
   "execution_count": 14,
   "metadata": {
    "tags": []
   },
   "outputs": [
    {
     "name": "stdout",
     "output_type": "stream",
     "text": [
      "Nepal\n",
      "Lumbini\n",
      "Palpa\n",
      "Rampur\n",
      "6\n"
     ]
    }
   ],
   "source": [
    "for value_items in address.values():\n",
    "    print(value_items)"
   ]
  },
  {
   "cell_type": "markdown",
   "metadata": {},
   "source": [
    "### 2. Extend the capitals dictionary above and use a loop to print each country and its capital. Please print the output in a sentence (something like: \"The capital of a is b \" or vice versa)."
   ]
  },
  {
   "cell_type": "code",
   "execution_count": 1,
   "metadata": {
    "tags": []
   },
   "outputs": [],
   "source": [
    "capital_cities ={\n",
    "    'Germany': 'Berlin',\n",
    "    'France': 'Paris',\n",
    "    'Sweden': 'Stockholm',\n",
    "    }"
   ]
  },
  {
   "cell_type": "code",
   "execution_count": 2,
   "metadata": {
    "tags": []
   },
   "outputs": [
    {
     "data": {
      "text/plain": [
       "{'Germany': 'Berlin',\n",
       " 'France': 'Paris',\n",
       " 'Sweden': 'Stockholm',\n",
       " 'Nepal': 'Kathmandu',\n",
       " 'China': 'Beijing',\n",
       " 'India': 'New Delhi'}"
      ]
     },
     "execution_count": 2,
     "metadata": {},
     "output_type": "execute_result"
    }
   ],
   "source": [
    "capital_cities['Nepal'] = 'Kathmandu'\n",
    "capital_cities['China'] = 'Beijing'\n",
    "capital_cities['India'] = 'New Delhi'\n",
    "capital_cities"
   ]
  },
  {
   "cell_type": "code",
   "execution_count": 7,
   "metadata": {},
   "outputs": [
    {
     "name": "stdout",
     "output_type": "stream",
     "text": [
      "The capital of Germany is Berlin.\n",
      "The capital of France is Paris.\n",
      "The capital of Sweden is Stockholm.\n",
      "The capital of Nepal is Kathmandu.\n",
      "The capital of China is Beijing.\n",
      "The capital of India is New Delhi.\n"
     ]
    }
   ],
   "source": [
    "for country, capital in capital_cities.items():\n",
    "    print(f\"The capital of {country} is {capital}.\")"
   ]
  },
  {
   "cell_type": "markdown",
   "metadata": {
    "tags": []
   },
   "source": [
    "\n",
    "---\n",
    "\n",
    "### A list of dictionaries:\n"
   ]
  },
  {
   "cell_type": "code",
   "execution_count": 14,
   "metadata": {},
   "outputs": [
    {
     "name": "stdout",
     "output_type": "stream",
     "text": [
      "{'country': 'Germany', 'city': 'Karlsruhe', 'postalcode': '76131', 'street': 'Kaiserstrasse', 'campus': 'Campus South'}\n",
      "The campus is in town!\n",
      "{'country': 'Germany', 'city': 'Eggenstein-Leopoldshafen', 'postalcode': '76131', 'street': 'Hermann-von-Helmholtz-Platz', 'campus': 'Campus North'}\n",
      "The campus is not in town!\n",
      "{'country': 'Germany', 'city': 'Karlsruhe', 'postalcode': '76187', 'street': 'Hertzstrasse', 'campus': 'Campus West'}\n",
      "The campus is in town!\n"
     ]
    }
   ],
   "source": [
    "address_1 = {'country': 'Germany', 'city':'Karlsruhe', 'postalcode':'76131', 'street':'Kaiserstrasse', 'campus': 'Campus South'}\n",
    "address_2 = {'country': 'Germany', 'city':'Eggenstein-Leopoldshafen', 'postalcode':'76131', 'street':'Hermann-von-Helmholtz-Platz', 'campus': 'Campus North'}\n",
    "address_3 = {'country': 'Germany', 'city':'Karlsruhe', 'postalcode':'76187', 'street':'Hertzstrasse', 'campus': 'Campus West'}\n",
    "address_list = [address_1, address_2, address_3]\n",
    "\n",
    "for address in address_list:\n",
    "    print(address)\n",
    "    if address['city'] == 'Karlsruhe':\n",
    "        print(\"The campus is in town!\")\n",
    "    else:\n",
    "        print(\"The campus is not in town!\")"
   ]
  },
  {
   "cell_type": "markdown",
   "metadata": {},
   "source": [
    "---\n",
    "\n",
    "### A list in a dictionary:\n"
   ]
  },
  {
   "cell_type": "code",
   "execution_count": 24,
   "metadata": {},
   "outputs": [
    {
     "name": "stdout",
     "output_type": "stream",
     "text": [
      "Annika  speaks: \n",
      "German\n",
      "English\n",
      "Yichen  speaks: \n",
      "Chinese\n",
      "English\n",
      "Alexandre  speaks: \n",
      "French\n",
      "English\n"
     ]
    }
   ],
   "source": [
    "# Ask your teammates which languages they speak. Print the to the user:\n",
    "team_languages={\n",
    "    'Annika': ['German', 'English'],\n",
    "    'Yichen': ['Chinese', 'English'],\n",
    "    'Alexandre':['French', 'English'],\n",
    "}\n",
    "\n",
    "for name, languages in team_languages.items():\n",
    "    print(name.title(), \" speaks: \")\n",
    "    for language in languages:\n",
    "        print(language.title())"
   ]
  },
  {
   "cell_type": "markdown",
   "metadata": {},
   "source": [
    "---\n",
    "\n",
    "### A dictionary in a dictionary:"
   ]
  },
  {
   "cell_type": "code",
   "execution_count": 11,
   "metadata": {},
   "outputs": [
    {
     "name": "stdout",
     "output_type": "stream",
     "text": [
      "Campus:  {'Campus South'}\n",
      "Address:  Kaiserstrasse 76131 Karlsruhe\n",
      "Campus:  {'Campus North'}\n",
      "Address:  Hermann-von-Helmholtz-Platz 76131 Eggenstein-Leopoldshafen\n",
      "Campus:  {'Campus West'}\n",
      "Address:  Hertzstrasse 76187 Karlsruhe\n"
     ]
    }
   ],
   "source": [
    "kit_locations ={\n",
    "    'Campus South':{\n",
    "        'country': 'Germany', \n",
    "        'city':'Karlsruhe', \n",
    "        'postalcode':'76131', \n",
    "        'street':'Kaiserstrasse',\n",
    "    },\n",
    "    'Campus North':{\n",
    "        'country': 'Germany', \n",
    "        'city':'Eggenstein-Leopoldshafen', \n",
    "        'postalcode':'76131', \n",
    "        'street':'Hermann-von-Helmholtz-Platz',\n",
    "    },\n",
    "    'Campus West':{\n",
    "        'country': 'Germany', \n",
    "        'city':'Karlsruhe', \n",
    "        'postalcode':'76187', \n",
    "        'street':'Hertzstrasse',\n",
    "    },\n",
    "}\n",
    "\n",
    "for campus, campus_info in kit_locations.items():\n",
    "    print(\"Campus: \", {campus})\n",
    "    print(\"Address: \" ,campus_info['street'], campus_info['postalcode'], campus_info['city'])\n",
    "    "
   ]
  },
  {
   "cell_type": "markdown",
   "metadata": {},
   "source": [
    "---\n",
    "\n",
    "## Your turn!\n",
    "\n",
    "1. Let's order pizza:\n",
    "Create a dictionary with your friends or teammates names as keys and assign each of them a list of their favourite pizza toppings. Print your order (including the total amount of pizzas) to the user. It should look something like this:\n",
    "We would like to order x pizzas. \n",
    "Pizza 1 should be x,x,x\n",
    "...\n",
    "\n",
    "2. Travel advice\n",
    "Create a dictionary with your 5 favourite cities or places as keys. Each key should be assignet a dictionry with further description like (country, population, language, ...). Print the information to the user."
   ]
  },
  {
   "cell_type": "markdown",
   "metadata": {},
   "source": [
    "Q.No.1: Create a dictionary with your friends or teammates names as keys and assign each of them a list of their favourite pizza toppings. Print your order (including the total amount of pizzas) to the user. It should look something like this: We would like to order x pizzas. Pizza 1 should be x,x,x ..."
   ]
  },
  {
   "cell_type": "code",
   "execution_count": 5,
   "metadata": {
    "tags": []
   },
   "outputs": [
    {
     "name": "stdout",
     "output_type": "stream",
     "text": [
      "We would like to order 12 pizzas.\n",
      "Pizza 1 for Alice: Pepperoni, Mushrooms, Onions\n",
      "Pizza 2 for Bob: Sausage, Green Peppers, Olives\n",
      "Pizza 3 for Charlie: Ham, Pineapple, Bacon\n",
      "Pizza 4 for David: Chicken, Spinach, Tomatoes\n"
     ]
    }
   ],
   "source": [
    "# Dictionary with friends' names as keys and their favorite pizza toppings as values\n",
    "pizza_order = {\n",
    "    'Alice': ['Pepperoni', 'Mushrooms', 'Onions'],\n",
    "    'Bob': ['Sausage', 'Green Peppers', 'Olives'],\n",
    "    'Charlie': ['Ham', 'Pineapple', 'Bacon'],\n",
    "    'David': ['Chicken', 'Spinach', 'Tomatoes']\n",
    "}\n",
    "\n",
    "# Calculate the total number of pizzas\n",
    "total_pizzas = sum(len(toppings) for toppings in pizza_order.values())\n",
    "\n",
    "# Print the order\n",
    "print(f\"We would like to order {total_pizzas} pizzas.\")\n",
    "\n",
    "# Print individual pizza details\n",
    "for i, (name, toppings) in enumerate(pizza_order.items(), start=1):\n",
    "    print(f\"Pizza {i} for {name}: {', '.join(toppings)}\")"
   ]
  },
  {
   "cell_type": "markdown",
   "metadata": {},
   "source": [
    "Q.No. 2: Travel advice Create a dictionary with your 5 favourite cities or places as keys. Each key should be assignet a dictionry with further description like (country, population, language, ...). Print the information to the user."
   ]
  },
  {
   "cell_type": "code",
   "execution_count": 12,
   "metadata": {
    "tags": []
   },
   "outputs": [
    {
     "name": "stdout",
     "output_type": "stream",
     "text": [
      "\n",
      "Tokyo:\n",
      "Country: Japan\n",
      "Population: 37393000\n",
      "Language: Japanese\n",
      "Notable Features: Tokyo Tower, Shibuya Crossing, Asakusa Shrine\n",
      "\n",
      "Barcelona:\n",
      "Country: Spain\n",
      "Population: 1620343\n",
      "Language: Spanish\n",
      "Notable Features: Sagrada Familia, Park Güell, La Rambla\n",
      "\n",
      "Vancouver:\n",
      "Country: Canada\n",
      "Population: 631000\n",
      "Language: English\n",
      "Notable Features: Stanley Park, Capilano Suspension Bridge, Granville Island\n",
      "\n",
      "Reykjavik:\n",
      "Country: Iceland\n",
      "Population: 131136\n",
      "Language: Icelandic\n",
      "Notable Features: Hallgrímskirkja, Blue Lagoon, Golden Circle\n",
      "\n",
      "New York:\n",
      "Country: United States\n",
      "Population: 8398748\n",
      "Language: English\n",
      "Notable Features: Times Square, Central Park, Statue of Liberty\n"
     ]
    }
   ],
   "source": [
    "favourite_cities = {\n",
    "    'Tokyo': {\n",
    "        'country': 'Japan',\n",
    "        'population': 37393000,\n",
    "        'language': 'Japanese',\n",
    "        'notable_features': ['Tokyo Tower', 'Shibuya Crossing', 'Asakusa Shrine']\n",
    "    },\n",
    "    'Barcelona': {\n",
    "        'country': 'Spain',\n",
    "        'population': 1620343,\n",
    "        'language': 'Spanish',\n",
    "        'notable_features': ['Sagrada Familia', 'Park Güell', 'La Rambla']\n",
    "    },\n",
    "    'Vancouver': {\n",
    "        'country': 'Canada',\n",
    "        'population': 631000,\n",
    "        'language': 'English',\n",
    "        'notable_features': ['Stanley Park', 'Capilano Suspension Bridge', 'Granville Island']\n",
    "    },\n",
    "    'Reykjavik': {\n",
    "        'country': 'Iceland',\n",
    "        'population': 131136,\n",
    "        'language': 'Icelandic',\n",
    "        'notable_features': ['Hallgrímskirkja', 'Blue Lagoon', 'Golden Circle']\n",
    "    },\n",
    "    'New York': {\n",
    "        'country': 'United States',\n",
    "        'population': 8398748,\n",
    "        'language': 'English',\n",
    "        'notable_features': ['Times Square', 'Central Park', 'Statue of Liberty']\n",
    "    }    \n",
    "}\n",
    "\n",
    "# Print information for each city\n",
    "for city, details in favourite_cities.items():\n",
    "    print(f\"\\n{city}:\")\n",
    "    print(f\"Country: {details['country']}\")\n",
    "    print(f\"Population: {details['population']}\")\n",
    "    print(f\"Language: {details['language']}\")\n",
    "    print(f\"Notable Features: {', '.join(details['notable_features'])}\")\n",
    "    "
   ]
  }
 ],
 "metadata": {
  "kernelspec": {
   "display_name": "Python 3 (ipykernel)",
   "language": "python",
   "name": "python3"
  },
  "language_info": {
   "codemirror_mode": {
    "name": "ipython",
    "version": 3
   },
   "file_extension": ".py",
   "mimetype": "text/x-python",
   "name": "python",
   "nbconvert_exporter": "python",
   "pygments_lexer": "ipython3",
   "version": "3.11.5"
  }
 },
 "nbformat": 4,
 "nbformat_minor": 4
}
