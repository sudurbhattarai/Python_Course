{
 "cells": [
  {
   "cell_type": "markdown",
   "id": "14f878fb",
   "metadata": {},
   "source": [
    "#  Introduction to Python\n",
    "## Excercise 4: Functions\n",
    "\n",
    "Jutta Vüllers, contact: jutta.vuellers@kit.edu, Julia Fuchs, contact: julia.fuchs@kit.edu, Annika Bork-Unkelbach, contact: annika.bork-unkelbach@kit.edu\n",
    "\n",
    "\n",
    "### Learning objectives: \n",
    "1. Writing a first function\n",
    "\n",
    "2. The power of arguments\n",
    "        \n",
    "3. Do I always have to return things?\n",
    "        \n",
    "4. Organizing your project: The main() function\n",
    "\n",
    "5. PEP 8 – Style Guide for Python Code\n",
    "\n",
    "\n",
    "### Exercise 4: submitted by 27.11.22 23:55\n",
    "   \n",
    "***"
   ]
  },
  {
   "cell_type": "markdown",
   "id": "86edae33",
   "metadata": {},
   "source": [
    "## 1. Writing a first function\n",
    "In programming, a function is a self-contained block of code that encapsulates a specific task or related group of tasks.\n"
   ]
  },
  {
   "cell_type": "markdown",
   "id": "922e6877",
   "metadata": {},
   "source": [
    "### (a) Examples of built-in functions provided by Python\n",
    "The function `len()` returns the length of the argument passed to it. Here is an example:"
   ]
  },
  {
   "cell_type": "code",
   "execution_count": 1,
   "id": "58947b24",
   "metadata": {
    "tags": []
   },
   "outputs": [
    {
     "data": {
      "text/plain": [
       "5"
      ]
     },
     "execution_count": 1,
     "metadata": {},
     "output_type": "execute_result"
    }
   ],
   "source": [
    "a = [2, 6,'bar', 'baz', 'qux']\n",
    "len(a)"
   ]
  },
  {
   "cell_type": "markdown",
   "id": "8f676329",
   "metadata": {},
   "source": [
    "The function `any()` takes an iterable as its argument and returns True if any of the items in the iterable are truthy and False otherwise. Here is an example:"
   ]
  },
  {
   "cell_type": "code",
   "execution_count": 4,
   "id": "16304523",
   "metadata": {
    "tags": []
   },
   "outputs": [
    {
     "data": {
      "text/plain": [
       "False"
      ]
     },
     "execution_count": 4,
     "metadata": {},
     "output_type": "execute_result"
    }
   ],
   "source": [
    "any([False, False, False])"
   ]
  },
  {
   "cell_type": "code",
   "execution_count": 5,
   "id": "0a02a1b4",
   "metadata": {},
   "outputs": [
    {
     "data": {
      "text/plain": [
       "True"
      ]
     },
     "execution_count": 5,
     "metadata": {},
     "output_type": "execute_result"
    }
   ],
   "source": [
    "any([False, True, False])"
   ]
  },
  {
   "cell_type": "markdown",
   "id": "c650bd65",
   "metadata": {},
   "source": [
    "### (b) Steps to do when using a built-in function provided by Python\n",
    "Each of these built-in functions performs a specific task. The code that accomplishes the task is defined somewhere, but you don’t need to know where or even how the code works. All you need to know about is the function’s interface:\n",
    "\n",
    "   1. What arguments (if any) it takes\n",
    "   2. What values (if any) it returns"
   ]
  },
  {
   "cell_type": "markdown",
   "id": "a43e150b",
   "metadata": {},
   "source": [
    "Type `any` and then SHIFT + TAB. This will show the function definiton including arguments and return values."
   ]
  },
  {
   "cell_type": "code",
   "execution_count": null,
   "id": "55e4fca8",
   "metadata": {},
   "outputs": [],
   "source": [
    "any"
   ]
  },
  {
   "cell_type": "markdown",
   "id": "03d37cc4",
   "metadata": {},
   "source": [
    "Type `len` and then SHIFT + TAB. This will show the function definiton including arguments and return values."
   ]
  },
  {
   "cell_type": "code",
   "execution_count": null,
   "id": "6862799b",
   "metadata": {},
   "outputs": [],
   "source": [
    "len"
   ]
  },
  {
   "cell_type": "markdown",
   "id": "f9323e80",
   "metadata": {},
   "source": [
    "### (c) Why you should write a function. Because ...\n",
    "1. you don't have to repeat yourself. **Abstraction of functionality**. This saves time!\n",
    "2. it helps writing a structured and clean code! **Modularity**. This saves time!\n",
    "3. a function is using its own **name space**. You can always use the best variable name and don’t have to worry about some other function in the program also trying to use that same name. And it saves time!\n",
    "    \n",
    "Suppose you write some code that does something useful. As you continue development, you find that the task performed by that code is one you need often, in many different locations within your application or project. And suppose after a while you improve this code snippet. You would have to go in all thise locations to adjust it. \n",
    "\n",
    "A better option: Define a Python function that can be called as often as you wish and anywhere in your application that you need it. If changes need to be done in the code you only have to do it once in the location where the functin is defined. Changes will automatically be picked up anywhere the function is called.\n",
    "\n",
    "Also notable: Code inside a function or a class definitions can be stored for later use and doesn’t actually execute them until you tell it to.\n"
   ]
  },
  {
   "cell_type": "markdown",
   "id": "6d9f8192",
   "metadata": {},
   "source": [
    "### (d) Now: Defining a first Python function"
   ]
  },
  {
   "cell_type": "code",
   "execution_count": 5,
   "id": "719bb4dc",
   "metadata": {},
   "outputs": [],
   "source": [
    "def function_name(parameters):\n",
    "    print(parameters)\n",
    "    print('any statement(s)')\n",
    "\n",
    "#Attention: Always add 4 spaces (one level of indentation) when you are defining a function. Usually, this is automatically done by typing ENTER after the colon."
   ]
  },
  {
   "cell_type": "markdown",
   "id": "9e4c252a",
   "metadata": {},
   "source": [
    "- `def` is the keyword that informs Python that a function is being defined \n",
    "- `function_name` is a valid Python identifier that names the function \n",
    "- `parameters` is an optional, comma-separated list of parameters that may be passed to the function\n",
    "- `:` denotes the end of the Python function header (the name and parameter list). Putting a colon at the end is always required!\n",
    "- `statement(s)` is representing a block of valid Python statements. It is also called the body of the function. The body is a block of statements that will be executed when the function is called. The body of a Python function is defined by indentation!\n"
   ]
  },
  {
   "cell_type": "markdown",
   "id": "ee698714",
   "metadata": {},
   "source": [
    "### (e) Calling a Python function"
   ]
  },
  {
   "cell_type": "code",
   "execution_count": 8,
   "id": "7ff51fc2",
   "metadata": {},
   "outputs": [
    {
     "name": "stdout",
     "output_type": "stream",
     "text": [
      "5\n",
      "any statement(s)\n"
     ]
    }
   ],
   "source": [
    "arguments = 5\n",
    "function_name(arguments)  # Here we call the Python function defined above that prints the given arguments (here the value 5) and the string 'statements(s)'\n"
   ]
  },
  {
   "cell_type": "markdown",
   "id": "4fd89df3",
   "metadata": {},
   "source": [
    "- `arguments` are the values passed into the function. Here, the argument with the value 5 is passed in to the function `function_name`. Arguments correspond to the `parameters` in the Python function definition. You can define a function that doesn’t take any arguments, but the parentheses are still required. Both a function definition and a function call must always include parentheses, even if they’re empty!"
   ]
  },
  {
   "cell_type": "markdown",
   "id": "a12b0e46",
   "metadata": {},
   "source": [
    "### __Calling a function within a main program code__\n",
    "1. Call a function in your main code and pass optional arguments\n",
    "2. Program code is executed at the location where the function is definded\n",
    "3. When the execution of the function is finished execution returns to your main code where it left off\n",
    "4. Function returns data that can be used in your code"
   ]
  },
  {
   "cell_type": "code",
   "execution_count": 11,
   "id": "9cc9b81f",
   "metadata": {},
   "outputs": [
    {
     "name": "stdout",
     "output_type": "stream",
     "text": [
      "Main code is executed\n",
      "Before calling f()\n",
      "-- Inside my function f()\n",
      "After calling f() and back to the main code\n"
     ]
    }
   ],
   "source": [
    "def f():                # Python function without parameters\n",
    "    s = '-- Inside my function f()' # Python statement\n",
    "    print(s)            # Python statement\n",
    "\n",
    "print('Main code is executed')\n",
    "print('Before calling f()')\n",
    "\n",
    "f() # Calling the Python function f\n",
    "\n",
    "print('After calling f() and back to the main code')"
   ]
  },
  {
   "cell_type": "markdown",
   "id": "258375ff",
   "metadata": {},
   "source": [
    "### __An empty function__ \n",
    "A stub function does nothing and is a temporary placeholder for a Python function that will be fully implemented at a later time"
   ]
  },
  {
   "cell_type": "code",
   "execution_count": 3,
   "id": "96494639",
   "metadata": {},
   "outputs": [],
   "source": [
    "def f_nothing(): \n",
    "    pass\n",
    "\n",
    "f_nothing() "
   ]
  },
  {
   "cell_type": "markdown",
   "id": "7876a9fc",
   "metadata": {},
   "source": [
    "## 2. The power of arguments"
   ]
  },
  {
   "cell_type": "markdown",
   "id": "771d5921",
   "metadata": {},
   "source": [
    "### a) Argument Passing\n",
    "### __Positional Arguments / Required Arguments__"
   ]
  },
  {
   "cell_type": "code",
   "execution_count": 5,
   "id": "2884a072",
   "metadata": {
    "tags": []
   },
   "outputs": [],
   "source": [
    "def f(name, qty, item):\n",
    "    print(f'{name} is eating {qty} {item}')"
   ]
  },
  {
   "cell_type": "markdown",
   "id": "00489019",
   "metadata": {},
   "source": [
    "Insert an argument for the parameters: name, quantity (qty), item."
   ]
  },
  {
   "cell_type": "code",
   "execution_count": 14,
   "id": "d6bfa2d0",
   "metadata": {},
   "outputs": [
    {
     "name": "stdout",
     "output_type": "stream",
     "text": [
      "The dog is eating 2 bananas\n"
     ]
    }
   ],
   "source": [
    "#Example\n",
    "f('The dog',2, 'bananas')"
   ]
  },
  {
   "cell_type": "markdown",
   "id": "a08579b7",
   "metadata": {},
   "source": [
    "The parameters (name, qty and item) behave like **variables** that are defined locally to the function. When the function is called, the arguments that are passed ('The dog', 2 and 'bananas') are bound to the parameters in order, as though by variable assignment\n",
    "- Parameter: name, qty, item\n",
    "- Argument: 'The dog', 2, 'bananas'\n",
    "\n",
    "Positional arguments are **not flexible** that means that the arguments must agree not only **in order** but in **number** as well. That’s the reason positional arguments are also referred to as required arguments. I they are given in the definition of a function you can’t leave any out when calling the function."
   ]
  },
  {
   "cell_type": "markdown",
   "id": "d899042e",
   "metadata": {},
   "source": [
    "### __Keyword Arguments (kwargs)__"
   ]
  },
  {
   "cell_type": "markdown",
   "id": "dbe9b9d9",
   "metadata": {},
   "source": [
    "Arguments can be specified by using a `keyword` and the corresponding `value`. Each `keyword` must match a parameter in the Python function definition. The finction f can be called with  keyword arguments like this:"
   ]
  },
  {
   "cell_type": "code",
   "execution_count": 15,
   "id": "c1bc62f1",
   "metadata": {},
   "outputs": [
    {
     "name": "stdout",
     "output_type": "stream",
     "text": [
      "The dog is eating 2 bananas\n"
     ]
    }
   ],
   "source": [
    "# Compare this line to the Example above\n",
    "f(name='The dog', qty=2, item='bananas')"
   ]
  },
  {
   "cell_type": "markdown",
   "id": "c9ba14a8",
   "metadata": {},
   "source": [
    "Using keyword arguments enables a **flexible** argument order. Each keyword argument explicitly designates a specific parameter by name, so you can specify them in any order"
   ]
  },
  {
   "cell_type": "code",
   "execution_count": 16,
   "id": "f88bbfa1",
   "metadata": {},
   "outputs": [
    {
     "name": "stdout",
     "output_type": "stream",
     "text": [
      "The dog is eating 2 bananas\n"
     ]
    }
   ],
   "source": [
    "# Compare this line to the Example above\n",
    "f(qty=2, item='bananas',name='The dog') # changed order of kwargs"
   ]
  },
  {
   "cell_type": "markdown",
   "id": "8ff21db3",
   "metadata": {},
   "source": [
    "Positional and keyword arguments can be used together. When positional and keyword arguments are both present, all the positional arguments must come first.\n",
    "\n",
    "**TASK:** The following code gives a **SyntaxError**. Please correct it accordingly."
   ]
  },
  {
   "cell_type": "code",
   "execution_count": 7,
   "id": "e7fcf34b",
   "metadata": {},
   "outputs": [
    {
     "ename": "SyntaxError",
     "evalue": "positional argument follows keyword argument (2255683549.py, line 1)",
     "output_type": "error",
     "traceback": [
      "\u001b[0;36m  Input \u001b[0;32mIn [7]\u001b[0;36m\u001b[0m\n\u001b[0;31m    f('The dog', item='bananas', 2) # this gives a SyntaxError\u001b[0m\n\u001b[0m                                  ^\u001b[0m\n\u001b[0;31mSyntaxError\u001b[0m\u001b[0;31m:\u001b[0m positional argument follows keyword argument\n"
     ]
    }
   ],
   "source": [
    "f('The dog', item='bananas', 2) # this gives a SyntaxError"
   ]
  },
  {
   "cell_type": "code",
   "execution_count": 6,
   "id": "568c4b13-884c-40c5-a0ed-dc32facd2f5a",
   "metadata": {
    "tags": []
   },
   "outputs": [
    {
     "name": "stdout",
     "output_type": "stream",
     "text": [
      "The dog is eating 2 bananas\n"
     ]
    }
   ],
   "source": [
    "f('The dog',2, item='bananas')"
   ]
  },
  {
   "cell_type": "markdown",
   "id": "701ff0ea",
   "metadata": {},
   "source": [
    "### __Default Parameters__\n",
    "Default parameters can be specified in a Python function as `name=value`. Parameters defined this way are referred to as default parameters. An example of a function definition with default parameters is shown below:"
   ]
  },
  {
   "cell_type": "code",
   "execution_count": 8,
   "id": "00f9b209",
   "metadata": {
    "tags": []
   },
   "outputs": [],
   "source": [
    "def f(name='The dog', qty=2, item='bananas'):\n",
    "    print(f'{name} is eating {qty} {item}')"
   ]
  },
  {
   "cell_type": "code",
   "execution_count": 9,
   "id": "f82f3d50",
   "metadata": {
    "tags": []
   },
   "outputs": [
    {
     "name": "stdout",
     "output_type": "stream",
     "text": [
      "1: I am lazy using only default values that simply repeats the standard sentence from above\n",
      "The dog is eating 2 bananas\n",
      "2: Want to have more fun\n",
      "The cat is eating 2 apples\n",
      "3: Do not want to use default values at all\n",
      "The fish is eating 4 breads\n"
     ]
    }
   ],
   "source": [
    "print('1: I am lazy using only default values that simply repeats the standard sentence from above')\n",
    "f()\n",
    "\n",
    "print('2: Want to have more fun')\n",
    "f('The cat',item='apples')\n",
    "\n",
    "print('3: Do not want to use default values at all')\n",
    "f('The fish', 4, 'breads') "
   ]
  },
  {
   "cell_type": "markdown",
   "id": "d2c058b2",
   "metadata": {},
   "source": [
    "### __Docstrings__\n",
    "A docstring is used to supply documentation for a function and is always put into **\" \" \" docstring \" \" \"**. It can contain the function’s purpose, what arguments it takes, information about return values, or any other information you think would be useful.\n",
    "\n",
    "The following is an example of a docstring:\n"
   ]
  },
  {
   "cell_type": "markdown",
   "id": "9d13d63f",
   "metadata": {},
   "source": [
    "**TASK:** Write and call a function that uses positional, key word arguments and default parameters. Please describe your function's purpose, the argument it takes and the return values if present. Checkout the docstring using SHIFT + TAB. \n",
    "\n",
    "Watch the correct order when calling the function!"
   ]
  },
  {
   "cell_type": "code",
   "execution_count": 24,
   "id": "53e8f891-9076-4001-bfac-2830c58f4bb9",
   "metadata": {
    "tags": []
   },
   "outputs": [],
   "source": [
    "def f(name='The dog', qty=2, item='bananas'):\n",
    "    \"\"\"\n",
    "    Prints the quantity of an item that is eaten by an organism.\n",
    "    \n",
    "    name: The name of the organism\n",
    "    qty: Quantity of the items\n",
    "    item: Can be a fruit or anything you can think of\n",
    "    \"\"\"\n",
    "    print(f'{name} is eating {qty} {item}')"
   ]
  },
  {
   "cell_type": "code",
   "execution_count": 25,
   "id": "43f102df-409c-4d43-8159-5dce0d62ba75",
   "metadata": {
    "tags": []
   },
   "outputs": [
    {
     "name": "stdout",
     "output_type": "stream",
     "text": [
      "The dog is eating 2 bananas\n"
     ]
    }
   ],
   "source": [
    "f()"
   ]
  },
  {
   "cell_type": "code",
   "execution_count": 28,
   "id": "0219cf81-87c5-4c2d-a6e3-69a5df78a915",
   "metadata": {
    "tags": []
   },
   "outputs": [
    {
     "name": "stdout",
     "output_type": "stream",
     "text": [
      "The cat is eating 2 apples\n"
     ]
    }
   ],
   "source": [
    "f('The cat',item='apples') #use of the default parameters\n",
    "                           #f calls function f and takes qty=2 as the default parameter value during the function call "
   ]
  },
  {
   "cell_type": "markdown",
   "id": "e5eed5b8",
   "metadata": {},
   "source": [
    "## 3. Do I always have to return things?"
   ]
  },
  {
   "cell_type": "markdown",
   "id": "7803822c",
   "metadata": {},
   "source": [
    "### __Return Statement__\n",
    "\n",
    "A return statement in a Python function\n",
    "\n",
    " - immediately terminates the function and passes execution control back to the caller\n",
    " - provides a mechanism by which the function can pass data back to the caller\n",
    " - and this is optional. You do not have to return things!\n"
   ]
  },
  {
   "cell_type": "code",
   "execution_count": 26,
   "id": "61c2706c",
   "metadata": {},
   "outputs": [
    {
     "name": "stdout",
     "output_type": "stream",
     "text": [
      "50\n"
     ]
    }
   ],
   "source": [
    "def f(x):\n",
    "    if x < 0:\n",
    "        return # function exits\n",
    "    if x > 100:\n",
    "        return # function exits\n",
    "    else:\n",
    "        print(x) # function prints x and exits\n",
    "\n",
    "f(-3) # pass argument -3, this is smaller than 0, nothing happens and function exits\n",
    "f(102) # pass argument 102, this is greater than 100,  nothing happens and function exits\n",
    "f(50) # pass argument 50, this is greater than 0 but smaller than 100, thus the statement after \"else:\" is executed "
   ]
  },
  {
   "cell_type": "code",
   "execution_count": 38,
   "id": "60699d60",
   "metadata": {},
   "outputs": [
    {
     "data": {
      "text/plain": [
       "['three', 4]"
      ]
     },
     "execution_count": 38,
     "metadata": {},
     "output_type": "execute_result"
    }
   ],
   "source": [
    "# This function passes data back to the caller\n",
    "def f():\n",
    "    five = 5 # this is data\n",
    "    return ['one', 'two', 'three', 4, five] # here the data (five) and even more data is returned as a list\n",
    "\n",
    "f()[2:4] # data in a list can be indexed or sliced "
   ]
  },
  {
   "cell_type": "markdown",
   "id": "7733f8dc",
   "metadata": {},
   "source": [
    "**TASK:** Write a function that calculates and returns the average of 4 numeric values. Don't forget to include a docstring in the definition.\n",
    "\n",
    "Bonus TASK: Write a function that calculates and returns the average of any number of numeric values."
   ]
  },
  {
   "cell_type": "code",
   "execution_count": 33,
   "id": "7ad78d23-4767-4aa7-bb71-5fb08f703eb6",
   "metadata": {
    "tags": []
   },
   "outputs": [
    {
     "name": "stdout",
     "output_type": "stream",
     "text": [
      "The average of the four number is 2.5\n"
     ]
    }
   ],
   "source": [
    "def calculate_average(a, b, c, d):\n",
    "    \"\"\"This calculates the avaerage of the four numbers\"\"\"\n",
    "    return((a+b+c+d)/4)\n",
    "a = calculate_average(1,2,3,4)\n",
    "print(f\"The average of the four number is {a}\")"
   ]
  },
  {
   "cell_type": "code",
   "execution_count": 34,
   "id": "da514378-ce1c-4b0c-887e-78b42f3ea513",
   "metadata": {
    "tags": []
   },
   "outputs": [
    {
     "name": "stdout",
     "output_type": "stream",
     "text": [
      "The average of [1, 2, 3, 4] is : 2.5\n"
     ]
    }
   ],
   "source": [
    "def calculate_average(*numbers):\n",
    "    total_sum = sum(numbers)\n",
    "    count = len(numbers)\n",
    "    average = total_sum/count\n",
    "    return average\n",
    "number_list = [1,2,3,4]\n",
    "result = calculate_average(*number_list)\n",
    "print(f\"The average of {number_list} is : {result}\")"
   ]
  },
  {
   "cell_type": "markdown",
   "id": "0f8d71d7",
   "metadata": {},
   "source": [
    "## 4. Organizing your project: The main() function\n",
    "In order to organize your individual project it is recommended to follow **best practices**:\n",
    "   1. Put most code into a function (or class - you will learn about classes in a later exercise).\n",
    "   2. Use `__name__` to control execution of your code. Python defines a special variable called `__name__` that contains a string whose value depends on how the code is being used\n",
    "   3. Create a function called main() to contain the code you want to run.\n",
    "   4. Call other functions from main().\n",
    "    \n"
   ]
  },
  {
   "cell_type": "code",
   "execution_count": 1,
   "id": "aaebd1d8",
   "metadata": {},
   "outputs": [
    {
     "name": "stdout",
     "output_type": "stream",
     "text": [
      "Hello World!\n",
      "The crocodile is eating 7 lemons\n"
     ]
    }
   ],
   "source": [
    "def f(name, qty, item):\n",
    "    print(f'{name} is eating {qty} {item}')\n",
    "    \n",
    "def hello_world():\n",
    "    print(\"Hello World!\")\n",
    "\n",
    "\n",
    "\n",
    "def main():\n",
    "    hello_world()\n",
    "    f('The crocodile', qty=7,item='lemons')    \n",
    "\n",
    "\n",
    "if __name__ == \"__main__\":\n",
    "    main()"
   ]
  },
  {
   "cell_type": "markdown",
   "id": "dcf0bfe7",
   "metadata": {},
   "source": [
    "In this code, there is a function called main() that prints the phrase `Hello World` and executes our function `f`! There is also a conditional (or if) statement that checks the value of __name__ and compares it to the string \" __main__ \". \n",
    "When the if statement evaluates to True, the Python interpreter executes main().\n",
    "\n",
    "**Note**: When this code is imported as module into another program the __name__ variable would not be equal to \" __main__ \" anymore and the above defined functions would not be run directly by import but would be available later when you call them for specific tests. This option can be very useful when your programs are getting more complex.\n",
    "\n",
    "Another example:"
   ]
  },
  {
   "cell_type": "code",
   "execution_count": 55,
   "id": "527cbf26",
   "metadata": {},
   "outputs": [
    {
     "name": "stdout",
     "output_type": "stream",
     "text": [
      "This script includes the function to_plural that will add an s to a word.\n",
      "The word Book will be changed to plural\n",
      "Beginning word processing...\n",
      "Word processing done but want to wait a bit as this increases tension...\n",
      "3\n",
      "2\n",
      "1\n",
      "0\n",
      "Hurray!!! Word processing finished. The result IS: \n",
      "Books\n"
     ]
    }
   ],
   "source": [
    "from time import sleep\n",
    "print(\"This script includes the function to_plural that will add an s to a word.\")\n",
    "\n",
    "\n",
    "def to_plural(word):\n",
    "\n",
    "    print(\"Beginning word processing...\")\n",
    "\n",
    "    modified_word = word + \"s\"\n",
    "    print(\"Word processing done but want to wait a bit as this increases tension...\")\n",
    "    # wait some seconds    \n",
    "    for i in reversed(range(0, 4)):\n",
    "        sleep(1) \n",
    "        print(\"%s\\r\" %i)\n",
    "    print(\"Hurray!!! Word processing finished. The result IS: \")\n",
    "\n",
    "    return modified_word\n",
    "\n",
    "\n",
    "def main():\n",
    "    word = \"Book\"\n",
    "\n",
    "    print('The word',word, 'will be changed to plural')\n",
    "\n",
    "    modified_word = to_plural(word) # here the function 'to_plural' is called\n",
    "    print(modified_word)    \n",
    "\n",
    "    \n",
    "if __name__ == \"__main__\":\n",
    "    main()\n",
    "\n"
   ]
  },
  {
   "cell_type": "markdown",
   "id": "b6f1f265",
   "metadata": {},
   "source": [
    "**TASKS:** Write two functions and call them in the main block as done above:\n",
    "Provide a list with 10 random numbers as the only argument.\n",
    "\n",
    "1. The first function \n",
    "- should return a sorted list of the numbers according to size (research on the WWW)\n",
    "- should return the Number of the list items (length of the list = 10)\n",
    "\n",
    "2. The second function \n",
    "- should compute the average of these numbers and wait 5 seconds\n",
    "\n",
    "\n",
    "Don't forget to include a doc_string and to print some output to tell when processes started, finished and when the user has to wait.\n"
   ]
  },
  {
   "cell_type": "code",
   "execution_count": 37,
   "id": "5d8dbdfb-e476-4055-a0fb-d84a4404062c",
   "metadata": {
    "tags": []
   },
   "outputs": [
    {
     "name": "stdout",
     "output_type": "stream",
     "text": [
      "Sorting and counting started.\n",
      "Sorting and counting finished.\n",
      "Sorted Numbers: [3, 11, 15, 16, 36, 60, 73, 79, 83, 99]\n",
      "Number of items: 10\n",
      "Calculating average started.\n",
      "Please wait for 5 seconds...\n",
      "Calculating average finished.\n",
      "Average of Numbers: 47.5\n"
     ]
    }
   ],
   "source": [
    "import random\n",
    "import time\n",
    "\n",
    "def sort_and_count(numbers):\n",
    "    \"\"\"\n",
    "    Sorts a list of numbers and returns the sorted list along with the count of items.\n",
    "\n",
    "    Args:\n",
    "    - numbers (list): List of numbers.\n",
    "\n",
    "    Returns:\n",
    "    - sorted_numbers (list): Sorted list of numbers.\n",
    "    - count (int): Number of items in the list.\n",
    "    \"\"\"\n",
    "    print(\"Sorting and counting started.\")\n",
    "    \n",
    "    sorted_numbers = sorted(numbers)\n",
    "    count = len(numbers)\n",
    "    \n",
    "    print(\"Sorting and counting finished.\")\n",
    "    \n",
    "    return sorted_numbers, count\n",
    "\n",
    "def calculate_average_wait(numbers):\n",
    "    \"\"\"\n",
    "    Computes the average of a list of numbers and waits for 5 seconds.\n",
    "\n",
    "    Args:\n",
    "    - numbers (list): List of numbers.\n",
    "\n",
    "    Returns:\n",
    "    - average (float): Average of the numbers.\n",
    "    \"\"\"\n",
    "    print(\"Calculating average started.\")\n",
    "    \n",
    "    total_sum = sum(numbers)\n",
    "    count = len(numbers)\n",
    "    average = total_sum / count\n",
    "    \n",
    "    # Simulate a 5-second wait\n",
    "    print(\"Please wait for 5 seconds...\")\n",
    "    time.sleep(5)\n",
    "    \n",
    "    print(\"Calculating average finished.\")\n",
    "    \n",
    "    return average\n",
    "\n",
    "if __name__ == \"__main__\":\n",
    "    # Generate a list of 10 random numbers\n",
    "    random_numbers = [random.randint(1, 100) for _ in range(10)]\n",
    "    \n",
    "    # Call the first function\n",
    "    sorted_numbers, count = sort_and_count(random_numbers)\n",
    "    print(f\"Sorted Numbers: {sorted_numbers}\")\n",
    "    print(f\"Number of items: {count}\")\n",
    "    \n",
    "    # Call the second function\n",
    "    average_result = calculate_average_wait(random_numbers)\n",
    "    print(f\"Average of Numbers: {average_result}\")"
   ]
  },
  {
   "cell_type": "markdown",
   "id": "968dc50b",
   "metadata": {},
   "source": [
    "## 5. PEP 8 – Style Guide for Python Code\n",
    "PEP stands for Python Enhancement Proposal. A PEP is a design document providing information to the Python community, or describing a new feature for Python or its processes or environment.\n",
    "\n",
    "PEP 8 gives coding conventions for the Python code. This can be very helpful for writing a clear and structured Python syntax that can be read by others. Not every convention might be clear to you as you have just started to learn Python. But, please remember the PEP guide lines also for future programming tasks and come back when required.\n",
    "\n",
    "Please read the [web page PEP 8](https://peps.python.org/pep-0008/) and decide for each of the following cells whether it is correct or wrong according to the Style Guide and provide a corrected version. There is no need and you should not run the code."
   ]
  },
  {
   "cell_type": "code",
   "execution_count": null,
   "id": "f198f66c",
   "metadata": {},
   "outputs": [],
   "source": [
    "#Example:\n",
    "k = k+ 1 # wrong\n",
    "# correct is \n",
    "k = k + 1"
   ]
  },
  {
   "cell_type": "code",
   "execution_count": null,
   "id": "6caea490",
   "metadata": {},
   "outputs": [],
   "source": [
    "count +=2\n",
    "\n",
    "#correct is\n",
    "count += 2"
   ]
  },
  {
   "cell_type": "code",
   "execution_count": 38,
   "id": "5fb14dbc",
   "metadata": {
    "tags": []
   },
   "outputs": [
    {
     "ename": "TypeError",
     "evalue": "unsupported operand type(s) for *: 'function' and 'int'",
     "output_type": "error",
     "traceback": [
      "\u001b[1;31m---------------------------------------------------------------------------\u001b[0m",
      "\u001b[1;31mTypeError\u001b[0m                                 Traceback (most recent call last)",
      "Cell \u001b[1;32mIn[38], line 1\u001b[0m\n\u001b[1;32m----> 1\u001b[0m f \u001b[38;5;241m=\u001b[39m \u001b[43mf\u001b[49m\u001b[43m \u001b[49m\u001b[38;5;241;43m*\u001b[39;49m\u001b[43m \u001b[49m\u001b[38;5;241;43m3\u001b[39;49m \u001b[38;5;241m-\u001b[39m \u001b[38;5;241m1\u001b[39m\n",
      "\u001b[1;31mTypeError\u001b[0m: unsupported operand type(s) for *: 'function' and 'int'"
     ]
    }
   ],
   "source": [
    "f = f * 3 - 1 #correct\n"
   ]
  },
  {
   "cell_type": "code",
   "execution_count": null,
   "id": "65b1fafb",
   "metadata": {},
   "outputs": [],
   "source": [
    "test = a * b + c * d #correct"
   ]
  },
  {
   "cell_type": "code",
   "execution_count": null,
   "id": "bc77c570",
   "metadata": {},
   "outputs": [],
   "source": [
    "c = (a + b) * (a - b) #correct"
   ]
  },
  {
   "cell_type": "code",
   "execution_count": null,
   "id": "0729cefe",
   "metadata": {},
   "outputs": [],
   "source": [
    "import pandas, numpy\n",
    "\n",
    "#correct code is\n",
    "import pandas as pd\n",
    "import numpy as np"
   ]
  },
  {
   "cell_type": "code",
   "execution_count": null,
   "id": "0593b2c2",
   "metadata": {},
   "outputs": [],
   "source": [
    "f          = 56 \n",
    "z          = 88 \n",
    "objectives = 100 \n",
    "\n",
    "#correct code is\n",
    "f = 56\n",
    "z = 88\n",
    "objectives = 100"
   ]
  },
  {
   "cell_type": "code",
   "execution_count": null,
   "id": "0de61893",
   "metadata": {},
   "outputs": [],
   "source": [
    "if value == 1:\n",
    "     a = 6\n",
    "          print(a)\n",
    "else:\n",
    "     print(\"not 1\")\n",
    "        \n",
    "#correct code is\n",
    "if value == 1:\n",
    "    a = 6\n",
    "    print(a)\n",
    "else:\n",
    "    print(\"not 1\")\n"
   ]
  },
  {
   "cell_type": "markdown",
   "id": "7841e96c",
   "metadata": {},
   "source": [
    "### __After comleting this exercise you should be able to__\n",
    "\n",
    "- understand the structure of built-in Python functions\n",
    "- write a simple function that returns data using different types of arguments and including a docstring\n",
    "- write a main script that calls multiple functions\n",
    "- apply some coding conventions to your code \n"
   ]
  }
 ],
 "metadata": {
  "kernelspec": {
   "display_name": "Python 3 (ipykernel)",
   "language": "python",
   "name": "python3"
  },
  "language_info": {
   "codemirror_mode": {
    "name": "ipython",
    "version": 3
   },
   "file_extension": ".py",
   "mimetype": "text/x-python",
   "name": "python",
   "nbconvert_exporter": "python",
   "pygments_lexer": "ipython3",
   "version": "3.11.5"
  }
 },
 "nbformat": 4,
 "nbformat_minor": 5
}
